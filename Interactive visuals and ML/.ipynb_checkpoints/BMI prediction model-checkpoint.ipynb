{
 "cells": [
  {
   "cell_type": "markdown",
   "id": "1ad6eb5f",
   "metadata": {},
   "source": [
    "# <font color = \"purple\"> Exploratory Data Analysis </font>"
   ]
  },
  {
   "cell_type": "code",
   "execution_count": 17,
   "id": "a796a894",
   "metadata": {},
   "outputs": [
    {
     "data": {
      "text/html": [
       "<div>\n",
       "<style scoped>\n",
       "    .dataframe tbody tr th:only-of-type {\n",
       "        vertical-align: middle;\n",
       "    }\n",
       "\n",
       "    .dataframe tbody tr th {\n",
       "        vertical-align: top;\n",
       "    }\n",
       "\n",
       "    .dataframe thead th {\n",
       "        text-align: right;\n",
       "    }\n",
       "</style>\n",
       "<table border=\"1\" class=\"dataframe\">\n",
       "  <thead>\n",
       "    <tr style=\"text-align: right;\">\n",
       "      <th></th>\n",
       "      <th>Timestamp</th>\n",
       "      <th>What is your age</th>\n",
       "      <th>whats your weight</th>\n",
       "      <th>whats your height ft</th>\n",
       "      <th>Your gender</th>\n",
       "      <th>weight (kgs)</th>\n",
       "      <th>height (m)</th>\n",
       "      <th>Age</th>\n",
       "      <th>BMI</th>\n",
       "    </tr>\n",
       "  </thead>\n",
       "  <tbody>\n",
       "    <tr>\n",
       "      <th>0</th>\n",
       "      <td>6/6/2022 15:33</td>\n",
       "      <td>23</td>\n",
       "      <td>62</td>\n",
       "      <td>5.8</td>\n",
       "      <td>Male</td>\n",
       "      <td>62</td>\n",
       "      <td>1.77</td>\n",
       "      <td>23</td>\n",
       "      <td>19.789971</td>\n",
       "    </tr>\n",
       "    <tr>\n",
       "      <th>1</th>\n",
       "      <td>6/6/2022 20:13</td>\n",
       "      <td>23</td>\n",
       "      <td>70kgs</td>\n",
       "      <td>5.7</td>\n",
       "      <td>Male</td>\n",
       "      <td>70</td>\n",
       "      <td>1.74</td>\n",
       "      <td>23</td>\n",
       "      <td>23.120624</td>\n",
       "    </tr>\n",
       "    <tr>\n",
       "      <th>2</th>\n",
       "      <td>6/6/2022 20:15</td>\n",
       "      <td>24</td>\n",
       "      <td>74</td>\n",
       "      <td>5.2</td>\n",
       "      <td>Female</td>\n",
       "      <td>74</td>\n",
       "      <td>1.58</td>\n",
       "      <td>24</td>\n",
       "      <td>29.642685</td>\n",
       "    </tr>\n",
       "    <tr>\n",
       "      <th>3</th>\n",
       "      <td>6/6/2022 20:16</td>\n",
       "      <td>22</td>\n",
       "      <td>53kgs</td>\n",
       "      <td>5.1</td>\n",
       "      <td>Female</td>\n",
       "      <td>53</td>\n",
       "      <td>1.55</td>\n",
       "      <td>22</td>\n",
       "      <td>22.060354</td>\n",
       "    </tr>\n",
       "    <tr>\n",
       "      <th>4</th>\n",
       "      <td>6/6/2022 20:19</td>\n",
       "      <td>22</td>\n",
       "      <td>53</td>\n",
       "      <td>5’3</td>\n",
       "      <td>Female</td>\n",
       "      <td>53</td>\n",
       "      <td>1.62</td>\n",
       "      <td>22</td>\n",
       "      <td>20.195092</td>\n",
       "    </tr>\n",
       "  </tbody>\n",
       "</table>\n",
       "</div>"
      ],
      "text/plain": [
       "        Timestamp What is your age whats your weight whats your height ft  \\\n",
       "0  6/6/2022 15:33               23                62                  5.8   \n",
       "1  6/6/2022 20:13               23             70kgs                  5.7   \n",
       "2  6/6/2022 20:15               24                74                  5.2   \n",
       "3  6/6/2022 20:16               22             53kgs                  5.1   \n",
       "4  6/6/2022 20:19               22                53                  5’3   \n",
       "\n",
       "  Your gender  weight (kgs)  height (m)  Age        BMI  \n",
       "0        Male            62        1.77   23  19.789971  \n",
       "1        Male            70        1.74   23  23.120624  \n",
       "2      Female            74        1.58   24  29.642685  \n",
       "3      Female            53        1.55   22  22.060354  \n",
       "4      Female            53        1.62   22  20.195092  "
      ]
     },
     "execution_count": 17,
     "metadata": {},
     "output_type": "execute_result"
    }
   ],
   "source": [
    "# Read the data\n",
    "import pandas as pd\n",
    "df = pd.read_csv(r\"C:\\Users\\Admin\\Downloads\\BMI (Responses) - Form Responses 1.csv\")\n",
    "df.head()"
   ]
  },
  {
   "cell_type": "code",
   "execution_count": 18,
   "id": "64ba9248",
   "metadata": {},
   "outputs": [
    {
     "data": {
      "text/plain": [
       "Index(['Timestamp', 'What is your age', 'whats your weight',\n",
       "       'whats your height ft', 'Your gender', 'weight (kgs)', 'height (m)',\n",
       "       'Age', 'BMI'],\n",
       "      dtype='object')"
      ]
     },
     "execution_count": 18,
     "metadata": {},
     "output_type": "execute_result"
    }
   ],
   "source": [
    "# Column names\n",
    "df.columns"
   ]
  },
  {
   "cell_type": "code",
   "execution_count": 19,
   "id": "9a725b06",
   "metadata": {},
   "outputs": [
    {
     "data": {
      "text/plain": [
       "(19, 9)"
      ]
     },
     "execution_count": 19,
     "metadata": {},
     "output_type": "execute_result"
    }
   ],
   "source": [
    "# Number of rows and columns\n",
    "df.shape"
   ]
  },
  {
   "cell_type": "code",
   "execution_count": 20,
   "id": "61fa89db",
   "metadata": {},
   "outputs": [
    {
     "data": {
      "text/html": [
       "<div>\n",
       "<style scoped>\n",
       "    .dataframe tbody tr th:only-of-type {\n",
       "        vertical-align: middle;\n",
       "    }\n",
       "\n",
       "    .dataframe tbody tr th {\n",
       "        vertical-align: top;\n",
       "    }\n",
       "\n",
       "    .dataframe thead th {\n",
       "        text-align: right;\n",
       "    }\n",
       "</style>\n",
       "<table border=\"1\" class=\"dataframe\">\n",
       "  <thead>\n",
       "    <tr style=\"text-align: right;\">\n",
       "      <th></th>\n",
       "      <th>weight (kgs)</th>\n",
       "      <th>height (m)</th>\n",
       "      <th>Age</th>\n",
       "      <th>BMI</th>\n",
       "    </tr>\n",
       "  </thead>\n",
       "  <tbody>\n",
       "    <tr>\n",
       "      <th>count</th>\n",
       "      <td>19.000000</td>\n",
       "      <td>19.000000</td>\n",
       "      <td>19.000000</td>\n",
       "      <td>19.000000</td>\n",
       "    </tr>\n",
       "    <tr>\n",
       "      <th>mean</th>\n",
       "      <td>69.526316</td>\n",
       "      <td>1.695789</td>\n",
       "      <td>26.421053</td>\n",
       "      <td>24.157668</td>\n",
       "    </tr>\n",
       "    <tr>\n",
       "      <th>std</th>\n",
       "      <td>11.767981</td>\n",
       "      <td>0.101670</td>\n",
       "      <td>10.473861</td>\n",
       "      <td>3.365516</td>\n",
       "    </tr>\n",
       "    <tr>\n",
       "      <th>min</th>\n",
       "      <td>53.000000</td>\n",
       "      <td>1.520000</td>\n",
       "      <td>19.000000</td>\n",
       "      <td>19.789971</td>\n",
       "    </tr>\n",
       "    <tr>\n",
       "      <th>25%</th>\n",
       "      <td>61.500000</td>\n",
       "      <td>1.615000</td>\n",
       "      <td>22.000000</td>\n",
       "      <td>22.042338</td>\n",
       "    </tr>\n",
       "    <tr>\n",
       "      <th>50%</th>\n",
       "      <td>69.000000</td>\n",
       "      <td>1.710000</td>\n",
       "      <td>23.000000</td>\n",
       "      <td>22.395413</td>\n",
       "    </tr>\n",
       "    <tr>\n",
       "      <th>75%</th>\n",
       "      <td>75.500000</td>\n",
       "      <td>1.770000</td>\n",
       "      <td>24.000000</td>\n",
       "      <td>26.042089</td>\n",
       "    </tr>\n",
       "    <tr>\n",
       "      <th>max</th>\n",
       "      <td>98.000000</td>\n",
       "      <td>1.880000</td>\n",
       "      <td>59.000000</td>\n",
       "      <td>31.280922</td>\n",
       "    </tr>\n",
       "  </tbody>\n",
       "</table>\n",
       "</div>"
      ],
      "text/plain": [
       "       weight (kgs)  height (m)        Age        BMI\n",
       "count     19.000000   19.000000  19.000000  19.000000\n",
       "mean      69.526316    1.695789  26.421053  24.157668\n",
       "std       11.767981    0.101670  10.473861   3.365516\n",
       "min       53.000000    1.520000  19.000000  19.789971\n",
       "25%       61.500000    1.615000  22.000000  22.042338\n",
       "50%       69.000000    1.710000  23.000000  22.395413\n",
       "75%       75.500000    1.770000  24.000000  26.042089\n",
       "max       98.000000    1.880000  59.000000  31.280922"
      ]
     },
     "execution_count": 20,
     "metadata": {},
     "output_type": "execute_result"
    }
   ],
   "source": [
    "# Summary statistics\n",
    "df.describe()"
   ]
  },
  {
   "cell_type": "code",
   "execution_count": 21,
   "id": "43f77cb5",
   "metadata": {},
   "outputs": [
    {
     "name": "stdout",
     "output_type": "stream",
     "text": [
      "<class 'pandas.core.frame.DataFrame'>\n",
      "RangeIndex: 19 entries, 0 to 18\n",
      "Data columns (total 9 columns):\n",
      " #   Column                Non-Null Count  Dtype  \n",
      "---  ------                --------------  -----  \n",
      " 0   Timestamp             19 non-null     object \n",
      " 1   What is your age      19 non-null     object \n",
      " 2   whats your weight     19 non-null     object \n",
      " 3   whats your height ft  19 non-null     object \n",
      " 4   Your gender           19 non-null     object \n",
      " 5   weight (kgs)          19 non-null     int64  \n",
      " 6   height (m)            19 non-null     float64\n",
      " 7   Age                   19 non-null     int64  \n",
      " 8   BMI                   19 non-null     float64\n",
      "dtypes: float64(2), int64(2), object(5)\n",
      "memory usage: 1.5+ KB\n"
     ]
    }
   ],
   "source": [
    "# The column types\n",
    "df.info()"
   ]
  },
  {
   "cell_type": "code",
   "execution_count": 22,
   "id": "e219a67c",
   "metadata": {},
   "outputs": [
    {
     "data": {
      "text/plain": [
       "Timestamp               0\n",
       "What is your age        0\n",
       "whats your weight       0\n",
       "whats your height ft    0\n",
       "Your gender             0\n",
       "weight (kgs)            0\n",
       "height (m)              0\n",
       "Age                     0\n",
       "BMI                     0\n",
       "dtype: int64"
      ]
     },
     "execution_count": 22,
     "metadata": {},
     "output_type": "execute_result"
    }
   ],
   "source": [
    "# checking for nulls\n",
    "df.isnull().sum()"
   ]
  },
  {
   "cell_type": "markdown",
   "id": "d6ebad1f",
   "metadata": {},
   "source": [
    "## Visualization"
   ]
  },
  {
   "cell_type": "code",
   "execution_count": 23,
   "id": "b5ebf847",
   "metadata": {},
   "outputs": [
    {
     "data": {
      "text/plain": [
       "<AxesSubplot:xlabel='BMI'>"
      ]
     },
     "execution_count": 23,
     "metadata": {},
     "output_type": "execute_result"
    },
    {
     "data": {
      "image/png": "[encoded data removed]",
      "text/plain": [
       "<Figure size 432x288 with 1 Axes>"
      ]
     },
     "metadata": {},
     "output_type": "display_data"
    }
   ],
   "source": [
    "import seaborn as sns\n",
    "import matplotlib.pyplot as plt\n",
    "# BMI Box plot\n",
    "sns.set_style(\"whitegrid\")  \n",
    "sns.boxplot(x = 'BMI', data = df)"
   ]
  },
  {
   "cell_type": "code",
   "execution_count": 28,
   "id": "817ef63d",
   "metadata": {},
   "outputs": [
    {
     "data": {
      "image/png": "[encoded data removed]",
      "text/plain": [
       "<Figure size 648x360 with 1 Axes>"
      ]
     },
     "metadata": {},
     "output_type": "display_data"
    }
   ],
   "source": [
    "# Scatter plot\n",
    "plt.figure(figsize=(9,5))\n",
    "plt.xlabel(\"BMI\")\n",
    "plt.ylabel(\"Age\")\n",
    "plt.scatter(df[\"BMI\"], df[\"Age\"], s=df[\"Age\"], c=\"red\")\n",
    "plt.show()"
   ]
  },
  {
   "cell_type": "markdown",
   "id": "6ce8df23",
   "metadata": {},
   "source": [
    "## Building a linear regression model"
   ]
  },
  {
   "cell_type": "code",
   "execution_count": 34,
   "id": "ec227177",
   "metadata": {},
   "outputs": [
    {
     "data": {
      "text/plain": [
       "Index(['weight (kgs)', 'height (m)', 'Age', 'BMI'], dtype='object')"
      ]
     },
     "execution_count": 34,
     "metadata": {},
     "output_type": "execute_result"
    }
   ],
   "source": [
    "df = df.select_dtypes(include = [\"int64\",\"float64\"])\n",
    "df.columns"
   ]
  },
  {
   "cell_type": "code",
   "execution_count": 37,
   "id": "87973212",
   "metadata": {},
   "outputs": [
    {
     "name": "stdout",
     "output_type": "stream",
     "text": [
      "(19, 3)\n",
      "(19,)\n"
     ]
    },
    {
     "name": "stderr",
     "output_type": "stream",
     "text": [
      "C:\\Users\\Admin\\AppData\\Local\\Temp\\ipykernel_7488\\1948808374.py:2: FutureWarning: In a future version of pandas all arguments of DataFrame.drop except for the argument 'labels' will be keyword-only.\n",
      "  x = df.drop(\"BMI\", 1)\n"
     ]
    }
   ],
   "source": [
    "# identify the x and y\n",
    "x = df.drop(\"BMI\", 1)\n",
    "y = df[\"BMI\"]\n",
    "print(x.shape)\n",
    "\n",
    "print(y.shape)"
   ]
  },
  {
   "cell_type": "code",
   "execution_count": 38,
   "id": "87f695c8",
   "metadata": {},
   "outputs": [
    {
     "name": "stdout",
     "output_type": "stream",
     "text": [
      "(19, 3) (19,) (13, 3) (6, 3) (13,) (6,)\n"
     ]
    }
   ],
   "source": [
    "# create a train test split\n",
    "from sklearn.model_selection import train_test_split\n",
    "x_train, x_test, y_train, y_test = train_test_split(x, y, test_size=0.3)\n",
    "print(x.shape, y.shape, x_train.shape, x_test.shape, y_train.shape, y_test.shape)"
   ]
  },
  {
   "cell_type": "code",
   "execution_count": 39,
   "id": "d77fa406",
   "metadata": {},
   "outputs": [],
   "source": [
    "# initialize a regression model\n",
    "from sklearn.linear_model import LinearRegression\n",
    "from sklearn.svm import LinearSVR\n",
    "from sklearn.ensemble import GradientBoostingRegressor as GBR\n",
    "model = LinearRegression()"
   ]
  },
  {
   "cell_type": "code",
   "execution_count": 40,
   "id": "a90573c7",
   "metadata": {},
   "outputs": [],
   "source": [
    "model1 = LinearSVR()\n",
    "model1 = GBR()"
   ]
  },
  {
   "cell_type": "code",
   "execution_count": 41,
   "id": "7462db7a",
   "metadata": {},
   "outputs": [
    {
     "data": {
      "text/plain": [
       "GradientBoostingRegressor()"
      ]
     },
     "execution_count": 41,
     "metadata": {},
     "output_type": "execute_result"
    }
   ],
   "source": [
    "# train the model\n",
    "model.fit(x_train, y_train)\n",
    "model1.fit(x_train, y_train)"
   ]
  },
  {
   "cell_type": "code",
   "execution_count": 43,
   "id": "c874cc88",
   "metadata": {},
   "outputs": [
    {
     "data": {
      "text/plain": [
       "array([28.72628373, 21.60965338, 23.86343387, 23.56671785, 20.29885769,\n",
       "       25.62833574])"
      ]
     },
     "execution_count": 43,
     "metadata": {},
     "output_type": "execute_result"
    }
   ],
   "source": [
    "# test the mode\n",
    "from sklearn.metrics import mean_absolute_error as mae\n",
    "pred = model1.predict(x_test)\n",
    "pred[:10]"
   ]
  },
  {
   "cell_type": "code",
   "execution_count": 44,
   "id": "1c45ed61",
   "metadata": {},
   "outputs": [
    {
     "data": {
      "text/plain": [
       "1.88640609555313"
      ]
     },
     "execution_count": 44,
     "metadata": {},
     "output_type": "execute_result"
    }
   ],
   "source": [
    "mae(pred, y_test)"
   ]
  }
 ],
 "metadata": {
  "kernelspec": {
   "display_name": "Python 3 (ipykernel)",
   "language": "python",
   "name": "python3"
  },
  "language_info": {
   "codemirror_mode": {
    "name": "ipython",
    "version": 3
   },
   "file_extension": ".py",
   "mimetype": "text/x-python",
   "name": "python",
   "nbconvert_exporter": "python",
   "pygments_lexer": "ipython3",
   "version": "3.10.4"
  }
 },
 "nbformat": 4,
 "nbformat_minor": 5
}
