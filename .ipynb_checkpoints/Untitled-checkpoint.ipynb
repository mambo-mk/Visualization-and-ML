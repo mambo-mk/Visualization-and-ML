{
 "cells": [
  {
   "cell_type": "code",
   "execution_count": null,
   "id": "4700d115",
   "metadata": {},
   "outputs": [],
   "source": [
    "expenses = {\n",
    "    \"Transport\":[300, 300, 0, 0, 200, 400, 0, 0, 0, 100, 300, ],\n",
    "    \"Transport\":[random.randint(1,4)*100 for i in range(30)],\n",
    "    \"dates\":[random.choice([2000,5000,100]) for i in range(30)],\n",
    "    \"Food\":[random.randint(1,3)*100 for i in range(30)],\n",
    "    \"Entertainment\":[random.choice([500,1200,300,560,780,200]) for i in range(30)]\n",
    "    \n",
    "}"
   ]
  }
 ],
 "metadata": {
  "kernelspec": {
   "display_name": "Python 3 (ipykernel)",
   "language": "python",
   "name": "python3"
  },
  "language_info": {
   "codemirror_mode": {
    "name": "ipython",
    "version": 3
   },
   "file_extension": ".py",
   "mimetype": "text/x-python",
   "name": "python",
   "nbconvert_exporter": "python",
   "pygments_lexer": "ipython3",
   "version": "3.10.4"
  }
 },
 "nbformat": 4,
 "nbformat_minor": 5
}
