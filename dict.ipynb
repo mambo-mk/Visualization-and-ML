{
 "cells": [
  {
   "cell_type": "markdown",
   "metadata": {},
   "source": [
    "## 1. <p> You have now a great grasp of lists and dictionaries, this exercise is to just help you practise more</p>"
   ]
  },
  {
   "cell_type": "code",
   "execution_count": 2,
   "metadata": {},
   "outputs": [],
   "source": [
    "GDP = {\n",
    "    \"Kenya\":{1993:300,2021:700},\n",
    "    \"Tanzania\":{1993:200,2021:900},\n",
    "    \"Uganda\":{1993:100,2021:650},\n",
    "}"
   ]
  },
  {
   "cell_type": "code",
   "execution_count": 8,
   "metadata": {},
   "outputs": [
    {
     "data": {
      "text/plain": [
       "'Tanzania'"
      ]
     },
     "execution_count": 8,
     "metadata": {},
     "output_type": "execute_result"
    }
   ],
   "source": [
    "# extract the country with the highest GDP in 1993 and 2021\n",
    "list(GDP.keys())[0]\n",
    "# extract the GDP\n",
    "GDP[\"Kenya\"][1993]\n",
    "# what was the GDP between the highest GDP and Lowest GDP\n",
    "GDP['Tanzania'][2021] - GDP[\"Uganda\"][1993]\n",
    "# which country had the highest improvement\n",
    "list(GDP.keys())[1]\n",
    "# what was the percentage improvement"
   ]
  },
  {
   "cell_type": "code",
   "execution_count": 11,
   "metadata": {},
   "outputs": [
    {
     "data": {
      "text/plain": [
       "350.0"
      ]
     },
     "execution_count": 11,
     "metadata": {},
     "output_type": "execute_result"
    }
   ],
   "source": [
    "maximum = (GDP[\"Tanzania\"][2021] - GDP[\"Tanzania\"][1993]) / GDP[\"Tanzania\"][1993] * 100\n",
    "maximum\n"
   ]
  },
  {
   "cell_type": "code",
   "execution_count": 22,
   "metadata": {},
   "outputs": [
    {
     "data": {
      "text/plain": [
       "[{1993: 300, 2021: 700}, {1993: 200, 2021: 900}, {1993: 100, 2021: 650}]"
      ]
     },
     "execution_count": 22,
     "metadata": {},
     "output_type": "execute_result"
    }
   ],
   "source": [
    "# create a list of all countries[ extract these from the dictionary above]\n",
    "GDP.keys()\n",
    "# extract Kenya # extract Kenya and TZ using indexing and slicing\n",
    "list(GDP.keys())[:2]\n",
    "# create a list of all the years\n",
    "list(GDP.values())\n",
    "# extract 1993 using indexing\n",
    "list(GDP.values())\n",
    "# create a list of all the GDP for these years\n",
    "# extract Kenyas GDPs only\n"
   ]
  },
  {
   "cell_type": "code",
   "execution_count": 17,
   "metadata": {},
   "outputs": [
    {
     "data": {
      "text/html": [
       "<div>\n",
       "<style scoped>\n",
       "    .dataframe tbody tr th:only-of-type {\n",
       "        vertical-align: middle;\n",
       "    }\n",
       "\n",
       "    .dataframe tbody tr th {\n",
       "        vertical-align: top;\n",
       "    }\n",
       "\n",
       "    .dataframe thead th {\n",
       "        text-align: right;\n",
       "    }\n",
       "</style>\n",
       "<table border=\"1\" class=\"dataframe\">\n",
       "  <thead>\n",
       "    <tr style=\"text-align: right;\">\n",
       "      <th></th>\n",
       "      <th>Kenya</th>\n",
       "      <th>Tanzania</th>\n",
       "      <th>Uganda</th>\n",
       "    </tr>\n",
       "  </thead>\n",
       "  <tbody>\n",
       "    <tr>\n",
       "      <th>1993</th>\n",
       "      <td>300</td>\n",
       "      <td>200</td>\n",
       "      <td>100</td>\n",
       "    </tr>\n",
       "    <tr>\n",
       "      <th>2021</th>\n",
       "      <td>700</td>\n",
       "      <td>900</td>\n",
       "      <td>650</td>\n",
       "    </tr>\n",
       "  </tbody>\n",
       "</table>\n",
       "</div>"
      ],
      "text/plain": [
       "      Kenya  Tanzania  Uganda\n",
       "1993    300       200     100\n",
       "2021    700       900     650"
      ]
     },
     "execution_count": 17,
     "metadata": {},
     "output_type": "execute_result"
    }
   ],
   "source": [
    "#!pip install pandas\n",
    "import pandas as pd # this is how you import a library ( pandas is a python library for dealing with tables)\n",
    "# tables are more complex data structures that are very similar to dictionaries\n",
    "df = pd.DataFrame(GDP)\n",
    "df.head() # this is the tabular structure of the data \n",
    "# df.T"
   ]
  },
  {
   "cell_type": "code",
   "execution_count": 20,
   "metadata": {},
   "outputs": [
    {
     "data": {
      "text/plain": [
       "array([<AxesSubplot:ylabel='1993'>, <AxesSubplot:ylabel='2021'>],\n",
       "      dtype=object)"
      ]
     },
     "execution_count": 20,
     "metadata": {},
     "output_type": "execute_result"
    },
    {
     "data": {
      "image/png": "[encoded data removed]",
      "text/plain": [
       "<Figure size 720x576 with 2 Axes>"
      ]
     },
     "metadata": {},
     "output_type": "display_data"
    }
   ],
   "source": [
    "df.T.plot(kind = \"pie\",\n",
    "subplots = True, # create subplots\n",
    "figsize = (10,8),# select size of figure\n",
    "colors = [\"pink\",\"teal\",\"turquoise\"],# select custom colors\n",
    "autopct='%1.1f%%',# get the percentages\n",
    "explode = [0,0,0.05], title = \"East African countries GDP over time\")# slice Uganda only \n",
    "\n",
    " # this is how you can plot this data in python ( we shall go through this later)\n",
    "# for now do more research on pandas  and dictionaries\n",
    "# .T here means Transpose the data but dont worry about that"
   ]
  },
  {
   "cell_type": "code",
   "execution_count": null,
   "metadata": {},
   "outputs": [],
   "source": []
  }
 ],
 "metadata": {
  "interpreter": {
   "hash": "218c3cd3c08e252441301ecc9f5e544c7ede4d99361b2d91c5336a3d680663a8"
  },
  "kernelspec": {
   "display_name": "Python 3 (ipykernel)",
   "language": "python",
   "name": "python3"
  },
  "language_info": {
   "codemirror_mode": {
    "name": "ipython",
    "version": 3
   },
   "file_extension": ".py",
   "mimetype": "text/x-python",
   "name": "python",
   "nbconvert_exporter": "python",
   "pygments_lexer": "ipython3",
   "version": "3.10.4"
  }
 },
 "nbformat": 4,
 "nbformat_minor": 2
}
