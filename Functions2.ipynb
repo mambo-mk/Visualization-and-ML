{
 "cells": [
  {
   "cell_type": "code",
   "execution_count": 1,
   "id": "7f882476",
   "metadata": {},
   "outputs": [
    {
     "name": "stdout",
     "output_type": "stream",
     "text": [
      "John 88\n",
      "Biwott 101\n",
      "Mambo 140\n"
     ]
    }
   ],
   "source": [
    "# functions that work on strings\n",
    "\n",
    "def string_cleaner(string):\n",
    "    return string.lower().split()\n",
    "string_cleaner(\"This is Mambo, he is 10 yrs\")\n",
    "\n",
    "# functions that work on lists\n",
    "\n",
    "def marks(name,english,math):\n",
    "    for nam,eng,math in zip(name,english,math):\n",
    "        print(nam.capitalize(),eng+math)\n",
    "marks([\"john\",\"biwott\",\"mambo\"],[12,78,97],[76,23,43])"
   ]
  },
  {
   "cell_type": "code",
   "execution_count": 2,
   "id": "5d481505",
   "metadata": {},
   "outputs": [
    {
     "name": "stderr",
     "output_type": "stream",
     "text": [
      "C:\\Users\\Admin\\AppData\\Local\\Programs\\Python\\Python310\\lib\\site-packages\\seaborn\\_decorators.py:36: FutureWarning: Pass the following variables as keyword args: x, y. From version 0.12, the only valid positional argument will be `data`, and passing other arguments without an explicit keyword will result in an error or misinterpretation.\n",
      "  warnings.warn(\n"
     ]
    },
    {
     "data": {
      "image/png": "[encoded data removed]",
      "text/plain": [
       "<Figure size 432x288 with 1 Axes>"
      ]
     },
     "metadata": {
      "needs_background": "light"
     },
     "output_type": "display_data"
    }
   ],
   "source": [
    "# have a function that creates plots\n",
    "import seaborn as sns\n",
    "import matplotlib.pyplot as plt\n",
    "\n",
    "def barplot(x,y):\n",
    "    plt.figure()\n",
    "    sns.barplot(x,y)\n",
    "    return plt.show()\n",
    "barplot([\"jim\",\"alice\",\"jk\"],[23,76,90])\n",
    "    "
   ]
  },
  {
   "cell_type": "markdown",
   "id": "f31ee725",
   "metadata": {},
   "source": [
    "# Finances"
   ]
  },
  {
   "cell_type": "code",
   "execution_count": 17,
   "id": "49b2e400",
   "metadata": {},
   "outputs": [],
   "source": [
    "import random\n",
    "# create a real dictionary of expenses that you had for MArch 2022\n",
    "expenses = {\n",
    "    \"Airtime\":[random.choice([23,70,100,32]) for i in range(30)],\n",
    "    \"Transport\":[random.randint(1,4)*100 for i in range(30)],\n",
    "    \"dates\":[random.choice([2000,5000,100]) for i in range(30)],\n",
    "    \"Food\":[random.randint(1,3)*100 for i in range(30)],\n",
    "    \"Entertainment\":[random.choice([500,1200,300,560,780,200]) for i in range(30)]\n",
    "}"
   ]
  },
  {
   "cell_type": "code",
   "execution_count": 71,
   "id": "3bdf47f5",
   "metadata": {},
   "outputs": [
    {
     "data": {
      "text/html": [
       "<div>\n",
       "<style scoped>\n",
       "    .dataframe tbody tr th:only-of-type {\n",
       "        vertical-align: middle;\n",
       "    }\n",
       "\n",
       "    .dataframe tbody tr th {\n",
       "        vertical-align: top;\n",
       "    }\n",
       "\n",
       "    .dataframe thead th {\n",
       "        text-align: right;\n",
       "    }\n",
       "</style>\n",
       "<table border=\"1\" class=\"dataframe\">\n",
       "  <thead>\n",
       "    <tr style=\"text-align: right;\">\n",
       "      <th></th>\n",
       "      <th>Transport</th>\n",
       "      <th>Airtime</th>\n",
       "      <th>dates</th>\n",
       "      <th>Food</th>\n",
       "      <th>Entertainment</th>\n",
       "      <th>Traveling</th>\n",
       "      <th>Clothing</th>\n",
       "    </tr>\n",
       "  </thead>\n",
       "  <tbody>\n",
       "    <tr>\n",
       "      <th>0</th>\n",
       "      <td>300</td>\n",
       "      <td>20</td>\n",
       "      <td>0</td>\n",
       "      <td>0</td>\n",
       "      <td>0</td>\n",
       "      <td>0</td>\n",
       "      <td>0</td>\n",
       "    </tr>\n",
       "    <tr>\n",
       "      <th>1</th>\n",
       "      <td>300</td>\n",
       "      <td>50</td>\n",
       "      <td>0</td>\n",
       "      <td>0</td>\n",
       "      <td>0</td>\n",
       "      <td>0</td>\n",
       "      <td>0</td>\n",
       "    </tr>\n",
       "    <tr>\n",
       "      <th>2</th>\n",
       "      <td>0</td>\n",
       "      <td>50</td>\n",
       "      <td>0</td>\n",
       "      <td>100</td>\n",
       "      <td>0</td>\n",
       "      <td>0</td>\n",
       "      <td>0</td>\n",
       "    </tr>\n",
       "    <tr>\n",
       "      <th>3</th>\n",
       "      <td>0</td>\n",
       "      <td>100</td>\n",
       "      <td>0</td>\n",
       "      <td>0</td>\n",
       "      <td>0</td>\n",
       "      <td>0</td>\n",
       "      <td>0</td>\n",
       "    </tr>\n",
       "    <tr>\n",
       "      <th>4</th>\n",
       "      <td>200</td>\n",
       "      <td>120</td>\n",
       "      <td>0</td>\n",
       "      <td>300</td>\n",
       "      <td>1000</td>\n",
       "      <td>500</td>\n",
       "      <td>0</td>\n",
       "    </tr>\n",
       "  </tbody>\n",
       "</table>\n",
       "</div>"
      ],
      "text/plain": [
       "   Transport  Airtime  dates  Food  Entertainment  Traveling  Clothing\n",
       "0        300       20      0     0              0          0         0\n",
       "1        300       50      0     0              0          0         0\n",
       "2          0       50      0   100              0          0         0\n",
       "3          0      100      0     0              0          0         0\n",
       "4        200      120      0   300           1000        500         0"
      ]
     },
     "execution_count": 71,
     "metadata": {},
     "output_type": "execute_result"
    }
   ],
   "source": [
    "import pandas as pd\n",
    "table = pd.DataFrame(expenses)\n",
    "table.head()"
   ]
  },
  {
   "cell_type": "code",
   "execution_count": null,
   "id": "7d156a7d",
   "metadata": {},
   "outputs": [],
   "source": [
    "# sum of each expense\n",
    "# average daily spending\n",
    "# total monthly expense\n",
    "# highest expense etc"
   ]
  },
  {
   "cell_type": "code",
   "execution_count": 9,
   "id": "1c700c43",
   "metadata": {},
   "outputs": [],
   "source": [
    "expenses = {\n",
    "    \"Transport\":[300, 300, 0, 0, 200, 400, 0, 0, 0, 100, 300, 0, 0, 300, 400, 0, 200, 0, 0, 300, 300, 0, 0, 300, 0, 200, 400, 300, 0, 200],\n",
    "    \"Airtime\":[20, 50, 50, 100, 120, 0, 50, 20, 30, 100, 50, 150, 20, 0, 20, 100, 50, 30, 0, 30, 100, 50, 150, 50, 20, 0, 30, 100, 30, 50],\n",
    "    \"dates\":[0, 0, 0, 0, 0, 2000, 0, 0, 0, 0, 0, 0, 0, 0, 0, 0, 0, 0, 0, 3000, 0, 0, 0, 0, 0, 0, 0, 0, 0, 0],\n",
    "    \"Food\":[0, 0, 100, 0, 300, 0, 250, 0, 0, 150, 200, 0, 150, 0, 350, 0, 200, 0, 0, 150, 0, 0, 0, 500, 0, 150, 0, 600, 0, 0],\n",
    "    \"Entertainment\":[0, 0, 0, 0, 1000, 1500, 400, 0, 0, 0, 0, 0, 2000, 200, 0, 0, 0, 500, 0, 0, 1000, 0, 0, 0, 0, 600, 3000, 0, 0, 0],\n",
    "    \"Traveling\":[0, 0, 0, 0, 500, 0, 1000, 0, 0, 0, 0, 0, 1000, 2000, 0, 0, 0, 0, 2500, 0, 0, 0, 0, 500, 0, 0, 0, 500, 0, 0],\n",
    "    \"Clothing\":[0, 0, 0, 0, 0, 0, 0, 0, 0, 800, 0, 0, 0, 0, 0, 0, 0, 0, 0, 2000, 0, 0, 0, 0, 0, 0, 0, 0, 500, 0] \n",
    "}\n"
   ]
  },
  {
   "cell_type": "code",
   "execution_count": 27,
   "id": "a32792ac",
   "metadata": {},
   "outputs": [
    {
     "data": {
      "text/html": [
       "<div>\n",
       "<style scoped>\n",
       "    .dataframe tbody tr th:only-of-type {\n",
       "        vertical-align: middle;\n",
       "    }\n",
       "\n",
       "    .dataframe tbody tr th {\n",
       "        vertical-align: top;\n",
       "    }\n",
       "\n",
       "    .dataframe thead th {\n",
       "        text-align: right;\n",
       "    }\n",
       "</style>\n",
       "<table border=\"1\" class=\"dataframe\">\n",
       "  <thead>\n",
       "    <tr style=\"text-align: right;\">\n",
       "      <th></th>\n",
       "      <th>Transport</th>\n",
       "      <th>Airtime</th>\n",
       "      <th>dates</th>\n",
       "      <th>Food</th>\n",
       "      <th>Entertainment</th>\n",
       "      <th>Traveling</th>\n",
       "      <th>Clothing</th>\n",
       "    </tr>\n",
       "  </thead>\n",
       "  <tbody>\n",
       "    <tr>\n",
       "      <th>count</th>\n",
       "      <td>30.000000</td>\n",
       "      <td>30.000000</td>\n",
       "      <td>30.000000</td>\n",
       "      <td>30.000000</td>\n",
       "      <td>30.00000</td>\n",
       "      <td>30.000000</td>\n",
       "      <td>30.000000</td>\n",
       "    </tr>\n",
       "    <tr>\n",
       "      <th>mean</th>\n",
       "      <td>150.000000</td>\n",
       "      <td>52.333333</td>\n",
       "      <td>166.666667</td>\n",
       "      <td>103.333333</td>\n",
       "      <td>340.00000</td>\n",
       "      <td>266.666667</td>\n",
       "      <td>110.000000</td>\n",
       "    </tr>\n",
       "    <tr>\n",
       "      <th>std</th>\n",
       "      <td>154.808001</td>\n",
       "      <td>43.046353</td>\n",
       "      <td>647.719252</td>\n",
       "      <td>160.244067</td>\n",
       "      <td>709.34647</td>\n",
       "      <td>612.137765</td>\n",
       "      <td>395.099289</td>\n",
       "    </tr>\n",
       "    <tr>\n",
       "      <th>min</th>\n",
       "      <td>0.000000</td>\n",
       "      <td>0.000000</td>\n",
       "      <td>0.000000</td>\n",
       "      <td>0.000000</td>\n",
       "      <td>0.00000</td>\n",
       "      <td>0.000000</td>\n",
       "      <td>0.000000</td>\n",
       "    </tr>\n",
       "    <tr>\n",
       "      <th>25%</th>\n",
       "      <td>0.000000</td>\n",
       "      <td>20.000000</td>\n",
       "      <td>0.000000</td>\n",
       "      <td>0.000000</td>\n",
       "      <td>0.00000</td>\n",
       "      <td>0.000000</td>\n",
       "      <td>0.000000</td>\n",
       "    </tr>\n",
       "    <tr>\n",
       "      <th>50%</th>\n",
       "      <td>150.000000</td>\n",
       "      <td>50.000000</td>\n",
       "      <td>0.000000</td>\n",
       "      <td>0.000000</td>\n",
       "      <td>0.00000</td>\n",
       "      <td>0.000000</td>\n",
       "      <td>0.000000</td>\n",
       "    </tr>\n",
       "    <tr>\n",
       "      <th>75%</th>\n",
       "      <td>300.000000</td>\n",
       "      <td>87.500000</td>\n",
       "      <td>0.000000</td>\n",
       "      <td>150.000000</td>\n",
       "      <td>350.00000</td>\n",
       "      <td>0.000000</td>\n",
       "      <td>0.000000</td>\n",
       "    </tr>\n",
       "    <tr>\n",
       "      <th>max</th>\n",
       "      <td>400.000000</td>\n",
       "      <td>150.000000</td>\n",
       "      <td>3000.000000</td>\n",
       "      <td>600.000000</td>\n",
       "      <td>3000.00000</td>\n",
       "      <td>2500.000000</td>\n",
       "      <td>2000.000000</td>\n",
       "    </tr>\n",
       "  </tbody>\n",
       "</table>\n",
       "</div>"
      ],
      "text/plain": [
       "        Transport     Airtime        dates        Food  Entertainment  \\\n",
       "count   30.000000   30.000000    30.000000   30.000000       30.00000   \n",
       "mean   150.000000   52.333333   166.666667  103.333333      340.00000   \n",
       "std    154.808001   43.046353   647.719252  160.244067      709.34647   \n",
       "min      0.000000    0.000000     0.000000    0.000000        0.00000   \n",
       "25%      0.000000   20.000000     0.000000    0.000000        0.00000   \n",
       "50%    150.000000   50.000000     0.000000    0.000000        0.00000   \n",
       "75%    300.000000   87.500000     0.000000  150.000000      350.00000   \n",
       "max    400.000000  150.000000  3000.000000  600.000000     3000.00000   \n",
       "\n",
       "         Traveling     Clothing  \n",
       "count    30.000000    30.000000  \n",
       "mean    266.666667   110.000000  \n",
       "std     612.137765   395.099289  \n",
       "min       0.000000     0.000000  \n",
       "25%       0.000000     0.000000  \n",
       "50%       0.000000     0.000000  \n",
       "75%       0.000000     0.000000  \n",
       "max    2500.000000  2000.000000  "
      ]
     },
     "execution_count": 27,
     "metadata": {},
     "output_type": "execute_result"
    }
   ],
   "source": [
    "import pandas as pd\n",
    "table = pd.DataFrame(expenses)\n",
    "table.describe()\n",
    "#table.sum().sum()"
   ]
  },
  {
   "cell_type": "code",
   "execution_count": 6,
   "id": "021d54f1",
   "metadata": {},
   "outputs": [
    {
     "name": "stdout",
     "output_type": "stream",
     "text": [
      "Transport sum: 4500\n",
      "sum of airtime: 1570\n"
     ]
    },
    {
     "data": {
      "text/plain": [
       "3300"
      ]
     },
     "execution_count": 6,
     "metadata": {},
     "output_type": "execute_result"
    }
   ],
   "source": [
    "transport = list(expenses.values())[0]\n",
    "print(\"Transport sum:\",sum(transport))\n",
    "airtime = list(expenses.values())[1]\n",
    "print(f\"sum of airtime: {sum(airtime)}\")\n",
    "dates = list(expenses.values())[2]\n",
    "sum(dates)\n",
    "food = list(expenses.values())[3]\n",
    "sum(food)\n",
    "entertainment = list(expenses.values())[4]\n",
    "sum(entertainment)\n",
    "traveling = list(expenses.values())[5]\n",
    "sum(traveling)\n",
    "clothing = list(expenses.values())[6]\n",
    "sum(clothing)"
   ]
  },
  {
   "cell_type": "code",
   "execution_count": 14,
   "id": "3f282f40",
   "metadata": {},
   "outputs": [
    {
     "data": {
      "text/plain": [
       "110.0"
      ]
     },
     "execution_count": 14,
     "metadata": {},
     "output_type": "execute_result"
    }
   ],
   "source": [
    "# average spending\n",
    "aver_transport = sum(transport)/30\n",
    "aver_transport\n",
    "aver_airtime = sum(airtime)/30\n",
    "aver_airtime\n",
    "aver_dates = sum(dates)/30\n",
    "aver_dates\n",
    "aver_food = sum(food)/30\n",
    "aver_food\n",
    "aver_entertainment = sum(entertainment)/30\n",
    "aver_entertainment\n",
    "aver_traveling = sum(traveling)/30\n",
    "aver_traveling\n",
    "aver_clothing = sum(clothing)/30\n",
    "aver_clothing"
   ]
  },
  {
   "cell_type": "code",
   "execution_count": 15,
   "id": "1280d53c",
   "metadata": {},
   "outputs": [
    {
     "data": {
      "text/plain": [
       "400"
      ]
     },
     "execution_count": 15,
     "metadata": {},
     "output_type": "execute_result"
    }
   ],
   "source": [
    "# max expense\n",
    "transport = list(expenses.values())[0]\n",
    "max(transport)"
   ]
  },
  {
   "cell_type": "code",
   "execution_count": 24,
   "id": "49789799",
   "metadata": {},
   "outputs": [
    {
     "data": {
      "text/plain": [
       "2000"
      ]
     },
     "execution_count": 24,
     "metadata": {},
     "output_type": "execute_result"
    }
   ],
   "source": [
    "# max expenses\n",
    "airtime = list(expenses.values())[1]\n",
    "max(airtime)\n",
    "dates = list(expenses.values())[2]\n",
    "max(dates)\n",
    "food = list(expenses.values())[3]\n",
    "max(food)\n",
    "entertainment = list(expenses.values())[4]\n",
    "max(entertainment)\n",
    "traveling = list(expenses.values())[5]\n",
    "max(traveling)\n",
    "clothing = list(expenses.values())[6]\n",
    "max(clothing)"
   ]
  },
  {
   "cell_type": "code",
   "execution_count": 74,
   "id": "937cb9dd",
   "metadata": {},
   "outputs": [
    {
     "data": {
      "text/plain": [
       "0"
      ]
     },
     "execution_count": 74,
     "metadata": {},
     "output_type": "execute_result"
    }
   ],
   "source": [
    "# min expenses\n",
    "traveling = list(expenses.values())[5]\n",
    "min(traveling)\n",
    "clothing = list(expenses.values())[6]\n",
    "min(clothing)"
   ]
  },
  {
   "cell_type": "code",
   "execution_count": 85,
   "id": "e5f9d5e6",
   "metadata": {},
   "outputs": [
    {
     "data": {
      "text/plain": [
       "30"
      ]
     },
     "execution_count": 85,
     "metadata": {},
     "output_type": "execute_result"
    }
   ],
   "source": [
    "# count\n",
    "len(expenses[\"Transport\"])"
   ]
  },
  {
   "cell_type": "code",
   "execution_count": 70,
   "id": "13c1d068",
   "metadata": {},
   "outputs": [
    {
     "name": "stdout",
     "output_type": "stream",
     "text": [
      "35670\n"
     ]
    }
   ],
   "source": [
    "# total expenses\n",
    "total = list(expenses.values())\n",
    "sum = 0\n",
    "for t in total:\n",
    "    for v in t:\n",
    "        sum += v\n",
    "print(sum)"
   ]
  },
  {
   "cell_type": "code",
   "execution_count": 123,
   "id": "582b83b0",
   "metadata": {},
   "outputs": [
    {
     "data": {
      "text/plain": [
       "600"
      ]
     },
     "execution_count": 123,
     "metadata": {},
     "output_type": "execute_result"
    }
   ],
   "source": [
    "# 25% percentile\n",
    "traveling = list(expenses.values())[5]\n",
    "r = sorted(traveling)\n",
    "r[int(0.9 * 30)]\n",
    "def r(x):\n",
    "    return(x[int(0.90 * 30)])\n",
    "r(food)"
   ]
  },
  {
   "cell_type": "code",
   "execution_count": 108,
   "id": "ad83e52a",
   "metadata": {},
   "outputs": [
    {
     "data": {
      "text/plain": [
       "86"
      ]
     },
     "execution_count": 108,
     "metadata": {},
     "output_type": "execute_result"
    }
   ],
   "source": [
    "int(21.6 * 4)"
   ]
  },
  {
   "cell_type": "code",
   "execution_count": 72,
   "id": "955eb896",
   "metadata": {},
   "outputs": [
    {
     "data": {
      "text/html": [
       "<div>\n",
       "<style scoped>\n",
       "    .dataframe tbody tr th:only-of-type {\n",
       "        vertical-align: middle;\n",
       "    }\n",
       "\n",
       "    .dataframe tbody tr th {\n",
       "        vertical-align: top;\n",
       "    }\n",
       "\n",
       "    .dataframe thead th {\n",
       "        text-align: right;\n",
       "    }\n",
       "</style>\n",
       "<table border=\"1\" class=\"dataframe\">\n",
       "  <thead>\n",
       "    <tr style=\"text-align: right;\">\n",
       "      <th></th>\n",
       "      <th>Transport</th>\n",
       "      <th>Airtime</th>\n",
       "      <th>dates</th>\n",
       "      <th>Food</th>\n",
       "      <th>Entertainment</th>\n",
       "      <th>Traveling</th>\n",
       "      <th>Clothing</th>\n",
       "    </tr>\n",
       "  </thead>\n",
       "  <tbody>\n",
       "    <tr>\n",
       "      <th>count</th>\n",
       "      <td>30.000000</td>\n",
       "      <td>30.000000</td>\n",
       "      <td>30.000000</td>\n",
       "      <td>30.000000</td>\n",
       "      <td>30.00000</td>\n",
       "      <td>30.000000</td>\n",
       "      <td>30.000000</td>\n",
       "    </tr>\n",
       "    <tr>\n",
       "      <th>mean</th>\n",
       "      <td>150.000000</td>\n",
       "      <td>52.333333</td>\n",
       "      <td>166.666667</td>\n",
       "      <td>103.333333</td>\n",
       "      <td>340.00000</td>\n",
       "      <td>266.666667</td>\n",
       "      <td>110.000000</td>\n",
       "    </tr>\n",
       "    <tr>\n",
       "      <th>std</th>\n",
       "      <td>154.808001</td>\n",
       "      <td>43.046353</td>\n",
       "      <td>647.719252</td>\n",
       "      <td>160.244067</td>\n",
       "      <td>709.34647</td>\n",
       "      <td>612.137765</td>\n",
       "      <td>395.099289</td>\n",
       "    </tr>\n",
       "    <tr>\n",
       "      <th>min</th>\n",
       "      <td>0.000000</td>\n",
       "      <td>0.000000</td>\n",
       "      <td>0.000000</td>\n",
       "      <td>0.000000</td>\n",
       "      <td>0.00000</td>\n",
       "      <td>0.000000</td>\n",
       "      <td>0.000000</td>\n",
       "    </tr>\n",
       "    <tr>\n",
       "      <th>25%</th>\n",
       "      <td>0.000000</td>\n",
       "      <td>20.000000</td>\n",
       "      <td>0.000000</td>\n",
       "      <td>0.000000</td>\n",
       "      <td>0.00000</td>\n",
       "      <td>0.000000</td>\n",
       "      <td>0.000000</td>\n",
       "    </tr>\n",
       "    <tr>\n",
       "      <th>50%</th>\n",
       "      <td>150.000000</td>\n",
       "      <td>50.000000</td>\n",
       "      <td>0.000000</td>\n",
       "      <td>0.000000</td>\n",
       "      <td>0.00000</td>\n",
       "      <td>0.000000</td>\n",
       "      <td>0.000000</td>\n",
       "    </tr>\n",
       "    <tr>\n",
       "      <th>75%</th>\n",
       "      <td>300.000000</td>\n",
       "      <td>87.500000</td>\n",
       "      <td>0.000000</td>\n",
       "      <td>150.000000</td>\n",
       "      <td>350.00000</td>\n",
       "      <td>0.000000</td>\n",
       "      <td>0.000000</td>\n",
       "    </tr>\n",
       "    <tr>\n",
       "      <th>max</th>\n",
       "      <td>400.000000</td>\n",
       "      <td>150.000000</td>\n",
       "      <td>3000.000000</td>\n",
       "      <td>600.000000</td>\n",
       "      <td>3000.00000</td>\n",
       "      <td>2500.000000</td>\n",
       "      <td>2000.000000</td>\n",
       "    </tr>\n",
       "  </tbody>\n",
       "</table>\n",
       "</div>"
      ],
      "text/plain": [
       "        Transport     Airtime        dates        Food  Entertainment  \\\n",
       "count   30.000000   30.000000    30.000000   30.000000       30.00000   \n",
       "mean   150.000000   52.333333   166.666667  103.333333      340.00000   \n",
       "std    154.808001   43.046353   647.719252  160.244067      709.34647   \n",
       "min      0.000000    0.000000     0.000000    0.000000        0.00000   \n",
       "25%      0.000000   20.000000     0.000000    0.000000        0.00000   \n",
       "50%    150.000000   50.000000     0.000000    0.000000        0.00000   \n",
       "75%    300.000000   87.500000     0.000000  150.000000      350.00000   \n",
       "max    400.000000  150.000000  3000.000000  600.000000     3000.00000   \n",
       "\n",
       "         Traveling     Clothing  \n",
       "count    30.000000    30.000000  \n",
       "mean    266.666667   110.000000  \n",
       "std     612.137765   395.099289  \n",
       "min       0.000000     0.000000  \n",
       "25%       0.000000     0.000000  \n",
       "50%       0.000000     0.000000  \n",
       "75%       0.000000     0.000000  \n",
       "max    2500.000000  2000.000000  "
      ]
     },
     "execution_count": 72,
     "metadata": {},
     "output_type": "execute_result"
    }
   ],
   "source": [
    "table.describe()"
   ]
  },
  {
   "cell_type": "code",
   "execution_count": null,
   "id": "87a10996",
   "metadata": {},
   "outputs": [],
   "source": []
  },
  {
   "cell_type": "code",
   "execution_count": 73,
   "id": "2412bfbd",
   "metadata": {},
   "outputs": [
    {
     "data": {
      "text/html": [
       "<div>\n",
       "<style scoped>\n",
       "    .dataframe tbody tr th:only-of-type {\n",
       "        vertical-align: middle;\n",
       "    }\n",
       "\n",
       "    .dataframe tbody tr th {\n",
       "        vertical-align: top;\n",
       "    }\n",
       "\n",
       "    .dataframe thead th {\n",
       "        text-align: right;\n",
       "    }\n",
       "</style>\n",
       "<table border=\"1\" class=\"dataframe\">\n",
       "  <thead>\n",
       "    <tr style=\"text-align: right;\">\n",
       "      <th></th>\n",
       "      <th>variable</th>\n",
       "      <th>value</th>\n",
       "    </tr>\n",
       "  </thead>\n",
       "  <tbody>\n",
       "    <tr>\n",
       "      <th>0</th>\n",
       "      <td>Transport</td>\n",
       "      <td>300</td>\n",
       "    </tr>\n",
       "    <tr>\n",
       "      <th>1</th>\n",
       "      <td>Transport</td>\n",
       "      <td>300</td>\n",
       "    </tr>\n",
       "    <tr>\n",
       "      <th>2</th>\n",
       "      <td>Transport</td>\n",
       "      <td>0</td>\n",
       "    </tr>\n",
       "    <tr>\n",
       "      <th>3</th>\n",
       "      <td>Transport</td>\n",
       "      <td>0</td>\n",
       "    </tr>\n",
       "    <tr>\n",
       "      <th>4</th>\n",
       "      <td>Transport</td>\n",
       "      <td>200</td>\n",
       "    </tr>\n",
       "    <tr>\n",
       "      <th>...</th>\n",
       "      <td>...</td>\n",
       "      <td>...</td>\n",
       "    </tr>\n",
       "    <tr>\n",
       "      <th>205</th>\n",
       "      <td>Clothing</td>\n",
       "      <td>0</td>\n",
       "    </tr>\n",
       "    <tr>\n",
       "      <th>206</th>\n",
       "      <td>Clothing</td>\n",
       "      <td>0</td>\n",
       "    </tr>\n",
       "    <tr>\n",
       "      <th>207</th>\n",
       "      <td>Clothing</td>\n",
       "      <td>0</td>\n",
       "    </tr>\n",
       "    <tr>\n",
       "      <th>208</th>\n",
       "      <td>Clothing</td>\n",
       "      <td>500</td>\n",
       "    </tr>\n",
       "    <tr>\n",
       "      <th>209</th>\n",
       "      <td>Clothing</td>\n",
       "      <td>0</td>\n",
       "    </tr>\n",
       "  </tbody>\n",
       "</table>\n",
       "<p>210 rows × 2 columns</p>\n",
       "</div>"
      ],
      "text/plain": [
       "      variable  value\n",
       "0    Transport    300\n",
       "1    Transport    300\n",
       "2    Transport      0\n",
       "3    Transport      0\n",
       "4    Transport    200\n",
       "..         ...    ...\n",
       "205   Clothing      0\n",
       "206   Clothing      0\n",
       "207   Clothing      0\n",
       "208   Clothing    500\n",
       "209   Clothing      0\n",
       "\n",
       "[210 rows x 2 columns]"
      ]
     },
     "execution_count": 73,
     "metadata": {},
     "output_type": "execute_result"
    }
   ],
   "source": [
    "table.melt()"
   ]
  },
  {
   "cell_type": "code",
   "execution_count": 17,
   "id": "562d17f2",
   "metadata": {},
   "outputs": [
    {
     "data": {
      "text/plain": [
       "'heads'"
      ]
     },
     "execution_count": 17,
     "metadata": {},
     "output_type": "execute_result"
    }
   ],
   "source": [
    "import random\n",
    "random.choice([\"ugali\",\"nduma\",\"bread\"])\n",
    "random.choice([\"heads\",\"tail\"])"
   ]
  },
  {
   "cell_type": "code",
   "execution_count": 18,
   "id": "8aa51318",
   "metadata": {},
   "outputs": [],
   "source": [
    "# experiment to throw coins\n",
    "test = []\n",
    "for i in range(1000000):\n",
    "    throw = random.choice([\"heads\",\"tail\"])\n",
    "    test.append(throw)"
   ]
  },
  {
   "cell_type": "code",
   "execution_count": 19,
   "id": "4bfe733c",
   "metadata": {},
   "outputs": [
    {
     "name": "stdout",
     "output_type": "stream",
     "text": [
      "['heads', 'tail', 'tail']\n"
     ]
    },
    {
     "data": {
      "text/plain": [
       "Counter({'heads': 499742, 'tail': 500258})"
      ]
     },
     "execution_count": 19,
     "metadata": {},
     "output_type": "execute_result"
    }
   ],
   "source": [
    "from collections import Counter\n",
    "\n",
    "print(test[:3])\n",
    "# create a function that gives the total for the Test, takes a list of strings and add them\n",
    "\n",
    "Counter(test)"
   ]
  },
  {
   "cell_type": "code",
   "execution_count": 20,
   "id": "6486124f",
   "metadata": {},
   "outputs": [
    {
     "data": {
      "text/plain": [
       "0.500258"
      ]
     },
     "execution_count": 20,
     "metadata": {},
     "output_type": "execute_result"
    }
   ],
   "source": [
    "dict(Counter(test))['heads']/1000000\n",
    "dict(Counter(test))['tail']/1000000"
   ]
  },
  {
   "cell_type": "code",
   "execution_count": 135,
   "id": "35b19461",
   "metadata": {},
   "outputs": [
    {
     "data": {
      "text/plain": [
       "Counter({'boys': 2, 'girls': 1})"
      ]
     },
     "execution_count": 135,
     "metadata": {},
     "output_type": "execute_result"
    }
   ],
   "source": [
    "things = ['boys',\"girls\",\"boys\"]\n",
    "\n",
    "def Mambo():\n",
    "    return \n",
    "Mambo(things)# expect boys - 2,girls -1"
   ]
  },
  {
   "cell_type": "code",
   "execution_count": 3,
   "id": "c5eeb85b",
   "metadata": {},
   "outputs": [
    {
     "data": {
      "text/plain": [
       "{'ian': 1, 'marvin': 1}"
      ]
     },
     "execution_count": 3,
     "metadata": {},
     "output_type": "execute_result"
    }
   ],
   "source": [
    "# attempt\n",
    "fj = [\"ian\",\"marvin\"]\n",
    "things = [\"rice\", \"flour\", \"beans\", \"soap\", \"juice\", \"rice\", \"flour\", \"cooking oil\", \"spagheti\", \"juice\", \"rice\"]\n",
    "from collections import Counter\n",
    "def x(p):\n",
    "    return(Counter(p))\n",
    "x(things)\n",
    "\n",
    "def adder(p):\n",
    "    things = {}\n",
    "    for i in p:\n",
    "        if i in things:\n",
    "            things[i]+=1\n",
    "        else:\n",
    "            things[i] =1\n",
    "    return things\n",
    "adder(fj)"
   ]
  },
  {
   "cell_type": "code",
   "execution_count": 40,
   "id": "f31dac7f",
   "metadata": {},
   "outputs": [],
   "source": [
    "# initialize an empty dictionary\n",
    "#for each item check is it in dictionary\n",
    "# if no add it with a value of 1\n",
    "# else add one to the number there"
   ]
  },
  {
   "cell_type": "code",
   "execution_count": 23,
   "id": "71d29296",
   "metadata": {},
   "outputs": [
    {
     "name": "stdout",
     "output_type": "stream",
     "text": [
      "{'rice': 1}\n",
      "{'rice': 1, 'flour': 1}\n",
      "{'rice': 1, 'flour': 1, 'beans': 1}\n",
      "{'rice': 1, 'flour': 1, 'beans': 1, 'soap': 1}\n",
      "{'rice': 1, 'flour': 1, 'beans': 1, 'soap': 1, 'juice': 1}\n",
      "{'rice': 2, 'flour': 1, 'beans': 1, 'soap': 1, 'juice': 1}\n",
      "{'rice': 2, 'flour': 2, 'beans': 1, 'soap': 1, 'juice': 1}\n",
      "{'rice': 2, 'flour': 2, 'beans': 1, 'soap': 1, 'juice': 1, 'cooking oil': 1}\n",
      "{'rice': 2, 'flour': 2, 'beans': 1, 'soap': 1, 'juice': 1, 'cooking oil': 1, 'spagheti': 1}\n",
      "{'rice': 2, 'flour': 2, 'beans': 1, 'soap': 1, 'juice': 2, 'cooking oil': 1, 'spagheti': 1}\n",
      "{'rice': 3, 'flour': 2, 'beans': 1, 'soap': 1, 'juice': 2, 'cooking oil': 1, 'spagheti': 1}\n"
     ]
    }
   ],
   "source": [
    "total = {}\n",
    "for i in things:\n",
    "    if i in total:\n",
    "        total[i] = total[i]+1\n",
    "        print(total)\n",
    "    else:\n",
    "        total[i] =1\n",
    "        print(total)"
   ]
  },
  {
   "cell_type": "code",
   "execution_count": 24,
   "id": "646a808c",
   "metadata": {},
   "outputs": [
    {
     "name": "stdout",
     "output_type": "stream",
     "text": [
      "{'rice': 1}\n",
      "{'rice': 1, 'flour': 1}\n",
      "{'rice': 1, 'flour': 1, 'beans': 1}\n",
      "{'rice': 1, 'flour': 1, 'beans': 1, 'soap': 1}\n",
      "{'rice': 1, 'flour': 1, 'beans': 1, 'soap': 1, 'juice': 1}\n",
      "{'rice': 2, 'flour': 1, 'beans': 1, 'soap': 1, 'juice': 1}\n",
      "{'rice': 2, 'flour': 2, 'beans': 1, 'soap': 1, 'juice': 1}\n"
     ]
    }
   ],
   "source": [
    "# attempt\n",
    "items = [\"rice\", \"flour\", \"beans\", \"soap\", \"juice\", \"rice\", \"flour\"]\n",
    "total = {}\n",
    "for i in items:\n",
    "    if i in total:\n",
    "        total[i] += 1\n",
    "        print(total)\n",
    "    else:\n",
    "        total[i] = 1\n",
    "        print(total)\n",
    "        "
   ]
  },
  {
   "cell_type": "code",
   "execution_count": 25,
   "id": "82d85f23",
   "metadata": {},
   "outputs": [
    {
     "data": {
      "text/plain": [
       "{'rice': 2, 'flour': 2, 'beans': 1, 'soap': 1, 'juice': 1}"
      ]
     },
     "execution_count": 25,
     "metadata": {},
     "output_type": "execute_result"
    }
   ],
   "source": [
    "total"
   ]
  },
  {
   "cell_type": "code",
   "execution_count": 26,
   "id": "d4b5b7b7",
   "metadata": {},
   "outputs": [
    {
     "data": {
      "text/plain": [
       "[1, 3, 6, 1, 2, 3, 4, 1, 1, 6, 2, 6]"
      ]
     },
     "execution_count": 26,
     "metadata": {},
     "output_type": "execute_result"
    }
   ],
   "source": [
    "# simple dice\n",
    "def die(n):\n",
    "    # n =  number of throws\n",
    "    return [random.choice(range(1,7)) for i in range(n)]\n",
    "die(12)"
   ]
  },
  {
   "cell_type": "code",
   "execution_count": null,
   "id": "b1a1aa43",
   "metadata": {},
   "outputs": [],
   "source": []
  }
 ],
 "metadata": {
  "kernelspec": {
   "display_name": "Python 3 (ipykernel)",
   "language": "python",
   "name": "python3"
  },
  "language_info": {
   "codemirror_mode": {
    "name": "ipython",
    "version": 3
   },
   "file_extension": ".py",
   "mimetype": "text/x-python",
   "name": "python",
   "nbconvert_exporter": "python",
   "pygments_lexer": "ipython3",
   "version": "3.10.4"
  }
 },
 "nbformat": 4,
 "nbformat_minor": 5
}
