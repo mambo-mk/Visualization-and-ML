{
 "cells": [
  {
   "cell_type": "code",
   "execution_count": 10,
   "id": "99b874a0",
   "metadata": {},
   "outputs": [],
   "source": [
    "# Create a dummy data (20 them) using random example below\n",
    "# salaries = [23000,45600]\n",
    "# names = [\"john\",\"james\"]"
   ]
  },
  {
   "cell_type": "code",
   "execution_count": 21,
   "id": "d915421d",
   "metadata": {},
   "outputs": [
    {
     "data": {
      "text/plain": [
       "[57841,\n",
       " 21834,\n",
       " 50012,\n",
       " 71288,\n",
       " 66607,\n",
       " 126633,\n",
       " 133679,\n",
       " 66824,\n",
       " 38280,\n",
       " 124295,\n",
       " 59420,\n",
       " 122237,\n",
       " 132413,\n",
       " 92099,\n",
       " 135884,\n",
       " 31829,\n",
       " 22034,\n",
       " 62363,\n",
       " 81198,\n",
       " 78993]"
      ]
     },
     "execution_count": 21,
     "metadata": {},
     "output_type": "execute_result"
    }
   ],
   "source": [
    "import random\n",
    "salaries = []\n",
    "for number in range(20):\n",
    "    x = random.randint(20000, 150000)\n",
    "    salaries.append(x)\n",
    "salaries\n",
    "\n",
    "names = [\"john\", \"cynthia\", \"wafula\", \"mary\", \"james\", \"cyndie\", \"frank\", \"sinatra\", \"alvin\", \"joy\", \"jade\", \"prisca\", \"ruth\", \"phillip\", \"kiri\", \"george\", \"paul\", \"jack\", \"terry\", \"joel\"]\n",
    "salaries"
   ]
  },
  {
   "cell_type": "code",
   "execution_count": 22,
   "id": "6781c1c1",
   "metadata": {},
   "outputs": [
    {
     "name": "stdout",
     "output_type": "stream",
     "text": [
      "john 57841\n",
      "cynthia 21834\n",
      "wafula 50012\n",
      "mary 71288\n",
      "james 66607\n",
      "cyndie 126633\n",
      "frank 133679\n",
      "sinatra 66824\n",
      "alvin 38280\n",
      "joy 124295\n",
      "jade 59420\n",
      "prisca 122237\n",
      "ruth 132413\n",
      "phillip 92099\n",
      "kiri 135884\n",
      "george 31829\n",
      "paul 22034\n",
      "jack 62363\n",
      "terry 81198\n",
      "joel 78993\n"
     ]
    }
   ],
   "source": [
    "# loop through the two lists and for each name print their salary\n",
    "#eg:\n",
    "for name,salary in zip(names,salaries):\n",
    "    print(name,,salary)"
   ]
  },
  {
   "cell_type": "code",
   "execution_count": 9,
   "id": "3a75ae9b",
   "metadata": {},
   "outputs": [
    {
     "name": "stdout",
     "output_type": "stream",
     "text": [
      "john 31895\n",
      "cynthia 81816\n",
      "wafula 139062\n",
      "mary 137013\n",
      "james 122567\n",
      "cyndie 20325\n",
      "frank 123876\n",
      "sinatra 104564\n",
      "alvin 42946\n",
      "joy 22496\n",
      "jade 28020\n",
      "prisca 107610\n",
      "ruth 87139\n",
      "phillip 95891\n",
      "kiri 31255\n",
      "george 25502\n",
      "paul 45136\n",
      "jack 38171\n",
      "terry 141947\n",
      "joel 28180\n"
     ]
    }
   ],
   "source": [
    "for name, salary in zip(names, salaries):\n",
    "    print(name, salary)"
   ]
  },
  {
   "cell_type": "code",
   "execution_count": 12,
   "id": "d58bc918",
   "metadata": {},
   "outputs": [
    {
     "ename": "SyntaxError",
     "evalue": "expected ':' (2528570385.py, line 4)",
     "output_type": "error",
     "traceback": [
      "\u001b[1;36m  Input \u001b[1;32mIn [12]\u001b[1;36m\u001b[0m\n\u001b[1;33m    if ...\u001b[0m\n\u001b[1;37m          ^\u001b[0m\n\u001b[1;31mSyntaxError\u001b[0m\u001b[1;31m:\u001b[0m expected ':'\n"
     ]
    }
   ],
   "source": [
    "# create a function that returns \"low salary\" if salary is less than 30K \n",
    "#else mid salary if salary between 31-50k else high salary\n",
    "def sal(salary):\n",
    "    if ...\n",
    "    return ..."
   ]
  },
  {
   "cell_type": "code",
   "execution_count": 13,
   "id": "6c350b8f",
   "metadata": {},
   "outputs": [],
   "source": [
    "# sal(23000)--> \"low salary\"\n",
    "# sal(100000) --> High salary"
   ]
  },
  {
   "cell_type": "code",
   "execution_count": 14,
   "id": "82a55b4e",
   "metadata": {},
   "outputs": [],
   "source": [
    "# for each name and salary above print whether the salary is high, mid or low"
   ]
  },
  {
   "cell_type": "code",
   "execution_count": 14,
   "id": "12da8ad6",
   "metadata": {},
   "outputs": [
    {
     "data": {
      "text/plain": [
       "'high salary'"
      ]
     },
     "execution_count": 14,
     "metadata": {},
     "output_type": "execute_result"
    }
   ],
   "source": [
    "def sal(salary):\n",
    "    if salary <= 30000:\n",
    "        return \"low salary\"\n",
    "    elif salary <= 50000:\n",
    "        return \"mid salary\"\n",
    "    else:\n",
    "        return \"high salary\"\n",
    "\n",
    "sal(35000)\n",
    "sal(100000)"
   ]
  },
  {
   "cell_type": "code",
   "execution_count": 19,
   "id": "714cc7f7",
   "metadata": {},
   "outputs": [],
   "source": []
  },
  {
   "cell_type": "code",
   "execution_count": 21,
   "id": "dda10bb1",
   "metadata": {},
   "outputs": [
    {
     "data": {
      "image/png": "[encoded data removed]",
      "text/plain": [
       "<Figure size 360x360 with 1 Axes>"
      ]
     },
     "metadata": {
      "needs_background": "light"
     },
     "output_type": "display_data"
    }
   ],
   "source": [
    "# learn how to plot data\n",
    "import matplotlib.pyplot as plt\n",
    "\n",
    "plt.figure(figsize = (5,5)) # decide the fig size\n",
    "plt.barh(names,salaries,color = \"pink\",label = \"salary\") # plot based on type of plot :line,box, barplot,barh,stacked plot,scatter plot\n",
    "plt.title(\"Series rates\",color = \"green\")\n",
    "plt.legend()\n",
    "plt.show()"
   ]
  },
  {
   "cell_type": "code",
   "execution_count": null,
   "id": "6768fa1d",
   "metadata": {},
   "outputs": [],
   "source": []
  }
 ],
 "metadata": {
  "kernelspec": {
   "display_name": "Python 3 (ipykernel)",
   "language": "python",
   "name": "python3"
  },
  "language_info": {
   "codemirror_mode": {
    "name": "ipython",
    "version": 3
   },
   "file_extension": ".py",
   "mimetype": "text/x-python",
   "name": "python",
   "nbconvert_exporter": "python",
   "pygments_lexer": "ipython3",
   "version": "3.10.4"
  }
 },
 "nbformat": 4,
 "nbformat_minor": 5
}
