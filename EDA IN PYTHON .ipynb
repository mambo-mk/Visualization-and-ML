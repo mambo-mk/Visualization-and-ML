{
 "cells": [
  {
   "cell_type": "markdown",
   "id": "ff9ea224",
   "metadata": {},
   "source": [
    "# <font color = \"purple\"> Exploratory Data analysis</font>\n",
    "<img src = \"https://miro.medium.com/max/1400/1*03D9umtAeoGnFXYH-Ycm8A.png\" height = 400 width = 700>\n",
    "EDA is the  extraction of information from data, through analysis ,visualization and data modeling.\n",
    "steps:\n",
    "* Data loading machine\n",
    "* Data cleaning\n",
    " - remove/detect NA\n",
    " - remove/ detect outliers\n",
    " - generate new columns based on analysis required\n",
    "* EDA ( visual analytics)\n",
    " - for univariate data use histogram,boxplots (numeric) pie charts/ bar charts for categorical\n",
    " - buvariate - stacked plots, scatter plots etc\n",
    " - multivariate -  scatter, faceting, etc\n",
    "* data modeling eg hypothesis test, regression etc"
   ]
  },
  {
   "cell_type": "code",
   "execution_count": 16,
   "id": "fd44080b",
   "metadata": {},
   "outputs": [],
   "source": [
    "## read the data"
   ]
  },
  {
   "cell_type": "code",
   "execution_count": 26,
   "id": "14411844",
   "metadata": {},
   "outputs": [
    {
     "name": "stderr",
     "output_type": "stream",
     "text": [
      "C:\\Users\\Admin\\AppData\\Local\\Programs\\Python\\Python310\\lib\\site-packages\\pandas\\io\\parsers\\base_parser.py:1070: UserWarning: Parsing '14/01/2010' in DD/MM/YYYY format. Provide format or specify infer_datetime_format=True for consistent parsing.\n",
      "  return tools.to_datetime(\n",
      "C:\\Users\\Admin\\AppData\\Local\\Programs\\Python\\Python310\\lib\\site-packages\\pandas\\io\\parsers\\base_parser.py:1070: UserWarning: Parsing '14/01/2011' in DD/MM/YYYY format. Provide format or specify infer_datetime_format=True for consistent parsing.\n",
      "  return tools.to_datetime(\n",
      "C:\\Users\\Admin\\AppData\\Local\\Programs\\Python\\Python310\\lib\\site-packages\\pandas\\io\\parsers\\base_parser.py:1070: UserWarning: Parsing '14/02/2011' in DD/MM/YYYY format. Provide format or specify infer_datetime_format=True for consistent parsing.\n",
      "  return tools.to_datetime(\n",
      "C:\\Users\\Admin\\AppData\\Local\\Programs\\Python\\Python310\\lib\\site-packages\\pandas\\io\\parsers\\base_parser.py:1070: UserWarning: Parsing '14/03/2011' in DD/MM/YYYY format. Provide format or specify infer_datetime_format=True for consistent parsing.\n",
      "  return tools.to_datetime(\n",
      "C:\\Users\\Admin\\AppData\\Local\\Programs\\Python\\Python310\\lib\\site-packages\\pandas\\io\\parsers\\base_parser.py:1070: UserWarning: Parsing '14/04/2011' in DD/MM/YYYY format. Provide format or specify infer_datetime_format=True for consistent parsing.\n",
      "  return tools.to_datetime(\n",
      "C:\\Users\\Admin\\AppData\\Local\\Programs\\Python\\Python310\\lib\\site-packages\\pandas\\io\\parsers\\base_parser.py:1070: UserWarning: Parsing '14/05/2011' in DD/MM/YYYY format. Provide format or specify infer_datetime_format=True for consistent parsing.\n",
      "  return tools.to_datetime(\n",
      "C:\\Users\\Admin\\AppData\\Local\\Programs\\Python\\Python310\\lib\\site-packages\\pandas\\io\\parsers\\base_parser.py:1070: UserWarning: Parsing '14/06/2011' in DD/MM/YYYY format. Provide format or specify infer_datetime_format=True for consistent parsing.\n",
      "  return tools.to_datetime(\n",
      "C:\\Users\\Admin\\AppData\\Local\\Programs\\Python\\Python310\\lib\\site-packages\\pandas\\io\\parsers\\base_parser.py:1070: UserWarning: Parsing '14/07/2011' in DD/MM/YYYY format. Provide format or specify infer_datetime_format=True for consistent parsing.\n",
      "  return tools.to_datetime(\n",
      "C:\\Users\\Admin\\AppData\\Local\\Programs\\Python\\Python310\\lib\\site-packages\\pandas\\io\\parsers\\base_parser.py:1070: UserWarning: Parsing '14/08/2011' in DD/MM/YYYY format. Provide format or specify infer_datetime_format=True for consistent parsing.\n",
      "  return tools.to_datetime(\n",
      "C:\\Users\\Admin\\AppData\\Local\\Programs\\Python\\Python310\\lib\\site-packages\\pandas\\io\\parsers\\base_parser.py:1070: UserWarning: Parsing '14/09/2011' in DD/MM/YYYY format. Provide format or specify infer_datetime_format=True for consistent parsing.\n",
      "  return tools.to_datetime(\n",
      "C:\\Users\\Admin\\AppData\\Local\\Programs\\Python\\Python310\\lib\\site-packages\\pandas\\io\\parsers\\base_parser.py:1070: UserWarning: Parsing '14/10/2011' in DD/MM/YYYY format. Provide format or specify infer_datetime_format=True for consistent parsing.\n",
      "  return tools.to_datetime(\n",
      "C:\\Users\\Admin\\AppData\\Local\\Programs\\Python\\Python310\\lib\\site-packages\\pandas\\io\\parsers\\base_parser.py:1070: UserWarning: Parsing '14/11/2011' in DD/MM/YYYY format. Provide format or specify infer_datetime_format=True for consistent parsing.\n",
      "  return tools.to_datetime(\n",
      "C:\\Users\\Admin\\AppData\\Local\\Programs\\Python\\Python310\\lib\\site-packages\\pandas\\io\\parsers\\base_parser.py:1070: UserWarning: Parsing '14/12/2011' in DD/MM/YYYY format. Provide format or specify infer_datetime_format=True for consistent parsing.\n",
      "  return tools.to_datetime(\n",
      "C:\\Users\\Admin\\AppData\\Local\\Programs\\Python\\Python310\\lib\\site-packages\\pandas\\io\\parsers\\base_parser.py:1070: UserWarning: Parsing '14/01/2012' in DD/MM/YYYY format. Provide format or specify infer_datetime_format=True for consistent parsing.\n",
      "  return tools.to_datetime(\n",
      "C:\\Users\\Admin\\AppData\\Local\\Programs\\Python\\Python310\\lib\\site-packages\\pandas\\io\\parsers\\base_parser.py:1070: UserWarning: Parsing '14/02/2012' in DD/MM/YYYY format. Provide format or specify infer_datetime_format=True for consistent parsing.\n",
      "  return tools.to_datetime(\n",
      "C:\\Users\\Admin\\AppData\\Local\\Programs\\Python\\Python310\\lib\\site-packages\\pandas\\io\\parsers\\base_parser.py:1070: UserWarning: Parsing '14/03/2012' in DD/MM/YYYY format. Provide format or specify infer_datetime_format=True for consistent parsing.\n",
      "  return tools.to_datetime(\n",
      "C:\\Users\\Admin\\AppData\\Local\\Programs\\Python\\Python310\\lib\\site-packages\\pandas\\io\\parsers\\base_parser.py:1070: UserWarning: Parsing '14/04/2012' in DD/MM/YYYY format. Provide format or specify infer_datetime_format=True for consistent parsing.\n",
      "  return tools.to_datetime(\n",
      "C:\\Users\\Admin\\AppData\\Local\\Programs\\Python\\Python310\\lib\\site-packages\\pandas\\io\\parsers\\base_parser.py:1070: UserWarning: Parsing '14/05/2012' in DD/MM/YYYY format. Provide format or specify infer_datetime_format=True for consistent parsing.\n",
      "  return tools.to_datetime(\n",
      "C:\\Users\\Admin\\AppData\\Local\\Programs\\Python\\Python310\\lib\\site-packages\\pandas\\io\\parsers\\base_parser.py:1070: UserWarning: Parsing '14/06/2012' in DD/MM/YYYY format. Provide format or specify infer_datetime_format=True for consistent parsing.\n",
      "  return tools.to_datetime(\n",
      "C:\\Users\\Admin\\AppData\\Local\\Programs\\Python\\Python310\\lib\\site-packages\\pandas\\io\\parsers\\base_parser.py:1070: UserWarning: Parsing '14/07/2012' in DD/MM/YYYY format. Provide format or specify infer_datetime_format=True for consistent parsing.\n",
      "  return tools.to_datetime(\n",
      "C:\\Users\\Admin\\AppData\\Local\\Programs\\Python\\Python310\\lib\\site-packages\\pandas\\io\\parsers\\base_parser.py:1070: UserWarning: Parsing '14/08/2012' in DD/MM/YYYY format. Provide format or specify infer_datetime_format=True for consistent parsing.\n",
      "  return tools.to_datetime(\n",
      "C:\\Users\\Admin\\AppData\\Local\\Programs\\Python\\Python310\\lib\\site-packages\\pandas\\io\\parsers\\base_parser.py:1070: UserWarning: Parsing '14/09/2012' in DD/MM/YYYY format. Provide format or specify infer_datetime_format=True for consistent parsing.\n",
      "  return tools.to_datetime(\n",
      "C:\\Users\\Admin\\AppData\\Local\\Programs\\Python\\Python310\\lib\\site-packages\\pandas\\io\\parsers\\base_parser.py:1070: UserWarning: Parsing '14/10/2012' in DD/MM/YYYY format. Provide format or specify infer_datetime_format=True for consistent parsing.\n",
      "  return tools.to_datetime(\n",
      "C:\\Users\\Admin\\AppData\\Local\\Programs\\Python\\Python310\\lib\\site-packages\\pandas\\io\\parsers\\base_parser.py:1070: UserWarning: Parsing '14/11/2012' in DD/MM/YYYY format. Provide format or specify infer_datetime_format=True for consistent parsing.\n",
      "  return tools.to_datetime(\n",
      "C:\\Users\\Admin\\AppData\\Local\\Programs\\Python\\Python310\\lib\\site-packages\\pandas\\io\\parsers\\base_parser.py:1070: UserWarning: Parsing '14/12/2012' in DD/MM/YYYY format. Provide format or specify infer_datetime_format=True for consistent parsing.\n",
      "  return tools.to_datetime(\n",
      "C:\\Users\\Admin\\AppData\\Local\\Programs\\Python\\Python310\\lib\\site-packages\\pandas\\io\\parsers\\base_parser.py:1070: UserWarning: Parsing '14/01/2013' in DD/MM/YYYY format. Provide format or specify infer_datetime_format=True for consistent parsing.\n",
      "  return tools.to_datetime(\n",
      "C:\\Users\\Admin\\AppData\\Local\\Programs\\Python\\Python310\\lib\\site-packages\\pandas\\io\\parsers\\base_parser.py:1070: UserWarning: Parsing '14/02/2013' in DD/MM/YYYY format. Provide format or specify infer_datetime_format=True for consistent parsing.\n",
      "  return tools.to_datetime(\n",
      "C:\\Users\\Admin\\AppData\\Local\\Programs\\Python\\Python310\\lib\\site-packages\\pandas\\io\\parsers\\base_parser.py:1070: UserWarning: Parsing '14/03/2013' in DD/MM/YYYY format. Provide format or specify infer_datetime_format=True for consistent parsing.\n",
      "  return tools.to_datetime(\n",
      "C:\\Users\\Admin\\AppData\\Local\\Programs\\Python\\Python310\\lib\\site-packages\\pandas\\io\\parsers\\base_parser.py:1070: UserWarning: Parsing '14/04/2013' in DD/MM/YYYY format. Provide format or specify infer_datetime_format=True for consistent parsing.\n",
      "  return tools.to_datetime(\n",
      "C:\\Users\\Admin\\AppData\\Local\\Programs\\Python\\Python310\\lib\\site-packages\\pandas\\io\\parsers\\base_parser.py:1070: UserWarning: Parsing '14/05/2013' in DD/MM/YYYY format. Provide format or specify infer_datetime_format=True for consistent parsing.\n",
      "  return tools.to_datetime(\n",
      "C:\\Users\\Admin\\AppData\\Local\\Programs\\Python\\Python310\\lib\\site-packages\\pandas\\io\\parsers\\base_parser.py:1070: UserWarning: Parsing '14/06/2013' in DD/MM/YYYY format. Provide format or specify infer_datetime_format=True for consistent parsing.\n",
      "  return tools.to_datetime(\n",
      "C:\\Users\\Admin\\AppData\\Local\\Programs\\Python\\Python310\\lib\\site-packages\\pandas\\io\\parsers\\base_parser.py:1070: UserWarning: Parsing '14/07/2013' in DD/MM/YYYY format. Provide format or specify infer_datetime_format=True for consistent parsing.\n",
      "  return tools.to_datetime(\n",
      "C:\\Users\\Admin\\AppData\\Local\\Programs\\Python\\Python310\\lib\\site-packages\\pandas\\io\\parsers\\base_parser.py:1070: UserWarning: Parsing '14/08/2013' in DD/MM/YYYY format. Provide format or specify infer_datetime_format=True for consistent parsing.\n",
      "  return tools.to_datetime(\n",
      "C:\\Users\\Admin\\AppData\\Local\\Programs\\Python\\Python310\\lib\\site-packages\\pandas\\io\\parsers\\base_parser.py:1070: UserWarning: Parsing '14/09/2013' in DD/MM/YYYY format. Provide format or specify infer_datetime_format=True for consistent parsing.\n",
      "  return tools.to_datetime(\n",
      "C:\\Users\\Admin\\AppData\\Local\\Programs\\Python\\Python310\\lib\\site-packages\\pandas\\io\\parsers\\base_parser.py:1070: UserWarning: Parsing '14/10/2013' in DD/MM/YYYY format. Provide format or specify infer_datetime_format=True for consistent parsing.\n",
      "  return tools.to_datetime(\n",
      "C:\\Users\\Admin\\AppData\\Local\\Programs\\Python\\Python310\\lib\\site-packages\\pandas\\io\\parsers\\base_parser.py:1070: UserWarning: Parsing '14/11/2013' in DD/MM/YYYY format. Provide format or specify infer_datetime_format=True for consistent parsing.\n",
      "  return tools.to_datetime(\n",
      "C:\\Users\\Admin\\AppData\\Local\\Programs\\Python\\Python310\\lib\\site-packages\\pandas\\io\\parsers\\base_parser.py:1070: UserWarning: Parsing '14/12/2013' in DD/MM/YYYY format. Provide format or specify infer_datetime_format=True for consistent parsing.\n",
      "  return tools.to_datetime(\n",
      "C:\\Users\\Admin\\AppData\\Local\\Programs\\Python\\Python310\\lib\\site-packages\\pandas\\io\\parsers\\base_parser.py:1070: UserWarning: Parsing '14/01/2014' in DD/MM/YYYY format. Provide format or specify infer_datetime_format=True for consistent parsing.\n",
      "  return tools.to_datetime(\n",
      "C:\\Users\\Admin\\AppData\\Local\\Programs\\Python\\Python310\\lib\\site-packages\\pandas\\io\\parsers\\base_parser.py:1070: UserWarning: Parsing '14/02/2014' in DD/MM/YYYY format. Provide format or specify infer_datetime_format=True for consistent parsing.\n",
      "  return tools.to_datetime(\n",
      "C:\\Users\\Admin\\AppData\\Local\\Programs\\Python\\Python310\\lib\\site-packages\\pandas\\io\\parsers\\base_parser.py:1070: UserWarning: Parsing '14/03/2014' in DD/MM/YYYY format. Provide format or specify infer_datetime_format=True for consistent parsing.\n",
      "  return tools.to_datetime(\n",
      "C:\\Users\\Admin\\AppData\\Local\\Programs\\Python\\Python310\\lib\\site-packages\\pandas\\io\\parsers\\base_parser.py:1070: UserWarning: Parsing '14/04/2014' in DD/MM/YYYY format. Provide format or specify infer_datetime_format=True for consistent parsing.\n",
      "  return tools.to_datetime(\n",
      "C:\\Users\\Admin\\AppData\\Local\\Programs\\Python\\Python310\\lib\\site-packages\\pandas\\io\\parsers\\base_parser.py:1070: UserWarning: Parsing '14/05/2014' in DD/MM/YYYY format. Provide format or specify infer_datetime_format=True for consistent parsing.\n",
      "  return tools.to_datetime(\n",
      "C:\\Users\\Admin\\AppData\\Local\\Programs\\Python\\Python310\\lib\\site-packages\\pandas\\io\\parsers\\base_parser.py:1070: UserWarning: Parsing '14/06/2014' in DD/MM/YYYY format. Provide format or specify infer_datetime_format=True for consistent parsing.\n",
      "  return tools.to_datetime(\n",
      "C:\\Users\\Admin\\AppData\\Local\\Programs\\Python\\Python310\\lib\\site-packages\\pandas\\io\\parsers\\base_parser.py:1070: UserWarning: Parsing '14/07/2014' in DD/MM/YYYY format. Provide format or specify infer_datetime_format=True for consistent parsing.\n",
      "  return tools.to_datetime(\n",
      "C:\\Users\\Admin\\AppData\\Local\\Programs\\Python\\Python310\\lib\\site-packages\\pandas\\io\\parsers\\base_parser.py:1070: UserWarning: Parsing '14/08/2014' in DD/MM/YYYY format. Provide format or specify infer_datetime_format=True for consistent parsing.\n",
      "  return tools.to_datetime(\n",
      "C:\\Users\\Admin\\AppData\\Local\\Programs\\Python\\Python310\\lib\\site-packages\\pandas\\io\\parsers\\base_parser.py:1070: UserWarning: Parsing '14/09/2014' in DD/MM/YYYY format. Provide format or specify infer_datetime_format=True for consistent parsing.\n",
      "  return tools.to_datetime(\n",
      "C:\\Users\\Admin\\AppData\\Local\\Programs\\Python\\Python310\\lib\\site-packages\\pandas\\io\\parsers\\base_parser.py:1070: UserWarning: Parsing '14/10/2014' in DD/MM/YYYY format. Provide format or specify infer_datetime_format=True for consistent parsing.\n",
      "  return tools.to_datetime(\n",
      "C:\\Users\\Admin\\AppData\\Local\\Programs\\Python\\Python310\\lib\\site-packages\\pandas\\io\\parsers\\base_parser.py:1070: UserWarning: Parsing '14/11/2014' in DD/MM/YYYY format. Provide format or specify infer_datetime_format=True for consistent parsing.\n",
      "  return tools.to_datetime(\n",
      "C:\\Users\\Admin\\AppData\\Local\\Programs\\Python\\Python310\\lib\\site-packages\\pandas\\io\\parsers\\base_parser.py:1070: UserWarning: Parsing '14/12/2014' in DD/MM/YYYY format. Provide format or specify infer_datetime_format=True for consistent parsing.\n",
      "  return tools.to_datetime(\n",
      "C:\\Users\\Admin\\AppData\\Local\\Programs\\Python\\Python310\\lib\\site-packages\\pandas\\io\\parsers\\base_parser.py:1070: UserWarning: Parsing '14/01/2015' in DD/MM/YYYY format. Provide format or specify infer_datetime_format=True for consistent parsing.\n",
      "  return tools.to_datetime(\n",
      "C:\\Users\\Admin\\AppData\\Local\\Programs\\Python\\Python310\\lib\\site-packages\\pandas\\io\\parsers\\base_parser.py:1070: UserWarning: Parsing '14/02/2015' in DD/MM/YYYY format. Provide format or specify infer_datetime_format=True for consistent parsing.\n",
      "  return tools.to_datetime(\n",
      "C:\\Users\\Admin\\AppData\\Local\\Programs\\Python\\Python310\\lib\\site-packages\\pandas\\io\\parsers\\base_parser.py:1070: UserWarning: Parsing '14/03/2015' in DD/MM/YYYY format. Provide format or specify infer_datetime_format=True for consistent parsing.\n",
      "  return tools.to_datetime(\n",
      "C:\\Users\\Admin\\AppData\\Local\\Programs\\Python\\Python310\\lib\\site-packages\\pandas\\io\\parsers\\base_parser.py:1070: UserWarning: Parsing '14/04/2015' in DD/MM/YYYY format. Provide format or specify infer_datetime_format=True for consistent parsing.\n",
      "  return tools.to_datetime(\n",
      "C:\\Users\\Admin\\AppData\\Local\\Programs\\Python\\Python310\\lib\\site-packages\\pandas\\io\\parsers\\base_parser.py:1070: UserWarning: Parsing '14/05/2015' in DD/MM/YYYY format. Provide format or specify infer_datetime_format=True for consistent parsing.\n",
      "  return tools.to_datetime(\n",
      "C:\\Users\\Admin\\AppData\\Local\\Programs\\Python\\Python310\\lib\\site-packages\\pandas\\io\\parsers\\base_parser.py:1070: UserWarning: Parsing '14/06/2015' in DD/MM/YYYY format. Provide format or specify infer_datetime_format=True for consistent parsing.\n",
      "  return tools.to_datetime(\n",
      "C:\\Users\\Admin\\AppData\\Local\\Programs\\Python\\Python310\\lib\\site-packages\\pandas\\io\\parsers\\base_parser.py:1070: UserWarning: Parsing '14/07/2015' in DD/MM/YYYY format. Provide format or specify infer_datetime_format=True for consistent parsing.\n",
      "  return tools.to_datetime(\n",
      "C:\\Users\\Admin\\AppData\\Local\\Programs\\Python\\Python310\\lib\\site-packages\\pandas\\io\\parsers\\base_parser.py:1070: UserWarning: Parsing '14/08/2015' in DD/MM/YYYY format. Provide format or specify infer_datetime_format=True for consistent parsing.\n",
      "  return tools.to_datetime(\n",
      "C:\\Users\\Admin\\AppData\\Local\\Programs\\Python\\Python310\\lib\\site-packages\\pandas\\io\\parsers\\base_parser.py:1070: UserWarning: Parsing '14/09/2015' in DD/MM/YYYY format. Provide format or specify infer_datetime_format=True for consistent parsing.\n",
      "  return tools.to_datetime(\n",
      "C:\\Users\\Admin\\AppData\\Local\\Programs\\Python\\Python310\\lib\\site-packages\\pandas\\io\\parsers\\base_parser.py:1070: UserWarning: Parsing '14/10/2015' in DD/MM/YYYY format. Provide format or specify infer_datetime_format=True for consistent parsing.\n",
      "  return tools.to_datetime(\n",
      "C:\\Users\\Admin\\AppData\\Local\\Programs\\Python\\Python310\\lib\\site-packages\\pandas\\io\\parsers\\base_parser.py:1070: UserWarning: Parsing '14/11/2015' in DD/MM/YYYY format. Provide format or specify infer_datetime_format=True for consistent parsing.\n",
      "  return tools.to_datetime(\n",
      "C:\\Users\\Admin\\AppData\\Local\\Programs\\Python\\Python310\\lib\\site-packages\\pandas\\io\\parsers\\base_parser.py:1070: UserWarning: Parsing '14/12/2015' in DD/MM/YYYY format. Provide format or specify infer_datetime_format=True for consistent parsing.\n",
      "  return tools.to_datetime(\n",
      "C:\\Users\\Admin\\AppData\\Local\\Programs\\Python\\Python310\\lib\\site-packages\\pandas\\io\\parsers\\base_parser.py:1070: UserWarning: Parsing '14/01/2016' in DD/MM/YYYY format. Provide format or specify infer_datetime_format=True for consistent parsing.\n",
      "  return tools.to_datetime(\n",
      "C:\\Users\\Admin\\AppData\\Local\\Programs\\Python\\Python310\\lib\\site-packages\\pandas\\io\\parsers\\base_parser.py:1070: UserWarning: Parsing '14/02/2016' in DD/MM/YYYY format. Provide format or specify infer_datetime_format=True for consistent parsing.\n",
      "  return tools.to_datetime(\n",
      "C:\\Users\\Admin\\AppData\\Local\\Programs\\Python\\Python310\\lib\\site-packages\\pandas\\io\\parsers\\base_parser.py:1070: UserWarning: Parsing '14/03/2016' in DD/MM/YYYY format. Provide format or specify infer_datetime_format=True for consistent parsing.\n",
      "  return tools.to_datetime(\n",
      "C:\\Users\\Admin\\AppData\\Local\\Programs\\Python\\Python310\\lib\\site-packages\\pandas\\io\\parsers\\base_parser.py:1070: UserWarning: Parsing '14/04/2016' in DD/MM/YYYY format. Provide format or specify infer_datetime_format=True for consistent parsing.\n",
      "  return tools.to_datetime(\n",
      "C:\\Users\\Admin\\AppData\\Local\\Programs\\Python\\Python310\\lib\\site-packages\\pandas\\io\\parsers\\base_parser.py:1070: UserWarning: Parsing '14/05/2016' in DD/MM/YYYY format. Provide format or specify infer_datetime_format=True for consistent parsing.\n",
      "  return tools.to_datetime(\n",
      "C:\\Users\\Admin\\AppData\\Local\\Programs\\Python\\Python310\\lib\\site-packages\\pandas\\io\\parsers\\base_parser.py:1070: UserWarning: Parsing '14/06/2016' in DD/MM/YYYY format. Provide format or specify infer_datetime_format=True for consistent parsing.\n",
      "  return tools.to_datetime(\n",
      "C:\\Users\\Admin\\AppData\\Local\\Programs\\Python\\Python310\\lib\\site-packages\\pandas\\io\\parsers\\base_parser.py:1070: UserWarning: Parsing '14/07/2016' in DD/MM/YYYY format. Provide format or specify infer_datetime_format=True for consistent parsing.\n",
      "  return tools.to_datetime(\n",
      "C:\\Users\\Admin\\AppData\\Local\\Programs\\Python\\Python310\\lib\\site-packages\\pandas\\io\\parsers\\base_parser.py:1070: UserWarning: Parsing '14/08/2016' in DD/MM/YYYY format. Provide format or specify infer_datetime_format=True for consistent parsing.\n",
      "  return tools.to_datetime(\n",
      "C:\\Users\\Admin\\AppData\\Local\\Programs\\Python\\Python310\\lib\\site-packages\\pandas\\io\\parsers\\base_parser.py:1070: UserWarning: Parsing '14/09/2016' in DD/MM/YYYY format. Provide format or specify infer_datetime_format=True for consistent parsing.\n",
      "  return tools.to_datetime(\n",
      "C:\\Users\\Admin\\AppData\\Local\\Programs\\Python\\Python310\\lib\\site-packages\\pandas\\io\\parsers\\base_parser.py:1070: UserWarning: Parsing '14/10/2016' in DD/MM/YYYY format. Provide format or specify infer_datetime_format=True for consistent parsing.\n",
      "  return tools.to_datetime(\n",
      "C:\\Users\\Admin\\AppData\\Local\\Programs\\Python\\Python310\\lib\\site-packages\\pandas\\io\\parsers\\base_parser.py:1070: UserWarning: Parsing '14/11/2016' in DD/MM/YYYY format. Provide format or specify infer_datetime_format=True for consistent parsing.\n",
      "  return tools.to_datetime(\n",
      "C:\\Users\\Admin\\AppData\\Local\\Programs\\Python\\Python310\\lib\\site-packages\\pandas\\io\\parsers\\base_parser.py:1070: UserWarning: Parsing '14/12/2016' in DD/MM/YYYY format. Provide format or specify infer_datetime_format=True for consistent parsing.\n",
      "  return tools.to_datetime(\n",
      "C:\\Users\\Admin\\AppData\\Local\\Programs\\Python\\Python310\\lib\\site-packages\\pandas\\io\\parsers\\base_parser.py:1070: UserWarning: Parsing '14/01/2017' in DD/MM/YYYY format. Provide format or specify infer_datetime_format=True for consistent parsing.\n",
      "  return tools.to_datetime(\n",
      "C:\\Users\\Admin\\AppData\\Local\\Programs\\Python\\Python310\\lib\\site-packages\\pandas\\io\\parsers\\base_parser.py:1070: UserWarning: Parsing '14/02/2017' in DD/MM/YYYY format. Provide format or specify infer_datetime_format=True for consistent parsing.\n",
      "  return tools.to_datetime(\n",
      "C:\\Users\\Admin\\AppData\\Local\\Programs\\Python\\Python310\\lib\\site-packages\\pandas\\io\\parsers\\base_parser.py:1070: UserWarning: Parsing '14/03/2017' in DD/MM/YYYY format. Provide format or specify infer_datetime_format=True for consistent parsing.\n",
      "  return tools.to_datetime(\n",
      "C:\\Users\\Admin\\AppData\\Local\\Programs\\Python\\Python310\\lib\\site-packages\\pandas\\io\\parsers\\base_parser.py:1070: UserWarning: Parsing '14/04/2017' in DD/MM/YYYY format. Provide format or specify infer_datetime_format=True for consistent parsing.\n",
      "  return tools.to_datetime(\n",
      "C:\\Users\\Admin\\AppData\\Local\\Programs\\Python\\Python310\\lib\\site-packages\\pandas\\io\\parsers\\base_parser.py:1070: UserWarning: Parsing '14/05/2017' in DD/MM/YYYY format. Provide format or specify infer_datetime_format=True for consistent parsing.\n",
      "  return tools.to_datetime(\n",
      "C:\\Users\\Admin\\AppData\\Local\\Programs\\Python\\Python310\\lib\\site-packages\\pandas\\io\\parsers\\base_parser.py:1070: UserWarning: Parsing '14/06/2017' in DD/MM/YYYY format. Provide format or specify infer_datetime_format=True for consistent parsing.\n",
      "  return tools.to_datetime(\n",
      "C:\\Users\\Admin\\AppData\\Local\\Programs\\Python\\Python310\\lib\\site-packages\\pandas\\io\\parsers\\base_parser.py:1070: UserWarning: Parsing '14/07/2017' in DD/MM/YYYY format. Provide format or specify infer_datetime_format=True for consistent parsing.\n",
      "  return tools.to_datetime(\n",
      "C:\\Users\\Admin\\AppData\\Local\\Programs\\Python\\Python310\\lib\\site-packages\\pandas\\io\\parsers\\base_parser.py:1070: UserWarning: Parsing '14/08/2017' in DD/MM/YYYY format. Provide format or specify infer_datetime_format=True for consistent parsing.\n",
      "  return tools.to_datetime(\n",
      "C:\\Users\\Admin\\AppData\\Local\\Programs\\Python\\Python310\\lib\\site-packages\\pandas\\io\\parsers\\base_parser.py:1070: UserWarning: Parsing '14/09/2017' in DD/MM/YYYY format. Provide format or specify infer_datetime_format=True for consistent parsing.\n",
      "  return tools.to_datetime(\n",
      "C:\\Users\\Admin\\AppData\\Local\\Programs\\Python\\Python310\\lib\\site-packages\\pandas\\io\\parsers\\base_parser.py:1070: UserWarning: Parsing '14/10/2017' in DD/MM/YYYY format. Provide format or specify infer_datetime_format=True for consistent parsing.\n",
      "  return tools.to_datetime(\n",
      "C:\\Users\\Admin\\AppData\\Local\\Programs\\Python\\Python310\\lib\\site-packages\\pandas\\io\\parsers\\base_parser.py:1070: UserWarning: Parsing '14/11/2017' in DD/MM/YYYY format. Provide format or specify infer_datetime_format=True for consistent parsing.\n",
      "  return tools.to_datetime(\n",
      "C:\\Users\\Admin\\AppData\\Local\\Programs\\Python\\Python310\\lib\\site-packages\\pandas\\io\\parsers\\base_parser.py:1070: UserWarning: Parsing '14/12/2017' in DD/MM/YYYY format. Provide format or specify infer_datetime_format=True for consistent parsing.\n",
      "  return tools.to_datetime(\n",
      "C:\\Users\\Admin\\AppData\\Local\\Programs\\Python\\Python310\\lib\\site-packages\\pandas\\io\\parsers\\base_parser.py:1070: UserWarning: Parsing '14/01/2018' in DD/MM/YYYY format. Provide format or specify infer_datetime_format=True for consistent parsing.\n",
      "  return tools.to_datetime(\n",
      "C:\\Users\\Admin\\AppData\\Local\\Programs\\Python\\Python310\\lib\\site-packages\\pandas\\io\\parsers\\base_parser.py:1070: UserWarning: Parsing '14/02/2018' in DD/MM/YYYY format. Provide format or specify infer_datetime_format=True for consistent parsing.\n",
      "  return tools.to_datetime(\n",
      "C:\\Users\\Admin\\AppData\\Local\\Programs\\Python\\Python310\\lib\\site-packages\\pandas\\io\\parsers\\base_parser.py:1070: UserWarning: Parsing '14/03/2018' in DD/MM/YYYY format. Provide format or specify infer_datetime_format=True for consistent parsing.\n",
      "  return tools.to_datetime(\n",
      "C:\\Users\\Admin\\AppData\\Local\\Programs\\Python\\Python310\\lib\\site-packages\\pandas\\io\\parsers\\base_parser.py:1070: UserWarning: Parsing '14/04/2018' in DD/MM/YYYY format. Provide format or specify infer_datetime_format=True for consistent parsing.\n",
      "  return tools.to_datetime(\n",
      "C:\\Users\\Admin\\AppData\\Local\\Programs\\Python\\Python310\\lib\\site-packages\\pandas\\io\\parsers\\base_parser.py:1070: UserWarning: Parsing '14/05/2018' in DD/MM/YYYY format. Provide format or specify infer_datetime_format=True for consistent parsing.\n",
      "  return tools.to_datetime(\n",
      "C:\\Users\\Admin\\AppData\\Local\\Programs\\Python\\Python310\\lib\\site-packages\\pandas\\io\\parsers\\base_parser.py:1070: UserWarning: Parsing '14/06/2018' in DD/MM/YYYY format. Provide format or specify infer_datetime_format=True for consistent parsing.\n",
      "  return tools.to_datetime(\n",
      "C:\\Users\\Admin\\AppData\\Local\\Programs\\Python\\Python310\\lib\\site-packages\\pandas\\io\\parsers\\base_parser.py:1070: UserWarning: Parsing '14/07/2018' in DD/MM/YYYY format. Provide format or specify infer_datetime_format=True for consistent parsing.\n",
      "  return tools.to_datetime(\n",
      "C:\\Users\\Admin\\AppData\\Local\\Programs\\Python\\Python310\\lib\\site-packages\\pandas\\io\\parsers\\base_parser.py:1070: UserWarning: Parsing '14/08/2018' in DD/MM/YYYY format. Provide format or specify infer_datetime_format=True for consistent parsing.\n",
      "  return tools.to_datetime(\n",
      "C:\\Users\\Admin\\AppData\\Local\\Programs\\Python\\Python310\\lib\\site-packages\\pandas\\io\\parsers\\base_parser.py:1070: UserWarning: Parsing '14/09/2018' in DD/MM/YYYY format. Provide format or specify infer_datetime_format=True for consistent parsing.\n",
      "  return tools.to_datetime(\n",
      "C:\\Users\\Admin\\AppData\\Local\\Programs\\Python\\Python310\\lib\\site-packages\\pandas\\io\\parsers\\base_parser.py:1070: UserWarning: Parsing '14/10/2018' in DD/MM/YYYY format. Provide format or specify infer_datetime_format=True for consistent parsing.\n",
      "  return tools.to_datetime(\n",
      "C:\\Users\\Admin\\AppData\\Local\\Programs\\Python\\Python310\\lib\\site-packages\\pandas\\io\\parsers\\base_parser.py:1070: UserWarning: Parsing '14/11/2018' in DD/MM/YYYY format. Provide format or specify infer_datetime_format=True for consistent parsing.\n",
      "  return tools.to_datetime(\n",
      "C:\\Users\\Admin\\AppData\\Local\\Programs\\Python\\Python310\\lib\\site-packages\\pandas\\io\\parsers\\base_parser.py:1070: UserWarning: Parsing '14/12/2018' in DD/MM/YYYY format. Provide format or specify infer_datetime_format=True for consistent parsing.\n",
      "  return tools.to_datetime(\n",
      "C:\\Users\\Admin\\AppData\\Local\\Programs\\Python\\Python310\\lib\\site-packages\\pandas\\io\\parsers\\base_parser.py:1070: UserWarning: Parsing '14/01/2019' in DD/MM/YYYY format. Provide format or specify infer_datetime_format=True for consistent parsing.\n",
      "  return tools.to_datetime(\n",
      "C:\\Users\\Admin\\AppData\\Local\\Programs\\Python\\Python310\\lib\\site-packages\\pandas\\io\\parsers\\base_parser.py:1070: UserWarning: Parsing '14/02/2019' in DD/MM/YYYY format. Provide format or specify infer_datetime_format=True for consistent parsing.\n",
      "  return tools.to_datetime(\n",
      "C:\\Users\\Admin\\AppData\\Local\\Programs\\Python\\Python310\\lib\\site-packages\\pandas\\io\\parsers\\base_parser.py:1070: UserWarning: Parsing '14/03/2019' in DD/MM/YYYY format. Provide format or specify infer_datetime_format=True for consistent parsing.\n",
      "  return tools.to_datetime(\n",
      "C:\\Users\\Admin\\AppData\\Local\\Programs\\Python\\Python310\\lib\\site-packages\\pandas\\io\\parsers\\base_parser.py:1070: UserWarning: Parsing '14/04/2019' in DD/MM/YYYY format. Provide format or specify infer_datetime_format=True for consistent parsing.\n",
      "  return tools.to_datetime(\n",
      "C:\\Users\\Admin\\AppData\\Local\\Programs\\Python\\Python310\\lib\\site-packages\\pandas\\io\\parsers\\base_parser.py:1070: UserWarning: Parsing '14/05/2019' in DD/MM/YYYY format. Provide format or specify infer_datetime_format=True for consistent parsing.\n",
      "  return tools.to_datetime(\n",
      "C:\\Users\\Admin\\AppData\\Local\\Programs\\Python\\Python310\\lib\\site-packages\\pandas\\io\\parsers\\base_parser.py:1070: UserWarning: Parsing '14/06/2019' in DD/MM/YYYY format. Provide format or specify infer_datetime_format=True for consistent parsing.\n",
      "  return tools.to_datetime(\n",
      "C:\\Users\\Admin\\AppData\\Local\\Programs\\Python\\Python310\\lib\\site-packages\\pandas\\io\\parsers\\base_parser.py:1070: UserWarning: Parsing '14/07/2019' in DD/MM/YYYY format. Provide format or specify infer_datetime_format=True for consistent parsing.\n",
      "  return tools.to_datetime(\n",
      "C:\\Users\\Admin\\AppData\\Local\\Programs\\Python\\Python310\\lib\\site-packages\\pandas\\io\\parsers\\base_parser.py:1070: UserWarning: Parsing '14/08/2019' in DD/MM/YYYY format. Provide format or specify infer_datetime_format=True for consistent parsing.\n",
      "  return tools.to_datetime(\n",
      "C:\\Users\\Admin\\AppData\\Local\\Programs\\Python\\Python310\\lib\\site-packages\\pandas\\io\\parsers\\base_parser.py:1070: UserWarning: Parsing '14/09/2019' in DD/MM/YYYY format. Provide format or specify infer_datetime_format=True for consistent parsing.\n",
      "  return tools.to_datetime(\n",
      "C:\\Users\\Admin\\AppData\\Local\\Programs\\Python\\Python310\\lib\\site-packages\\pandas\\io\\parsers\\base_parser.py:1070: UserWarning: Parsing '14/10/2019' in DD/MM/YYYY format. Provide format or specify infer_datetime_format=True for consistent parsing.\n",
      "  return tools.to_datetime(\n",
      "C:\\Users\\Admin\\AppData\\Local\\Programs\\Python\\Python310\\lib\\site-packages\\pandas\\io\\parsers\\base_parser.py:1070: UserWarning: Parsing '14/11/2019' in DD/MM/YYYY format. Provide format or specify infer_datetime_format=True for consistent parsing.\n",
      "  return tools.to_datetime(\n",
      "C:\\Users\\Admin\\AppData\\Local\\Programs\\Python\\Python310\\lib\\site-packages\\pandas\\io\\parsers\\base_parser.py:1070: UserWarning: Parsing '14/12/2019' in DD/MM/YYYY format. Provide format or specify infer_datetime_format=True for consistent parsing.\n",
      "  return tools.to_datetime(\n",
      "C:\\Users\\Admin\\AppData\\Local\\Programs\\Python\\Python310\\lib\\site-packages\\pandas\\io\\parsers\\base_parser.py:1070: UserWarning: Parsing '14/01/2020' in DD/MM/YYYY format. Provide format or specify infer_datetime_format=True for consistent parsing.\n",
      "  return tools.to_datetime(\n",
      "C:\\Users\\Admin\\AppData\\Local\\Programs\\Python\\Python310\\lib\\site-packages\\pandas\\io\\parsers\\base_parser.py:1070: UserWarning: Parsing '14/02/2020' in DD/MM/YYYY format. Provide format or specify infer_datetime_format=True for consistent parsing.\n",
      "  return tools.to_datetime(\n",
      "C:\\Users\\Admin\\AppData\\Local\\Programs\\Python\\Python310\\lib\\site-packages\\pandas\\io\\parsers\\base_parser.py:1070: UserWarning: Parsing '14/03/2020' in DD/MM/YYYY format. Provide format or specify infer_datetime_format=True for consistent parsing.\n",
      "  return tools.to_datetime(\n",
      "C:\\Users\\Admin\\AppData\\Local\\Programs\\Python\\Python310\\lib\\site-packages\\pandas\\io\\parsers\\base_parser.py:1070: UserWarning: Parsing '14/04/2020' in DD/MM/YYYY format. Provide format or specify infer_datetime_format=True for consistent parsing.\n",
      "  return tools.to_datetime(\n",
      "C:\\Users\\Admin\\AppData\\Local\\Programs\\Python\\Python310\\lib\\site-packages\\pandas\\io\\parsers\\base_parser.py:1070: UserWarning: Parsing '14/05/2020' in DD/MM/YYYY format. Provide format or specify infer_datetime_format=True for consistent parsing.\n",
      "  return tools.to_datetime(\n",
      "C:\\Users\\Admin\\AppData\\Local\\Programs\\Python\\Python310\\lib\\site-packages\\pandas\\io\\parsers\\base_parser.py:1070: UserWarning: Parsing '14/06/2020' in DD/MM/YYYY format. Provide format or specify infer_datetime_format=True for consistent parsing.\n",
      "  return tools.to_datetime(\n",
      "C:\\Users\\Admin\\AppData\\Local\\Programs\\Python\\Python310\\lib\\site-packages\\pandas\\io\\parsers\\base_parser.py:1070: UserWarning: Parsing '14/07/2020' in DD/MM/YYYY format. Provide format or specify infer_datetime_format=True for consistent parsing.\n",
      "  return tools.to_datetime(\n",
      "C:\\Users\\Admin\\AppData\\Local\\Programs\\Python\\Python310\\lib\\site-packages\\pandas\\io\\parsers\\base_parser.py:1070: UserWarning: Parsing '14/08/2020' in DD/MM/YYYY format. Provide format or specify infer_datetime_format=True for consistent parsing.\n",
      "  return tools.to_datetime(\n",
      "C:\\Users\\Admin\\AppData\\Local\\Programs\\Python\\Python310\\lib\\site-packages\\pandas\\io\\parsers\\base_parser.py:1070: UserWarning: Parsing '14/09/2020' in DD/MM/YYYY format. Provide format or specify infer_datetime_format=True for consistent parsing.\n",
      "  return tools.to_datetime(\n",
      "C:\\Users\\Admin\\AppData\\Local\\Programs\\Python\\Python310\\lib\\site-packages\\pandas\\io\\parsers\\base_parser.py:1070: UserWarning: Parsing '14/10/2020' in DD/MM/YYYY format. Provide format or specify infer_datetime_format=True for consistent parsing.\n",
      "  return tools.to_datetime(\n",
      "C:\\Users\\Admin\\AppData\\Local\\Programs\\Python\\Python310\\lib\\site-packages\\pandas\\io\\parsers\\base_parser.py:1070: UserWarning: Parsing '14/11/2020' in DD/MM/YYYY format. Provide format or specify infer_datetime_format=True for consistent parsing.\n",
      "  return tools.to_datetime(\n",
      "C:\\Users\\Admin\\AppData\\Local\\Programs\\Python\\Python310\\lib\\site-packages\\pandas\\io\\parsers\\base_parser.py:1070: UserWarning: Parsing '14/12/2020' in DD/MM/YYYY format. Provide format or specify infer_datetime_format=True for consistent parsing.\n",
      "  return tools.to_datetime(\n",
      "C:\\Users\\Admin\\AppData\\Local\\Programs\\Python\\Python310\\lib\\site-packages\\pandas\\io\\parsers\\base_parser.py:1070: UserWarning: Parsing '14/01/2021' in DD/MM/YYYY format. Provide format or specify infer_datetime_format=True for consistent parsing.\n",
      "  return tools.to_datetime(\n",
      "C:\\Users\\Admin\\AppData\\Local\\Programs\\Python\\Python310\\lib\\site-packages\\pandas\\io\\parsers\\base_parser.py:1070: UserWarning: Parsing '14/02/2021' in DD/MM/YYYY format. Provide format or specify infer_datetime_format=True for consistent parsing.\n",
      "  return tools.to_datetime(\n",
      "C:\\Users\\Admin\\AppData\\Local\\Programs\\Python\\Python310\\lib\\site-packages\\pandas\\io\\parsers\\base_parser.py:1070: UserWarning: Parsing '14/03/2021' in DD/MM/YYYY format. Provide format or specify infer_datetime_format=True for consistent parsing.\n",
      "  return tools.to_datetime(\n",
      "C:\\Users\\Admin\\AppData\\Local\\Programs\\Python\\Python310\\lib\\site-packages\\pandas\\io\\parsers\\base_parser.py:1070: UserWarning: Parsing '14/04/2021' in DD/MM/YYYY format. Provide format or specify infer_datetime_format=True for consistent parsing.\n",
      "  return tools.to_datetime(\n",
      "C:\\Users\\Admin\\AppData\\Local\\Programs\\Python\\Python310\\lib\\site-packages\\pandas\\io\\parsers\\base_parser.py:1070: UserWarning: Parsing '14/05/2021' in DD/MM/YYYY format. Provide format or specify infer_datetime_format=True for consistent parsing.\n",
      "  return tools.to_datetime(\n",
      "C:\\Users\\Admin\\AppData\\Local\\Programs\\Python\\Python310\\lib\\site-packages\\pandas\\io\\parsers\\base_parser.py:1070: UserWarning: Parsing '14/06/2021' in DD/MM/YYYY format. Provide format or specify infer_datetime_format=True for consistent parsing.\n",
      "  return tools.to_datetime(\n",
      "C:\\Users\\Admin\\AppData\\Local\\Programs\\Python\\Python310\\lib\\site-packages\\pandas\\io\\parsers\\base_parser.py:1070: UserWarning: Parsing '14/07/2021' in DD/MM/YYYY format. Provide format or specify infer_datetime_format=True for consistent parsing.\n",
      "  return tools.to_datetime(\n",
      "C:\\Users\\Admin\\AppData\\Local\\Programs\\Python\\Python310\\lib\\site-packages\\pandas\\io\\parsers\\base_parser.py:1070: UserWarning: Parsing '14/08/2021' in DD/MM/YYYY format. Provide format or specify infer_datetime_format=True for consistent parsing.\n",
      "  return tools.to_datetime(\n",
      "C:\\Users\\Admin\\AppData\\Local\\Programs\\Python\\Python310\\lib\\site-packages\\pandas\\io\\parsers\\base_parser.py:1070: UserWarning: Parsing '14/09/2021' in DD/MM/YYYY format. Provide format or specify infer_datetime_format=True for consistent parsing.\n",
      "  return tools.to_datetime(\n",
      "C:\\Users\\Admin\\AppData\\Local\\Programs\\Python\\Python310\\lib\\site-packages\\pandas\\io\\parsers\\base_parser.py:1070: UserWarning: Parsing '14/10/2021' in DD/MM/YYYY format. Provide format or specify infer_datetime_format=True for consistent parsing.\n",
      "  return tools.to_datetime(\n",
      "C:\\Users\\Admin\\AppData\\Local\\Programs\\Python\\Python310\\lib\\site-packages\\pandas\\io\\parsers\\base_parser.py:1070: UserWarning: Parsing '14/11/2021' in DD/MM/YYYY format. Provide format or specify infer_datetime_format=True for consistent parsing.\n",
      "  return tools.to_datetime(\n",
      "C:\\Users\\Admin\\AppData\\Local\\Programs\\Python\\Python310\\lib\\site-packages\\pandas\\io\\parsers\\base_parser.py:1070: UserWarning: Parsing '14/12/2021' in DD/MM/YYYY format. Provide format or specify infer_datetime_format=True for consistent parsing.\n",
      "  return tools.to_datetime(\n",
      "C:\\Users\\Admin\\AppData\\Local\\Programs\\Python\\Python310\\lib\\site-packages\\pandas\\io\\parsers\\base_parser.py:1070: UserWarning: Parsing '14/01/2022' in DD/MM/YYYY format. Provide format or specify infer_datetime_format=True for consistent parsing.\n",
      "  return tools.to_datetime(\n",
      "C:\\Users\\Admin\\AppData\\Local\\Programs\\Python\\Python310\\lib\\site-packages\\pandas\\io\\parsers\\base_parser.py:1070: UserWarning: Parsing '14/02/2022' in DD/MM/YYYY format. Provide format or specify infer_datetime_format=True for consistent parsing.\n",
      "  return tools.to_datetime(\n",
      "C:\\Users\\Admin\\AppData\\Local\\Programs\\Python\\Python310\\lib\\site-packages\\pandas\\io\\parsers\\base_parser.py:1070: UserWarning: Parsing '14/03/2022' in DD/MM/YYYY format. Provide format or specify infer_datetime_format=True for consistent parsing.\n",
      "  return tools.to_datetime(\n",
      "C:\\Users\\Admin\\AppData\\Local\\Temp\\ipykernel_6980\\4234554964.py:7: FutureWarning: In a future version of pandas all arguments of DataFrame.drop except for the argument 'labels' will be keyword-only.\n",
      "  dt = dt.drop([\"Average_price_crude\",\"Price_oil_internationally\"],1)\n"
     ]
    }
   ],
   "source": [
    "import os\n",
    "os.listdir()\n",
    "import pandas as pd\n",
    "import seaborn as sns\n",
    "import plotly_express as px\n",
    "dt = pd.read_excel('oil  pricesdata Edited.xlsx',parse_dates = [\"Date\"])\n",
    "dt = dt.drop([\"Average_price_crude\",\"Price_oil_internationally\"],1)"
   ]
  },
  {
   "cell_type": "markdown",
   "id": "ca114e45",
   "metadata": {},
   "source": [
    "# Data cleaning"
   ]
  },
  {
   "cell_type": "code",
   "execution_count": 31,
   "id": "d5183c0d",
   "metadata": {},
   "outputs": [
    {
     "data": {
      "text/html": [
       "<div>\n",
       "<style scoped>\n",
       "    .dataframe tbody tr th:only-of-type {\n",
       "        vertical-align: middle;\n",
       "    }\n",
       "\n",
       "    .dataframe tbody tr th {\n",
       "        vertical-align: top;\n",
       "    }\n",
       "\n",
       "    .dataframe thead th {\n",
       "        text-align: right;\n",
       "    }\n",
       "</style>\n",
       "<table border=\"1\" class=\"dataframe\">\n",
       "  <thead>\n",
       "    <tr style=\"text-align: right;\">\n",
       "      <th></th>\n",
       "      <th>index</th>\n",
       "      <th>Date</th>\n",
       "      <th>Price_per_barell</th>\n",
       "      <th>Exchange_rate</th>\n",
       "      <th>petrol</th>\n",
       "      <th>diesel</th>\n",
       "      <th>kerosene</th>\n",
       "    </tr>\n",
       "  </thead>\n",
       "  <tbody>\n",
       "    <tr>\n",
       "      <th>0</th>\n",
       "      <td>0.0</td>\n",
       "      <td>2010-01-14</td>\n",
       "      <td>89.15</td>\n",
       "      <td>80.568005</td>\n",
       "      <td>94.03</td>\n",
       "      <td>87.45</td>\n",
       "      <td>75.83</td>\n",
       "    </tr>\n",
       "    <tr>\n",
       "      <th>1</th>\n",
       "      <td>1.0</td>\n",
       "      <td>2011-01-14</td>\n",
       "      <td>89.17</td>\n",
       "      <td>81.029071</td>\n",
       "      <td>95.67</td>\n",
       "      <td>88.71</td>\n",
       "      <td>77.51</td>\n",
       "    </tr>\n",
       "    <tr>\n",
       "      <th>2</th>\n",
       "      <td>2.0</td>\n",
       "      <td>2011-02-14</td>\n",
       "      <td>88.58</td>\n",
       "      <td>81.473400</td>\n",
       "      <td>98.08</td>\n",
       "      <td>91.72</td>\n",
       "      <td>79.52</td>\n",
       "    </tr>\n",
       "    <tr>\n",
       "      <th>3</th>\n",
       "      <td>3.0</td>\n",
       "      <td>2011-03-14</td>\n",
       "      <td>102.86</td>\n",
       "      <td>84.205509</td>\n",
       "      <td>102.44</td>\n",
       "      <td>94.53</td>\n",
       "      <td>83.97</td>\n",
       "    </tr>\n",
       "    <tr>\n",
       "      <th>4</th>\n",
       "      <td>4.0</td>\n",
       "      <td>2011-04-14</td>\n",
       "      <td>109.53</td>\n",
       "      <td>83.889816</td>\n",
       "      <td>111.17</td>\n",
       "      <td>107.52</td>\n",
       "      <td>90.91</td>\n",
       "    </tr>\n",
       "  </tbody>\n",
       "</table>\n",
       "</div>"
      ],
      "text/plain": [
       "   index       Date  Price_per_barell  Exchange_rate  petrol  diesel  kerosene\n",
       "0    0.0 2010-01-14             89.15      80.568005   94.03   87.45     75.83\n",
       "1    1.0 2011-01-14             89.17      81.029071   95.67   88.71     77.51\n",
       "2    2.0 2011-02-14             88.58      81.473400   98.08   91.72     79.52\n",
       "3    3.0 2011-03-14            102.86      84.205509  102.44   94.53     83.97\n",
       "4    4.0 2011-04-14            109.53      83.889816  111.17  107.52     90.91"
      ]
     },
     "execution_count": 31,
     "metadata": {},
     "output_type": "execute_result"
    }
   ],
   "source": [
    "dt.columns = [\"index\",\"Date\",\"Price_per_barell\",\"Exchange_rate\",\"petrol\",\"diesel\",\"kerosene\"]\n",
    "dt.head()"
   ]
  },
  {
   "cell_type": "code",
   "execution_count": 38,
   "id": "db8ba22e",
   "metadata": {},
   "outputs": [
    {
     "data": {
      "text/plain": [
       "Index(['index', 'Date', 'Price_per_barell', 'Exchange_rate', 'petrol',\n",
       "       'diesel', 'kerosene'],\n",
       "      dtype='object')"
      ]
     },
     "execution_count": 38,
     "metadata": {},
     "output_type": "execute_result"
    }
   ],
   "source": [
    "dt.columns# column names"
   ]
  },
  {
   "cell_type": "code",
   "execution_count": 39,
   "id": "b8d11c52",
   "metadata": {},
   "outputs": [
    {
     "data": {
      "text/plain": [
       "(136, 7)"
      ]
     },
     "execution_count": 39,
     "metadata": {},
     "output_type": "execute_result"
    }
   ],
   "source": [
    "dt.shape# the number of rows and column"
   ]
  },
  {
   "cell_type": "code",
   "execution_count": 40,
   "id": "3b2e2e82",
   "metadata": {
    "scrolled": true
   },
   "outputs": [
    {
     "data": {
      "text/html": [
       "<div>\n",
       "<style scoped>\n",
       "    .dataframe tbody tr th:only-of-type {\n",
       "        vertical-align: middle;\n",
       "    }\n",
       "\n",
       "    .dataframe tbody tr th {\n",
       "        vertical-align: top;\n",
       "    }\n",
       "\n",
       "    .dataframe thead th {\n",
       "        text-align: right;\n",
       "    }\n",
       "</style>\n",
       "<table border=\"1\" class=\"dataframe\">\n",
       "  <thead>\n",
       "    <tr style=\"text-align: right;\">\n",
       "      <th></th>\n",
       "      <th>index</th>\n",
       "      <th>Price_per_barell</th>\n",
       "      <th>Exchange_rate</th>\n",
       "      <th>petrol</th>\n",
       "      <th>diesel</th>\n",
       "      <th>kerosene</th>\n",
       "    </tr>\n",
       "  </thead>\n",
       "  <tbody>\n",
       "    <tr>\n",
       "      <th>count</th>\n",
       "      <td>136.000000</td>\n",
       "      <td>136.000000</td>\n",
       "      <td>136.000000</td>\n",
       "      <td>136.000000</td>\n",
       "      <td>136.000000</td>\n",
       "      <td>136.000000</td>\n",
       "    </tr>\n",
       "    <tr>\n",
       "      <th>mean</th>\n",
       "      <td>67.419118</td>\n",
       "      <td>70.278382</td>\n",
       "      <td>97.513447</td>\n",
       "      <td>107.784779</td>\n",
       "      <td>97.252132</td>\n",
       "      <td>80.859632</td>\n",
       "    </tr>\n",
       "    <tr>\n",
       "      <th>std</th>\n",
       "      <td>39.391775</td>\n",
       "      <td>22.305188</td>\n",
       "      <td>9.129601</td>\n",
       "      <td>11.739080</td>\n",
       "      <td>11.692082</td>\n",
       "      <td>16.590447</td>\n",
       "    </tr>\n",
       "    <tr>\n",
       "      <th>min</th>\n",
       "      <td>0.000000</td>\n",
       "      <td>17.640000</td>\n",
       "      <td>80.568005</td>\n",
       "      <td>80.710000</td>\n",
       "      <td>65.700000</td>\n",
       "      <td>39.620000</td>\n",
       "    </tr>\n",
       "    <tr>\n",
       "      <th>25%</th>\n",
       "      <td>33.750000</td>\n",
       "      <td>50.390000</td>\n",
       "      <td>87.437365</td>\n",
       "      <td>99.375000</td>\n",
       "      <td>88.687500</td>\n",
       "      <td>66.032500</td>\n",
       "    </tr>\n",
       "    <tr>\n",
       "      <th>50%</th>\n",
       "      <td>67.500000</td>\n",
       "      <td>67.205000</td>\n",
       "      <td>101.160000</td>\n",
       "      <td>109.115000</td>\n",
       "      <td>101.845000</td>\n",
       "      <td>83.180000</td>\n",
       "    </tr>\n",
       "    <tr>\n",
       "      <th>75%</th>\n",
       "      <td>100.250000</td>\n",
       "      <td>92.250000</td>\n",
       "      <td>103.427416</td>\n",
       "      <td>114.972500</td>\n",
       "      <td>105.812500</td>\n",
       "      <td>92.482500</td>\n",
       "    </tr>\n",
       "    <tr>\n",
       "      <th>max</th>\n",
       "      <td>136.000000</td>\n",
       "      <td>109.530000</td>\n",
       "      <td>113.790000</td>\n",
       "      <td>134.720000</td>\n",
       "      <td>115.600000</td>\n",
       "      <td>111.830000</td>\n",
       "    </tr>\n",
       "  </tbody>\n",
       "</table>\n",
       "</div>"
      ],
      "text/plain": [
       "            index  Price_per_barell  Exchange_rate      petrol      diesel  \\\n",
       "count  136.000000        136.000000     136.000000  136.000000  136.000000   \n",
       "mean    67.419118         70.278382      97.513447  107.784779   97.252132   \n",
       "std     39.391775         22.305188       9.129601   11.739080   11.692082   \n",
       "min      0.000000         17.640000      80.568005   80.710000   65.700000   \n",
       "25%     33.750000         50.390000      87.437365   99.375000   88.687500   \n",
       "50%     67.500000         67.205000     101.160000  109.115000  101.845000   \n",
       "75%    100.250000         92.250000     103.427416  114.972500  105.812500   \n",
       "max    136.000000        109.530000     113.790000  134.720000  115.600000   \n",
       "\n",
       "         kerosene  \n",
       "count  136.000000  \n",
       "mean    80.859632  \n",
       "std     16.590447  \n",
       "min     39.620000  \n",
       "25%     66.032500  \n",
       "50%     83.180000  \n",
       "75%     92.482500  \n",
       "max    111.830000  "
      ]
     },
     "execution_count": 40,
     "metadata": {},
     "output_type": "execute_result"
    }
   ],
   "source": [
    "# get the summarys statistics\n",
    "dt.describe()"
   ]
  },
  {
   "cell_type": "code",
   "execution_count": 41,
   "id": "43017682",
   "metadata": {},
   "outputs": [
    {
     "name": "stdout",
     "output_type": "stream",
     "text": [
      "<class 'pandas.core.frame.DataFrame'>\n",
      "RangeIndex: 136 entries, 0 to 135\n",
      "Data columns (total 7 columns):\n",
      " #   Column            Non-Null Count  Dtype         \n",
      "---  ------            --------------  -----         \n",
      " 0   index             136 non-null    float64       \n",
      " 1   Date              136 non-null    datetime64[ns]\n",
      " 2   Price_per_barell  136 non-null    float64       \n",
      " 3   Exchange_rate     136 non-null    float64       \n",
      " 4   petrol            136 non-null    float64       \n",
      " 5   diesel            136 non-null    float64       \n",
      " 6   kerosene          136 non-null    float64       \n",
      "dtypes: datetime64[ns](1), float64(6)\n",
      "memory usage: 7.6 KB\n"
     ]
    }
   ],
   "source": [
    "# get the column types\n",
    "dt.info()"
   ]
  },
  {
   "cell_type": "code",
   "execution_count": 42,
   "id": "c064a04d",
   "metadata": {},
   "outputs": [
    {
     "data": {
      "text/plain": [
       "index               0\n",
       "Date                0\n",
       "Price_per_barell    0\n",
       "Exchange_rate       0\n",
       "petrol              0\n",
       "diesel              0\n",
       "kerosene            0\n",
       "dtype: int64"
      ]
     },
     "execution_count": 42,
     "metadata": {},
     "output_type": "execute_result"
    }
   ],
   "source": [
    "# checking for missing data\n",
    "dt.isnull().sum()\n",
    "# if there were nulls you decide whether to fill with zero, mean, meadian( imputation)or drop"
   ]
  },
  {
   "cell_type": "markdown",
   "id": "2f2980a7",
   "metadata": {},
   "source": [
    "# Data visualizations"
   ]
  },
  {
   "cell_type": "code",
   "execution_count": 35,
   "id": "4ac70cc5",
   "metadata": {},
   "outputs": [
    {
     "data": {
      "image/png": "[encoded data removed]",
      "text/plain": [
       "<Figure size 720x432 with 1 Axes>"
      ]
     },
     "metadata": {},
     "output_type": "display_data"
    },
    {
     "data": {
      "text/plain": [
       "['Solarize_Light2',\n",
       " '_classic_test_patch',\n",
       " '_mpl-gallery',\n",
       " '_mpl-gallery-nogrid',\n",
       " 'bmh',\n",
       " 'classic',\n",
       " 'dark_background',\n",
       " 'fast',\n",
       " 'fivethirtyeight',\n",
       " 'ggplot',\n",
       " 'grayscale',\n",
       " 'seaborn',\n",
       " 'seaborn-bright',\n",
       " 'seaborn-colorblind',\n",
       " 'seaborn-dark',\n",
       " 'seaborn-dark-palette',\n",
       " 'seaborn-darkgrid',\n",
       " 'seaborn-deep',\n",
       " 'seaborn-muted',\n",
       " 'seaborn-notebook',\n",
       " 'seaborn-paper',\n",
       " 'seaborn-pastel',\n",
       " 'seaborn-poster',\n",
       " 'seaborn-talk',\n",
       " 'seaborn-ticks',\n",
       " 'seaborn-white',\n",
       " 'seaborn-whitegrid',\n",
       " 'tableau-colorblind10']"
      ]
     },
     "execution_count": 35,
     "metadata": {},
     "output_type": "execute_result"
    }
   ],
   "source": [
    "import matplotlib.pyplot as plt\n",
    "plt.style.available\n",
    "plt.style.use(\"ggplot\")\n",
    "plt.figure(figsize = (10,6))\n",
    "sns.lineplot(data = dt,x = \"Date\",y =\"Exchange_rate\",label = \"Exrate\")\n",
    "sns.lineplot(data = dt,x = \"Date\",y =\"Price_per_barell\",label = \"ppb\")\n",
    "plt.show()\n",
    "plt.style.available"
   ]
  },
  {
   "cell_type": "code",
   "execution_count": null,
   "id": "afdce8c7",
   "metadata": {},
   "outputs": [],
   "source": [
    "# memorize the functions for pandas cleaning\n",
    "# understand the seaborn syntax\n",
    "# improve the plot above (heading,xlabel,ylabel,different colors, ;lengend)\n",
    "# change the theme\n",
    "# use plotly to make the same plots"
   ]
  },
  {
   "cell_type": "code",
   "execution_count": null,
   "id": "d575b736",
   "metadata": {},
   "outputs": [],
   "source": [
    "# questions\n",
    "# whats happening to kenyan oil prices\n",
    "# compare the prices to international prices\n",
    "# correlation between oil prices in kenya and international prices\n",
    "# convert international prices to kenyan sh/litre\n",
    "# plot of average kenyan price of oil vs international price of oil (in ksh and litres)"
   ]
  },
  {
   "cell_type": "code",
   "execution_count": 37,
   "id": "77607103",
   "metadata": {},
   "outputs": [
    {
     "data": {
      "application/vnd.plotly.v1+json": {
       "config": {
        "plotlyServerURL": "https://plot.ly"
       },
       "data": [
        {
         "hovertemplate": "variable=petrol<br>Date=%{x}<br>value=%{y}<extra></extra>",
         "legendgroup": "petrol",
         "line": {
          "color": "#636efa",
          "dash": "solid"
         },
         "marker": {
          "symbol": "circle"
         },
         "mode": "lines",
         "name": "petrol",
         "orientation": "v",
         "showlegend": true,
         "type": "scatter",
         "x": [
          "2010-01-14T00:00:00",
          "2011-01-14T00:00:00",
          "2011-02-14T00:00:00",
          "2011-03-14T00:00:00",
          "2011-04-14T00:00:00",
          "2011-05-14T00:00:00",
          "2011-06-14T00:00:00",
          "2011-07-14T00:00:00",
          "2011-08-14T00:00:00",
          "2011-09-14T00:00:00",
          "2011-10-14T00:00:00",
          "2011-11-14T00:00:00",
          "2011-12-14T00:00:00",
          "2012-01-14T00:00:00",
          "2012-02-14T00:00:00",
          "2012-03-14T00:00:00",
          "2012-04-14T00:00:00",
          "2012-05-14T00:00:00",
          "2012-06-14T00:00:00",
          "2012-07-14T00:00:00",
          "2012-08-14T00:00:00",
          "2012-09-14T00:00:00",
          "2012-10-14T00:00:00",
          "2012-11-14T00:00:00",
          "2012-12-14T00:00:00",
          "2013-01-14T00:00:00",
          "2013-02-14T00:00:00",
          "2013-03-14T00:00:00",
          "2013-04-14T00:00:00",
          "2013-05-14T00:00:00",
          "2013-06-14T00:00:00",
          "2013-07-14T00:00:00",
          "2013-08-14T00:00:00",
          "2013-09-14T00:00:00",
          "2013-10-14T00:00:00",
          "2013-11-14T00:00:00",
          "2013-12-14T00:00:00",
          "2014-01-14T00:00:00",
          "2014-02-14T00:00:00",
          "2014-03-14T00:00:00",
          "2014-04-14T00:00:00",
          "2014-05-14T00:00:00",
          "2014-06-14T00:00:00",
          "2014-07-14T00:00:00",
          "2014-08-14T00:00:00",
          "2014-09-14T00:00:00",
          "2014-10-14T00:00:00",
          "2014-11-14T00:00:00",
          "2014-12-14T00:00:00",
          "2015-01-14T00:00:00",
          "2015-02-14T00:00:00",
          "2015-03-14T00:00:00",
          "2015-04-14T00:00:00",
          "2015-05-14T00:00:00",
          "2015-06-14T00:00:00",
          "2015-07-14T00:00:00",
          "2015-08-14T00:00:00",
          "2015-09-14T00:00:00",
          "2015-10-14T00:00:00",
          "2015-11-14T00:00:00",
          "2015-12-14T00:00:00",
          "2016-01-14T00:00:00",
          "2016-02-14T00:00:00",
          "2016-03-14T00:00:00",
          "2016-04-14T00:00:00",
          "2016-05-14T00:00:00",
          "2016-06-14T00:00:00",
          "2016-07-14T00:00:00",
          "2016-08-14T00:00:00",
          "2016-09-14T00:00:00",
          "2016-10-14T00:00:00",
          "2016-11-14T00:00:00",
          "2016-12-14T00:00:00",
          "2017-01-14T00:00:00",
          "2017-02-14T00:00:00",
          "2017-03-14T00:00:00",
          "2017-04-14T00:00:00",
          "2017-05-14T00:00:00",
          "2017-06-14T00:00:00",
          "2017-07-14T00:00:00",
          "2017-08-14T00:00:00",
          "2017-09-14T00:00:00",
          "2017-10-14T00:00:00",
          "2017-11-14T00:00:00",
          "2017-12-14T00:00:00",
          "2018-01-14T00:00:00",
          "2018-02-14T00:00:00",
          "2018-03-14T00:00:00",
          "2018-04-14T00:00:00",
          "2018-05-14T00:00:00",
          "2018-06-14T00:00:00",
          "2018-07-14T00:00:00",
          "2018-08-14T00:00:00",
          "2018-09-14T00:00:00",
          "2018-10-14T00:00:00",
          "2018-11-14T00:00:00",
          "2018-12-14T00:00:00",
          "2019-01-14T00:00:00",
          "2019-02-14T00:00:00",
          "2019-03-14T00:00:00",
          "2019-04-14T00:00:00",
          "2019-05-14T00:00:00",
          "2019-06-14T00:00:00",
          "2019-07-14T00:00:00",
          "2019-08-14T00:00:00",
          "2019-09-14T00:00:00",
          "2019-10-14T00:00:00",
          "2019-11-14T00:00:00",
          "2019-12-14T00:00:00",
          "2020-01-14T00:00:00",
          "2020-02-14T00:00:00",
          "2020-03-14T00:00:00",
          "2020-04-14T00:00:00",
          "2020-05-14T00:00:00",
          "2020-06-14T00:00:00",
          "2020-07-14T00:00:00",
          "2020-08-14T00:00:00",
          "2020-09-14T00:00:00",
          "2020-10-14T00:00:00",
          "2020-11-14T00:00:00",
          "2020-12-14T00:00:00",
          "2021-01-14T00:00:00",
          "2021-02-14T00:00:00",
          "2021-03-14T00:00:00",
          "2021-04-14T00:00:00",
          "2021-05-14T00:00:00",
          "2021-06-14T00:00:00",
          "2021-07-14T00:00:00",
          "2021-08-14T00:00:00",
          "2021-09-14T00:00:00",
          "2021-10-14T00:00:00",
          "2021-11-14T00:00:00",
          "2021-12-14T00:00:00",
          "2022-01-14T00:00:00",
          "2022-02-14T00:00:00",
          "2022-03-14T00:00:00"
         ],
         "xaxis": "x",
         "y": [
          94.03,
          95.67,
          98.08,
          102.44,
          111.17,
          115.35,
          114.93,
          115.39,
          117.22,
          117.75,
          120.5,
          124.13,
          119.06,
          111.95,
          111.32,
          111.69,
          118.5,
          121.43,
          117.67,
          108.46,
          106.48,
          108.95,
          115.26,
          113.68,
          112.61,
          111.6,
          113.57,
          117.69,
          117.65,
          113.24,
          108.18,
          109.52,
          112.26,
          113.88,
          112.27,
          108.87,
          109.28,
          110.59,
          111.55,
          113.61,
          114.16,
          114.16,
          114.73,
          115.86,
          116.62,
          111.64,
          110.89,
          106.8,
          102.01,
          92.88,
          84.71,
          89.46,
          89.35,
          92.89,
          97.28,
          98.59,
          102.65,
          102.65,
          93.29,
          90.46,
          90.06,
          88.64,
          86.5,
          85.58,
          80.71,
          84.25,
          86.17,
          93.93,
          95.13,
          91.39,
          91.56,
          94.94,
          94.2,
          96.01,
          100.2,
          101,
          98,
          99.59,
          98.73,
          97.1,
          96.08,
          98.3,
          101.6,
          102.7,
          104.1,
          106.3,
          107.92,
          107.46,
          106.83,
          107.17,
          108.81,
          112.2,
          113.73,
          125.59,
          115.73,
          118.11,
          113.54,
          104.21,
          100.09,
          101.35,
          106.6,
          112.03,
          115.1,
          115.39,
          112.53,
          112.81,
          108.05,
          110.59,
          109.5,
          110.2,
          112.87,
          110.87,
          92.87,
          83.33,
          89.1,
          100.48,
          103.95,
          105.43,
          107.27,
          105.85,
          106.82,
          106.99,
          115.18,
          122.21,
          122.81,
          126.37,
          127.14,
          127.14,
          127.14,
          134.72,
          129.72,
          129.72,
          129.72,
          129.72,
          129.72,
          134.72
         ],
         "yaxis": "y"
        },
        {
         "hovertemplate": "variable=diesel<br>Date=%{x}<br>value=%{y}<extra></extra>",
         "legendgroup": "diesel",
         "line": {
          "color": "#EF553B",
          "dash": "solid"
         },
         "marker": {
          "symbol": "circle"
         },
         "mode": "lines",
         "name": "diesel",
         "orientation": "v",
         "showlegend": true,
         "type": "scatter",
         "x": [
          "2010-01-14T00:00:00",
          "2011-01-14T00:00:00",
          "2011-02-14T00:00:00",
          "2011-03-14T00:00:00",
          "2011-04-14T00:00:00",
          "2011-05-14T00:00:00",
          "2011-06-14T00:00:00",
          "2011-07-14T00:00:00",
          "2011-08-14T00:00:00",
          "2011-09-14T00:00:00",
          "2011-10-14T00:00:00",
          "2011-11-14T00:00:00",
          "2011-12-14T00:00:00",
          "2012-01-14T00:00:00",
          "2012-02-14T00:00:00",
          "2012-03-14T00:00:00",
          "2012-04-14T00:00:00",
          "2012-05-14T00:00:00",
          "2012-06-14T00:00:00",
          "2012-07-14T00:00:00",
          "2012-08-14T00:00:00",
          "2012-09-14T00:00:00",
          "2012-10-14T00:00:00",
          "2012-11-14T00:00:00",
          "2012-12-14T00:00:00",
          "2013-01-14T00:00:00",
          "2013-02-14T00:00:00",
          "2013-03-14T00:00:00",
          "2013-04-14T00:00:00",
          "2013-05-14T00:00:00",
          "2013-06-14T00:00:00",
          "2013-07-14T00:00:00",
          "2013-08-14T00:00:00",
          "2013-09-14T00:00:00",
          "2013-10-14T00:00:00",
          "2013-11-14T00:00:00",
          "2013-12-14T00:00:00",
          "2014-01-14T00:00:00",
          "2014-02-14T00:00:00",
          "2014-03-14T00:00:00",
          "2014-04-14T00:00:00",
          "2014-05-14T00:00:00",
          "2014-06-14T00:00:00",
          "2014-07-14T00:00:00",
          "2014-08-14T00:00:00",
          "2014-09-14T00:00:00",
          "2014-10-14T00:00:00",
          "2014-11-14T00:00:00",
          "2014-12-14T00:00:00",
          "2015-01-14T00:00:00",
          "2015-02-14T00:00:00",
          "2015-03-14T00:00:00",
          "2015-04-14T00:00:00",
          "2015-05-14T00:00:00",
          "2015-06-14T00:00:00",
          "2015-07-14T00:00:00",
          "2015-08-14T00:00:00",
          "2015-09-14T00:00:00",
          "2015-10-14T00:00:00",
          "2015-11-14T00:00:00",
          "2015-12-14T00:00:00",
          "2016-01-14T00:00:00",
          "2016-02-14T00:00:00",
          "2016-03-14T00:00:00",
          "2016-04-14T00:00:00",
          "2016-05-14T00:00:00",
          "2016-06-14T00:00:00",
          "2016-07-14T00:00:00",
          "2016-08-14T00:00:00",
          "2016-09-14T00:00:00",
          "2016-10-14T00:00:00",
          "2016-11-14T00:00:00",
          "2016-12-14T00:00:00",
          "2017-01-14T00:00:00",
          "2017-02-14T00:00:00",
          "2017-03-14T00:00:00",
          "2017-04-14T00:00:00",
          "2017-05-14T00:00:00",
          "2017-06-14T00:00:00",
          "2017-07-14T00:00:00",
          "2017-08-14T00:00:00",
          "2017-09-14T00:00:00",
          "2017-10-14T00:00:00",
          "2017-11-14T00:00:00",
          "2017-12-14T00:00:00",
          "2018-01-14T00:00:00",
          "2018-02-14T00:00:00",
          "2018-03-14T00:00:00",
          "2018-04-14T00:00:00",
          "2018-05-14T00:00:00",
          "2018-06-14T00:00:00",
          "2018-07-14T00:00:00",
          "2018-08-14T00:00:00",
          "2018-09-14T00:00:00",
          "2018-10-14T00:00:00",
          "2018-11-14T00:00:00",
          "2018-12-14T00:00:00",
          "2019-01-14T00:00:00",
          "2019-02-14T00:00:00",
          "2019-03-14T00:00:00",
          "2019-04-14T00:00:00",
          "2019-05-14T00:00:00",
          "2019-06-14T00:00:00",
          "2019-07-14T00:00:00",
          "2019-08-14T00:00:00",
          "2019-09-14T00:00:00",
          "2019-10-14T00:00:00",
          "2019-11-14T00:00:00",
          "2019-12-14T00:00:00",
          "2020-01-14T00:00:00",
          "2020-02-14T00:00:00",
          "2020-03-14T00:00:00",
          "2020-04-14T00:00:00",
          "2020-05-14T00:00:00",
          "2020-06-14T00:00:00",
          "2020-07-14T00:00:00",
          "2020-08-14T00:00:00",
          "2020-09-14T00:00:00",
          "2020-10-14T00:00:00",
          "2020-11-14T00:00:00",
          "2020-12-14T00:00:00",
          "2021-01-14T00:00:00",
          "2021-02-14T00:00:00",
          "2021-03-14T00:00:00",
          "2021-04-14T00:00:00",
          "2021-05-14T00:00:00",
          "2021-06-14T00:00:00",
          "2021-07-14T00:00:00",
          "2021-08-14T00:00:00",
          "2021-09-14T00:00:00",
          "2021-10-14T00:00:00",
          "2021-11-14T00:00:00",
          "2021-12-14T00:00:00",
          "2022-01-14T00:00:00",
          "2022-02-14T00:00:00",
          "2022-03-14T00:00:00"
         ],
         "xaxis": "x",
         "y": [
          87.45,
          88.71,
          91.72,
          94.53,
          107.52,
          108.02,
          106.3,
          106.12,
          108.97,
          108.77,
          110.94,
          114.3,
          110.98,
          107.9,
          105.29,
          105.12,
          108.8,
          108.44,
          105.51,
          97.51,
          97.08,
          101.07,
          106.11,
          105.85,
          105.79,
          103.99,
          106.2,
          107.37,
          106.44,
          101.06,
          99.16,
          102.86,
          104.44,
          105.55,
          104.47,
          103.25,
          104.52,
          104.73,
          105.8,
          104.87,
          103.82,
          104.71,
          104.81,
          104.67,
          102.98,
          102.36,
          100.67,
          94.52,
          90.85,
          83.35,
          75.52,
          76.2,
          77.48,
          79.34,
          83.31,
          84.56,
          83.35,
          79.99,
          83.43,
          79.66,
          78.51,
          76.7,
          67.88,
          65.7,
          66.23,
          70.37,
          73.71,
          83.24,
          84.51,
          82.46,
          82.12,
          82.17,
          87.22,
          84.23,
          89.26,
          90.44,
          88.62,
          88.05,
          86.89,
          84.46,
          85.86,
          85.86,
          88.71,
          92.41,
          92.44,
          94.82,
          96.96,
          97.86,
          97.86,
          96.64,
          103.6,
          103.6,
          102.74,
          115.47,
          109.72,
          112.83,
          112.28,
          102.24,
          95.96,
          96.61,
          102.13,
          104.37,
          104.76,
          103.88,
          100.6,
          103.04,
          101.96,
          104.61,
          101.78,
          102.32,
          104.45,
          101.65,
          97.56,
          78.37,
          74.57,
          91.87,
          94.63,
          94.51,
          92.91,
          90.7,
          91.82,
          96.4,
          101.91,
          107.66,
          107.66,
          107.66,
          107.66,
          107.66,
          107.66,
          114.6,
          110.6,
          110.6,
          110.6,
          110.6,
          110.6,
          115.6
         ],
         "yaxis": "y"
        },
        {
         "hovertemplate": "variable=kerosene<br>Date=%{x}<br>value=%{y}<extra></extra>",
         "legendgroup": "kerosene",
         "line": {
          "color": "#00cc96",
          "dash": "solid"
         },
         "marker": {
          "symbol": "circle"
         },
         "mode": "lines",
         "name": "kerosene",
         "orientation": "v",
         "showlegend": true,
         "type": "scatter",
         "x": [
          "2010-01-14T00:00:00",
          "2011-01-14T00:00:00",
          "2011-02-14T00:00:00",
          "2011-03-14T00:00:00",
          "2011-04-14T00:00:00",
          "2011-05-14T00:00:00",
          "2011-06-14T00:00:00",
          "2011-07-14T00:00:00",
          "2011-08-14T00:00:00",
          "2011-09-14T00:00:00",
          "2011-10-14T00:00:00",
          "2011-11-14T00:00:00",
          "2011-12-14T00:00:00",
          "2012-01-14T00:00:00",
          "2012-02-14T00:00:00",
          "2012-03-14T00:00:00",
          "2012-04-14T00:00:00",
          "2012-05-14T00:00:00",
          "2012-06-14T00:00:00",
          "2012-07-14T00:00:00",
          "2012-08-14T00:00:00",
          "2012-09-14T00:00:00",
          "2012-10-14T00:00:00",
          "2012-11-14T00:00:00",
          "2012-12-14T00:00:00",
          "2013-01-14T00:00:00",
          "2013-02-14T00:00:00",
          "2013-03-14T00:00:00",
          "2013-04-14T00:00:00",
          "2013-05-14T00:00:00",
          "2013-06-14T00:00:00",
          "2013-07-14T00:00:00",
          "2013-08-14T00:00:00",
          "2013-09-14T00:00:00",
          "2013-10-14T00:00:00",
          "2013-11-14T00:00:00",
          "2013-12-14T00:00:00",
          "2014-01-14T00:00:00",
          "2014-02-14T00:00:00",
          "2014-03-14T00:00:00",
          "2014-04-14T00:00:00",
          "2014-05-14T00:00:00",
          "2014-06-14T00:00:00",
          "2014-07-14T00:00:00",
          "2014-08-14T00:00:00",
          "2014-09-14T00:00:00",
          "2014-10-14T00:00:00",
          "2014-11-14T00:00:00",
          "2014-12-14T00:00:00",
          "2015-01-14T00:00:00",
          "2015-02-14T00:00:00",
          "2015-03-14T00:00:00",
          "2015-04-14T00:00:00",
          "2015-05-14T00:00:00",
          "2015-06-14T00:00:00",
          "2015-07-14T00:00:00",
          "2015-08-14T00:00:00",
          "2015-09-14T00:00:00",
          "2015-10-14T00:00:00",
          "2015-11-14T00:00:00",
          "2015-12-14T00:00:00",
          "2016-01-14T00:00:00",
          "2016-02-14T00:00:00",
          "2016-03-14T00:00:00",
          "2016-04-14T00:00:00",
          "2016-05-14T00:00:00",
          "2016-06-14T00:00:00",
          "2016-07-14T00:00:00",
          "2016-08-14T00:00:00",
          "2016-09-14T00:00:00",
          "2016-10-14T00:00:00",
          "2016-11-14T00:00:00",
          "2016-12-14T00:00:00",
          "2017-01-14T00:00:00",
          "2017-02-14T00:00:00",
          "2017-03-14T00:00:00",
          "2017-04-14T00:00:00",
          "2017-05-14T00:00:00",
          "2017-06-14T00:00:00",
          "2017-07-14T00:00:00",
          "2017-08-14T00:00:00",
          "2017-09-14T00:00:00",
          "2017-10-14T00:00:00",
          "2017-11-14T00:00:00",
          "2017-12-14T00:00:00",
          "2018-01-14T00:00:00",
          "2018-02-14T00:00:00",
          "2018-03-14T00:00:00",
          "2018-04-14T00:00:00",
          "2018-05-14T00:00:00",
          "2018-06-14T00:00:00",
          "2018-07-14T00:00:00",
          "2018-08-14T00:00:00",
          "2018-09-14T00:00:00",
          "2018-10-14T00:00:00",
          "2018-11-14T00:00:00",
          "2018-12-14T00:00:00",
          "2019-01-14T00:00:00",
          "2019-02-14T00:00:00",
          "2019-03-14T00:00:00",
          "2019-04-14T00:00:00",
          "2019-05-14T00:00:00",
          "2019-06-14T00:00:00",
          "2019-07-14T00:00:00",
          "2019-08-14T00:00:00",
          "2019-09-14T00:00:00",
          "2019-10-14T00:00:00",
          "2019-11-14T00:00:00",
          "2019-12-14T00:00:00",
          "2020-01-14T00:00:00",
          "2020-02-14T00:00:00",
          "2020-03-14T00:00:00",
          "2020-04-14T00:00:00",
          "2020-05-14T00:00:00",
          "2020-06-14T00:00:00",
          "2020-07-14T00:00:00",
          "2020-08-14T00:00:00",
          "2020-09-14T00:00:00",
          "2020-10-14T00:00:00",
          "2020-11-14T00:00:00",
          "2020-12-14T00:00:00",
          "2021-01-14T00:00:00",
          "2021-02-14T00:00:00",
          "2021-03-14T00:00:00",
          "2021-04-14T00:00:00",
          "2021-05-14T00:00:00",
          "2021-06-14T00:00:00",
          "2021-07-14T00:00:00",
          "2021-08-14T00:00:00",
          "2021-09-14T00:00:00",
          "2021-10-14T00:00:00",
          "2021-11-14T00:00:00",
          "2021-12-14T00:00:00",
          "2022-01-14T00:00:00",
          "2022-02-14T00:00:00",
          "2022-03-14T00:00:00"
         ],
         "xaxis": "x",
         "y": [
          75.83,
          77.51,
          79.52,
          83.97,
          90.91,
          92.61,
          85.71,
          86.16,
          88.96,
          88.29,
          89.95,
          94.87,
          90.74,
          87.11,
          83.74,
          84.13,
          86.28,
          87,
          83.2,
          74.4,
          73.97,
          79.65,
          86.01,
          84.57,
          86.44,
          83.86,
          85.93,
          88.54,
          83.83,
          79.46,
          81.52,
          79.49,
          83.93,
          85.56,
          85.01,
          82.79,
          83.07,
          85.07,
          83.07,
          83.91,
          83.16,
          82.81,
          83.13,
          84.12,
          83.05,
          81.63,
          80.88,
          76.31,
          71.37,
          65.59,
          52.4,
          55.75,
          57.21,
          59.24,
          61.78,
          62.74,
          57.98,
          52.58,
          56.04,
          54.8,
          53.2,
          46.13,
          39.62,
          42.15,
          43.96,
          46.98,
          50.8,
          61.45,
          62.48,
          59.1,
          58.71,
          62.16,
          63.56,
          63.44,
          67.19,
          61.96,
          64.38,
          65.28,
          65.35,
          62.56,
          63.42,
          64.36,
          66.18,
          71.23,
          71.42,
          74.78,
          76.75,
          77.45,
          76.72,
          78.22,
          78.22,
          85.73,
          84.95,
          97.7,
          108.84,
          111.83,
          105.22,
          101.7,
          96.5,
          99.46,
          102.22,
          104.62,
          104.28,
          101.97,
          103.95,
          100.64,
          101.08,
          104.06,
          102.31,
          103.95,
          102.69,
          95.46,
          77.28,
          79.77,
          62.46,
          65.45,
          83.65,
          83.15,
          83.73,
          81.63,
          83.56,
          87.12,
          92.44,
          97.85,
          97.85,
          97.85,
          97.85,
          97.85,
          97.85,
          110.82,
          103.54,
          103.54,
          103.54,
          103.54,
          103.54,
          103.54
         ],
         "yaxis": "y"
        }
       ],
       "layout": {
        "legend": {
         "title": {
          "text": "variable"
         },
         "tracegroupgap": 0
        },
        "template": {
         "data": {
          "bar": [
           {
            "error_x": {
             "color": "#2a3f5f"
            },
            "error_y": {
             "color": "#2a3f5f"
            },
            "marker": {
             "line": {
              "color": "#E5ECF6",
              "width": 0.5
             },
             "pattern": {
              "fillmode": "overlay",
              "size": 10,
              "solidity": 0.2
             }
            },
            "type": "bar"
           }
          ],
          "barpolar": [
           {
            "marker": {
             "line": {
              "color": "#E5ECF6",
              "width": 0.5
             },
             "pattern": {
              "fillmode": "overlay",
              "size": 10,
              "solidity": 0.2
             }
            },
            "type": "barpolar"
           }
          ],
          "carpet": [
           {
            "aaxis": {
             "endlinecolor": "#2a3f5f",
             "gridcolor": "white",
             "linecolor": "white",
             "minorgridcolor": "white",
             "startlinecolor": "#2a3f5f"
            },
            "baxis": {
             "endlinecolor": "#2a3f5f",
             "gridcolor": "white",
             "linecolor": "white",
             "minorgridcolor": "white",
             "startlinecolor": "#2a3f5f"
            },
            "type": "carpet"
           }
          ],
          "choropleth": [
           {
            "colorbar": {
             "outlinewidth": 0,
             "ticks": ""
            },
            "type": "choropleth"
           }
          ],
          "contour": [
           {
            "colorbar": {
             "outlinewidth": 0,
             "ticks": ""
            },
            "colorscale": [
             [
              0,
              "#0d0887"
             ],
             [
              0.1111111111111111,
              "#46039f"
             ],
             [
              0.2222222222222222,
              "#7201a8"
             ],
             [
              0.3333333333333333,
              "#9c179e"
             ],
             [
              0.4444444444444444,
              "#bd3786"
             ],
             [
              0.5555555555555556,
              "#d8576b"
             ],
             [
              0.6666666666666666,
              "#ed7953"
             ],
             [
              0.7777777777777778,
              "#fb9f3a"
             ],
             [
              0.8888888888888888,
              "#fdca26"
             ],
             [
              1,
              "#f0f921"
             ]
            ],
            "type": "contour"
           }
          ],
          "contourcarpet": [
           {
            "colorbar": {
             "outlinewidth": 0,
             "ticks": ""
            },
            "type": "contourcarpet"
           }
          ],
          "heatmap": [
           {
            "colorbar": {
             "outlinewidth": 0,
             "ticks": ""
            },
            "colorscale": [
             [
              0,
              "#0d0887"
             ],
             [
              0.1111111111111111,
              "#46039f"
             ],
             [
              0.2222222222222222,
              "#7201a8"
             ],
             [
              0.3333333333333333,
              "#9c179e"
             ],
             [
              0.4444444444444444,
              "#bd3786"
             ],
             [
              0.5555555555555556,
              "#d8576b"
             ],
             [
              0.6666666666666666,
              "#ed7953"
             ],
             [
              0.7777777777777778,
              "#fb9f3a"
             ],
             [
              0.8888888888888888,
              "#fdca26"
             ],
             [
              1,
              "#f0f921"
             ]
            ],
            "type": "heatmap"
           }
          ],
          "heatmapgl": [
           {
            "colorbar": {
             "outlinewidth": 0,
             "ticks": ""
            },
            "colorscale": [
             [
              0,
              "#0d0887"
             ],
             [
              0.1111111111111111,
              "#46039f"
             ],
             [
              0.2222222222222222,
              "#7201a8"
             ],
             [
              0.3333333333333333,
              "#9c179e"
             ],
             [
              0.4444444444444444,
              "#bd3786"
             ],
             [
              0.5555555555555556,
              "#d8576b"
             ],
             [
              0.6666666666666666,
              "#ed7953"
             ],
             [
              0.7777777777777778,
              "#fb9f3a"
             ],
             [
              0.8888888888888888,
              "#fdca26"
             ],
             [
              1,
              "#f0f921"
             ]
            ],
            "type": "heatmapgl"
           }
          ],
          "histogram": [
           {
            "marker": {
             "pattern": {
              "fillmode": "overlay",
              "size": 10,
              "solidity": 0.2
             }
            },
            "type": "histogram"
           }
          ],
          "histogram2d": [
           {
            "colorbar": {
             "outlinewidth": 0,
             "ticks": ""
            },
            "colorscale": [
             [
              0,
              "#0d0887"
             ],
             [
              0.1111111111111111,
              "#46039f"
             ],
             [
              0.2222222222222222,
              "#7201a8"
             ],
             [
              0.3333333333333333,
              "#9c179e"
             ],
             [
              0.4444444444444444,
              "#bd3786"
             ],
             [
              0.5555555555555556,
              "#d8576b"
             ],
             [
              0.6666666666666666,
              "#ed7953"
             ],
             [
              0.7777777777777778,
              "#fb9f3a"
             ],
             [
              0.8888888888888888,
              "#fdca26"
             ],
             [
              1,
              "#f0f921"
             ]
            ],
            "type": "histogram2d"
           }
          ],
          "histogram2dcontour": [
           {
            "colorbar": {
             "outlinewidth": 0,
             "ticks": ""
            },
            "colorscale": [
             [
              0,
              "#0d0887"
             ],
             [
              0.1111111111111111,
              "#46039f"
             ],
             [
              0.2222222222222222,
              "#7201a8"
             ],
             [
              0.3333333333333333,
              "#9c179e"
             ],
             [
              0.4444444444444444,
              "#bd3786"
             ],
             [
              0.5555555555555556,
              "#d8576b"
             ],
             [
              0.6666666666666666,
              "#ed7953"
             ],
             [
              0.7777777777777778,
              "#fb9f3a"
             ],
             [
              0.8888888888888888,
              "#fdca26"
             ],
             [
              1,
              "#f0f921"
             ]
            ],
            "type": "histogram2dcontour"
           }
          ],
          "mesh3d": [
           {
            "colorbar": {
             "outlinewidth": 0,
             "ticks": ""
            },
            "type": "mesh3d"
           }
          ],
          "parcoords": [
           {
            "line": {
             "colorbar": {
              "outlinewidth": 0,
              "ticks": ""
             }
            },
            "type": "parcoords"
           }
          ],
          "pie": [
           {
            "automargin": true,
            "type": "pie"
           }
          ],
          "scatter": [
           {
            "fillpattern": {
             "fillmode": "overlay",
             "size": 10,
             "solidity": 0.2
            },
            "type": "scatter"
           }
          ],
          "scatter3d": [
           {
            "line": {
             "colorbar": {
              "outlinewidth": 0,
              "ticks": ""
             }
            },
            "marker": {
             "colorbar": {
              "outlinewidth": 0,
              "ticks": ""
             }
            },
            "type": "scatter3d"
           }
          ],
          "scattercarpet": [
           {
            "marker": {
             "colorbar": {
              "outlinewidth": 0,
              "ticks": ""
             }
            },
            "type": "scattercarpet"
           }
          ],
          "scattergeo": [
           {
            "marker": {
             "colorbar": {
              "outlinewidth": 0,
              "ticks": ""
             }
            },
            "type": "scattergeo"
           }
          ],
          "scattergl": [
           {
            "marker": {
             "colorbar": {
              "outlinewidth": 0,
              "ticks": ""
             }
            },
            "type": "scattergl"
           }
          ],
          "scattermapbox": [
           {
            "marker": {
             "colorbar": {
              "outlinewidth": 0,
              "ticks": ""
             }
            },
            "type": "scattermapbox"
           }
          ],
          "scatterpolar": [
           {
            "marker": {
             "colorbar": {
              "outlinewidth": 0,
              "ticks": ""
             }
            },
            "type": "scatterpolar"
           }
          ],
          "scatterpolargl": [
           {
            "marker": {
             "colorbar": {
              "outlinewidth": 0,
              "ticks": ""
             }
            },
            "type": "scatterpolargl"
           }
          ],
          "scatterternary": [
           {
            "marker": {
             "colorbar": {
              "outlinewidth": 0,
              "ticks": ""
             }
            },
            "type": "scatterternary"
           }
          ],
          "surface": [
           {
            "colorbar": {
             "outlinewidth": 0,
             "ticks": ""
            },
            "colorscale": [
             [
              0,
              "#0d0887"
             ],
             [
              0.1111111111111111,
              "#46039f"
             ],
             [
              0.2222222222222222,
              "#7201a8"
             ],
             [
              0.3333333333333333,
              "#9c179e"
             ],
             [
              0.4444444444444444,
              "#bd3786"
             ],
             [
              0.5555555555555556,
              "#d8576b"
             ],
             [
              0.6666666666666666,
              "#ed7953"
             ],
             [
              0.7777777777777778,
              "#fb9f3a"
             ],
             [
              0.8888888888888888,
              "#fdca26"
             ],
             [
              1,
              "#f0f921"
             ]
            ],
            "type": "surface"
           }
          ],
          "table": [
           {
            "cells": {
             "fill": {
              "color": "#EBF0F8"
             },
             "line": {
              "color": "white"
             }
            },
            "header": {
             "fill": {
              "color": "#C8D4E3"
             },
             "line": {
              "color": "white"
             }
            },
            "type": "table"
           }
          ]
         },
         "layout": {
          "annotationdefaults": {
           "arrowcolor": "#2a3f5f",
           "arrowhead": 0,
           "arrowwidth": 1
          },
          "autotypenumbers": "strict",
          "coloraxis": {
           "colorbar": {
            "outlinewidth": 0,
            "ticks": ""
           }
          },
          "colorscale": {
           "diverging": [
            [
             0,
             "#8e0152"
            ],
            [
             0.1,
             "#c51b7d"
            ],
            [
             0.2,
             "#de77ae"
            ],
            [
             0.3,
             "#f1b6da"
            ],
            [
             0.4,
             "#fde0ef"
            ],
            [
             0.5,
             "#f7f7f7"
            ],
            [
             0.6,
             "#e6f5d0"
            ],
            [
             0.7,
             "#b8e186"
            ],
            [
             0.8,
             "#7fbc41"
            ],
            [
             0.9,
             "#4d9221"
            ],
            [
             1,
             "#276419"
            ]
           ],
           "sequential": [
            [
             0,
             "#0d0887"
            ],
            [
             0.1111111111111111,
             "#46039f"
            ],
            [
             0.2222222222222222,
             "#7201a8"
            ],
            [
             0.3333333333333333,
             "#9c179e"
            ],
            [
             0.4444444444444444,
             "#bd3786"
            ],
            [
             0.5555555555555556,
             "#d8576b"
            ],
            [
             0.6666666666666666,
             "#ed7953"
            ],
            [
             0.7777777777777778,
             "#fb9f3a"
            ],
            [
             0.8888888888888888,
             "#fdca26"
            ],
            [
             1,
             "#f0f921"
            ]
           ],
           "sequentialminus": [
            [
             0,
             "#0d0887"
            ],
            [
             0.1111111111111111,
             "#46039f"
            ],
            [
             0.2222222222222222,
             "#7201a8"
            ],
            [
             0.3333333333333333,
             "#9c179e"
            ],
            [
             0.4444444444444444,
             "#bd3786"
            ],
            [
             0.5555555555555556,
             "#d8576b"
            ],
            [
             0.6666666666666666,
             "#ed7953"
            ],
            [
             0.7777777777777778,
             "#fb9f3a"
            ],
            [
             0.8888888888888888,
             "#fdca26"
            ],
            [
             1,
             "#f0f921"
            ]
           ]
          },
          "colorway": [
           "#636efa",
           "#EF553B",
           "#00cc96",
           "#ab63fa",
           "#FFA15A",
           "#19d3f3",
           "#FF6692",
           "#B6E880",
           "#FF97FF",
           "#FECB52"
          ],
          "font": {
           "color": "#2a3f5f"
          },
          "geo": {
           "bgcolor": "white",
           "lakecolor": "white",
           "landcolor": "#E5ECF6",
           "showlakes": true,
           "showland": true,
           "subunitcolor": "white"
          },
          "hoverlabel": {
           "align": "left"
          },
          "hovermode": "closest",
          "mapbox": {
           "style": "light"
          },
          "paper_bgcolor": "white",
          "plot_bgcolor": "#E5ECF6",
          "polar": {
           "angularaxis": {
            "gridcolor": "white",
            "linecolor": "white",
            "ticks": ""
           },
           "bgcolor": "#E5ECF6",
           "radialaxis": {
            "gridcolor": "white",
            "linecolor": "white",
            "ticks": ""
           }
          },
          "scene": {
           "xaxis": {
            "backgroundcolor": "#E5ECF6",
            "gridcolor": "white",
            "gridwidth": 2,
            "linecolor": "white",
            "showbackground": true,
            "ticks": "",
            "zerolinecolor": "white"
           },
           "yaxis": {
            "backgroundcolor": "#E5ECF6",
            "gridcolor": "white",
            "gridwidth": 2,
            "linecolor": "white",
            "showbackground": true,
            "ticks": "",
            "zerolinecolor": "white"
           },
           "zaxis": {
            "backgroundcolor": "#E5ECF6",
            "gridcolor": "white",
            "gridwidth": 2,
            "linecolor": "white",
            "showbackground": true,
            "ticks": "",
            "zerolinecolor": "white"
           }
          },
          "shapedefaults": {
           "line": {
            "color": "#2a3f5f"
           }
          },
          "ternary": {
           "aaxis": {
            "gridcolor": "white",
            "linecolor": "white",
            "ticks": ""
           },
           "baxis": {
            "gridcolor": "white",
            "linecolor": "white",
            "ticks": ""
           },
           "bgcolor": "#E5ECF6",
           "caxis": {
            "gridcolor": "white",
            "linecolor": "white",
            "ticks": ""
           }
          },
          "title": {
           "x": 0.05
          },
          "xaxis": {
           "automargin": true,
           "gridcolor": "white",
           "linecolor": "white",
           "ticks": "",
           "title": {
            "standoff": 15
           },
           "zerolinecolor": "white",
           "zerolinewidth": 2
          },
          "yaxis": {
           "automargin": true,
           "gridcolor": "white",
           "linecolor": "white",
           "ticks": "",
           "title": {
            "standoff": 15
           },
           "zerolinecolor": "white",
           "zerolinewidth": 2
          }
         }
        },
        "title": {
         "text": "Exrate"
        },
        "xaxis": {
         "anchor": "y",
         "domain": [
          0,
          1
         ],
         "title": {
          "text": "Date"
         }
        },
        "yaxis": {
         "anchor": "x",
         "domain": [
          0,
          1
         ],
         "title": {
          "text": "value"
         }
        }
       }
      },
      "text/html": [
       "<div>                            <div id=\"32984a1e-e1ed-467f-af9a-761200797e3a\" class=\"plotly-graph-div\" style=\"height:525px; width:100%;\"></div>            <script type=\"text/javascript\">                require([\"plotly\"], function(Plotly) {                    window.PLOTLYENV=window.PLOTLYENV || {};                                    if (document.getElementById(\"32984a1e-e1ed-467f-af9a-761200797e3a\")) {                    Plotly.newPlot(                        \"32984a1e-e1ed-467f-af9a-761200797e3a\",                        [{\"hovertemplate\":\"variable=petrol<br>Date=%{x}<br>value=%{y}<extra></extra>\",\"legendgroup\":\"petrol\",\"line\":{\"color\":\"#636efa\",\"dash\":\"solid\"},\"marker\":{\"symbol\":\"circle\"},\"mode\":\"lines\",\"name\":\"petrol\",\"orientation\":\"v\",\"showlegend\":true,\"x\":[\"2010-01-14T00:00:00\",\"2011-01-14T00:00:00\",\"2011-02-14T00:00:00\",\"2011-03-14T00:00:00\",\"2011-04-14T00:00:00\",\"2011-05-14T00:00:00\",\"2011-06-14T00:00:00\",\"2011-07-14T00:00:00\",\"2011-08-14T00:00:00\",\"2011-09-14T00:00:00\",\"2011-10-14T00:00:00\",\"2011-11-14T00:00:00\",\"2011-12-14T00:00:00\",\"2012-01-14T00:00:00\",\"2012-02-14T00:00:00\",\"2012-03-14T00:00:00\",\"2012-04-14T00:00:00\",\"2012-05-14T00:00:00\",\"2012-06-14T00:00:00\",\"2012-07-14T00:00:00\",\"2012-08-14T00:00:00\",\"2012-09-14T00:00:00\",\"2012-10-14T00:00:00\",\"2012-11-14T00:00:00\",\"2012-12-14T00:00:00\",\"2013-01-14T00:00:00\",\"2013-02-14T00:00:00\",\"2013-03-14T00:00:00\",\"2013-04-14T00:00:00\",\"2013-05-14T00:00:00\",\"2013-06-14T00:00:00\",\"2013-07-14T00:00:00\",\"2013-08-14T00:00:00\",\"2013-09-14T00:00:00\",\"2013-10-14T00:00:00\",\"2013-11-14T00:00:00\",\"2013-12-14T00:00:00\",\"2014-01-14T00:00:00\",\"2014-02-14T00:00:00\",\"2014-03-14T00:00:00\",\"2014-04-14T00:00:00\",\"2014-05-14T00:00:00\",\"2014-06-14T00:00:00\",\"2014-07-14T00:00:00\",\"2014-08-14T00:00:00\",\"2014-09-14T00:00:00\",\"2014-10-14T00:00:00\",\"2014-11-14T00:00:00\",\"2014-12-14T00:00:00\",\"2015-01-14T00:00:00\",\"2015-02-14T00:00:00\",\"2015-03-14T00:00:00\",\"2015-04-14T00:00:00\",\"2015-05-14T00:00:00\",\"2015-06-14T00:00:00\",\"2015-07-14T00:00:00\",\"2015-08-14T00:00:00\",\"2015-09-14T00:00:00\",\"2015-10-14T00:00:00\",\"2015-11-14T00:00:00\",\"2015-12-14T00:00:00\",\"2016-01-14T00:00:00\",\"2016-02-14T00:00:00\",\"2016-03-14T00:00:00\",\"2016-04-14T00:00:00\",\"2016-05-14T00:00:00\",\"2016-06-14T00:00:00\",\"2016-07-14T00:00:00\",\"2016-08-14T00:00:00\",\"2016-09-14T00:00:00\",\"2016-10-14T00:00:00\",\"2016-11-14T00:00:00\",\"2016-12-14T00:00:00\",\"2017-01-14T00:00:00\",\"2017-02-14T00:00:00\",\"2017-03-14T00:00:00\",\"2017-04-14T00:00:00\",\"2017-05-14T00:00:00\",\"2017-06-14T00:00:00\",\"2017-07-14T00:00:00\",\"2017-08-14T00:00:00\",\"2017-09-14T00:00:00\",\"2017-10-14T00:00:00\",\"2017-11-14T00:00:00\",\"2017-12-14T00:00:00\",\"2018-01-14T00:00:00\",\"2018-02-14T00:00:00\",\"2018-03-14T00:00:00\",\"2018-04-14T00:00:00\",\"2018-05-14T00:00:00\",\"2018-06-14T00:00:00\",\"2018-07-14T00:00:00\",\"2018-08-14T00:00:00\",\"2018-09-14T00:00:00\",\"2018-10-14T00:00:00\",\"2018-11-14T00:00:00\",\"2018-12-14T00:00:00\",\"2019-01-14T00:00:00\",\"2019-02-14T00:00:00\",\"2019-03-14T00:00:00\",\"2019-04-14T00:00:00\",\"2019-05-14T00:00:00\",\"2019-06-14T00:00:00\",\"2019-07-14T00:00:00\",\"2019-08-14T00:00:00\",\"2019-09-14T00:00:00\",\"2019-10-14T00:00:00\",\"2019-11-14T00:00:00\",\"2019-12-14T00:00:00\",\"2020-01-14T00:00:00\",\"2020-02-14T00:00:00\",\"2020-03-14T00:00:00\",\"2020-04-14T00:00:00\",\"2020-05-14T00:00:00\",\"2020-06-14T00:00:00\",\"2020-07-14T00:00:00\",\"2020-08-14T00:00:00\",\"2020-09-14T00:00:00\",\"2020-10-14T00:00:00\",\"2020-11-14T00:00:00\",\"2020-12-14T00:00:00\",\"2021-01-14T00:00:00\",\"2021-02-14T00:00:00\",\"2021-03-14T00:00:00\",\"2021-04-14T00:00:00\",\"2021-05-14T00:00:00\",\"2021-06-14T00:00:00\",\"2021-07-14T00:00:00\",\"2021-08-14T00:00:00\",\"2021-09-14T00:00:00\",\"2021-10-14T00:00:00\",\"2021-11-14T00:00:00\",\"2021-12-14T00:00:00\",\"2022-01-14T00:00:00\",\"2022-02-14T00:00:00\",\"2022-03-14T00:00:00\"],\"xaxis\":\"x\",\"y\":[94.03,95.67,98.08,102.44,111.17,115.35,114.93,115.39,117.22,117.75,120.5,124.13,119.06,111.95,111.32,111.69,118.5,121.43,117.67,108.46,106.48,108.95,115.26,113.68,112.61,111.6,113.57,117.69,117.65,113.24,108.18,109.52,112.26,113.88,112.27,108.87,109.28,110.59,111.55,113.61,114.16,114.16,114.73,115.86,116.62,111.64,110.89,106.8,102.01,92.88,84.71,89.46,89.35,92.89,97.28,98.59,102.65,102.65,93.29,90.46,90.06,88.64,86.5,85.58,80.71,84.25,86.17,93.93,95.13,91.39,91.56,94.94,94.2,96.01,100.2,101.0,98.0,99.59,98.73,97.1,96.08,98.3,101.6,102.7,104.1,106.3,107.92,107.46,106.83,107.17,108.81,112.2,113.73,125.59,115.73,118.11,113.54,104.21,100.09,101.35,106.6,112.03,115.1,115.39,112.53,112.81,108.05,110.59,109.5,110.2,112.87,110.87,92.87,83.33,89.1,100.48,103.95,105.43,107.27,105.85,106.82,106.99,115.18,122.21,122.81,126.37,127.14,127.14,127.14,134.72,129.72,129.72,129.72,129.72,129.72,134.72],\"yaxis\":\"y\",\"type\":\"scatter\"},{\"hovertemplate\":\"variable=diesel<br>Date=%{x}<br>value=%{y}<extra></extra>\",\"legendgroup\":\"diesel\",\"line\":{\"color\":\"#EF553B\",\"dash\":\"solid\"},\"marker\":{\"symbol\":\"circle\"},\"mode\":\"lines\",\"name\":\"diesel\",\"orientation\":\"v\",\"showlegend\":true,\"x\":[\"2010-01-14T00:00:00\",\"2011-01-14T00:00:00\",\"2011-02-14T00:00:00\",\"2011-03-14T00:00:00\",\"2011-04-14T00:00:00\",\"2011-05-14T00:00:00\",\"2011-06-14T00:00:00\",\"2011-07-14T00:00:00\",\"2011-08-14T00:00:00\",\"2011-09-14T00:00:00\",\"2011-10-14T00:00:00\",\"2011-11-14T00:00:00\",\"2011-12-14T00:00:00\",\"2012-01-14T00:00:00\",\"2012-02-14T00:00:00\",\"2012-03-14T00:00:00\",\"2012-04-14T00:00:00\",\"2012-05-14T00:00:00\",\"2012-06-14T00:00:00\",\"2012-07-14T00:00:00\",\"2012-08-14T00:00:00\",\"2012-09-14T00:00:00\",\"2012-10-14T00:00:00\",\"2012-11-14T00:00:00\",\"2012-12-14T00:00:00\",\"2013-01-14T00:00:00\",\"2013-02-14T00:00:00\",\"2013-03-14T00:00:00\",\"2013-04-14T00:00:00\",\"2013-05-14T00:00:00\",\"2013-06-14T00:00:00\",\"2013-07-14T00:00:00\",\"2013-08-14T00:00:00\",\"2013-09-14T00:00:00\",\"2013-10-14T00:00:00\",\"2013-11-14T00:00:00\",\"2013-12-14T00:00:00\",\"2014-01-14T00:00:00\",\"2014-02-14T00:00:00\",\"2014-03-14T00:00:00\",\"2014-04-14T00:00:00\",\"2014-05-14T00:00:00\",\"2014-06-14T00:00:00\",\"2014-07-14T00:00:00\",\"2014-08-14T00:00:00\",\"2014-09-14T00:00:00\",\"2014-10-14T00:00:00\",\"2014-11-14T00:00:00\",\"2014-12-14T00:00:00\",\"2015-01-14T00:00:00\",\"2015-02-14T00:00:00\",\"2015-03-14T00:00:00\",\"2015-04-14T00:00:00\",\"2015-05-14T00:00:00\",\"2015-06-14T00:00:00\",\"2015-07-14T00:00:00\",\"2015-08-14T00:00:00\",\"2015-09-14T00:00:00\",\"2015-10-14T00:00:00\",\"2015-11-14T00:00:00\",\"2015-12-14T00:00:00\",\"2016-01-14T00:00:00\",\"2016-02-14T00:00:00\",\"2016-03-14T00:00:00\",\"2016-04-14T00:00:00\",\"2016-05-14T00:00:00\",\"2016-06-14T00:00:00\",\"2016-07-14T00:00:00\",\"2016-08-14T00:00:00\",\"2016-09-14T00:00:00\",\"2016-10-14T00:00:00\",\"2016-11-14T00:00:00\",\"2016-12-14T00:00:00\",\"2017-01-14T00:00:00\",\"2017-02-14T00:00:00\",\"2017-03-14T00:00:00\",\"2017-04-14T00:00:00\",\"2017-05-14T00:00:00\",\"2017-06-14T00:00:00\",\"2017-07-14T00:00:00\",\"2017-08-14T00:00:00\",\"2017-09-14T00:00:00\",\"2017-10-14T00:00:00\",\"2017-11-14T00:00:00\",\"2017-12-14T00:00:00\",\"2018-01-14T00:00:00\",\"2018-02-14T00:00:00\",\"2018-03-14T00:00:00\",\"2018-04-14T00:00:00\",\"2018-05-14T00:00:00\",\"2018-06-14T00:00:00\",\"2018-07-14T00:00:00\",\"2018-08-14T00:00:00\",\"2018-09-14T00:00:00\",\"2018-10-14T00:00:00\",\"2018-11-14T00:00:00\",\"2018-12-14T00:00:00\",\"2019-01-14T00:00:00\",\"2019-02-14T00:00:00\",\"2019-03-14T00:00:00\",\"2019-04-14T00:00:00\",\"2019-05-14T00:00:00\",\"2019-06-14T00:00:00\",\"2019-07-14T00:00:00\",\"2019-08-14T00:00:00\",\"2019-09-14T00:00:00\",\"2019-10-14T00:00:00\",\"2019-11-14T00:00:00\",\"2019-12-14T00:00:00\",\"2020-01-14T00:00:00\",\"2020-02-14T00:00:00\",\"2020-03-14T00:00:00\",\"2020-04-14T00:00:00\",\"2020-05-14T00:00:00\",\"2020-06-14T00:00:00\",\"2020-07-14T00:00:00\",\"2020-08-14T00:00:00\",\"2020-09-14T00:00:00\",\"2020-10-14T00:00:00\",\"2020-11-14T00:00:00\",\"2020-12-14T00:00:00\",\"2021-01-14T00:00:00\",\"2021-02-14T00:00:00\",\"2021-03-14T00:00:00\",\"2021-04-14T00:00:00\",\"2021-05-14T00:00:00\",\"2021-06-14T00:00:00\",\"2021-07-14T00:00:00\",\"2021-08-14T00:00:00\",\"2021-09-14T00:00:00\",\"2021-10-14T00:00:00\",\"2021-11-14T00:00:00\",\"2021-12-14T00:00:00\",\"2022-01-14T00:00:00\",\"2022-02-14T00:00:00\",\"2022-03-14T00:00:00\"],\"xaxis\":\"x\",\"y\":[87.45,88.71,91.72,94.53,107.52,108.02,106.3,106.12,108.97,108.77,110.94,114.3,110.98,107.9,105.29,105.12,108.8,108.44,105.51,97.51,97.08,101.07,106.11,105.85,105.79,103.99,106.2,107.37,106.44,101.06,99.16,102.86,104.44,105.55,104.47,103.25,104.52,104.73,105.8,104.87,103.82,104.71,104.81,104.67,102.98,102.36,100.67,94.52,90.85,83.35,75.52,76.2,77.48,79.34,83.31,84.56,83.35,79.99,83.43,79.66,78.51,76.7,67.88,65.7,66.23,70.37,73.71,83.24,84.51,82.46,82.12,82.17,87.22,84.23,89.26,90.44,88.62,88.05,86.89,84.46,85.86,85.86,88.71,92.41,92.44,94.82,96.96,97.86,97.86,96.64,103.6,103.6,102.74,115.47,109.72,112.83,112.28,102.24,95.96,96.61,102.13,104.37,104.76,103.88,100.6,103.04,101.96,104.61,101.78,102.32,104.45,101.65,97.56,78.37,74.57,91.87,94.63,94.51,92.91,90.7,91.82,96.4,101.91,107.66,107.66,107.66,107.66,107.66,107.66,114.6,110.6,110.6,110.6,110.6,110.6,115.6],\"yaxis\":\"y\",\"type\":\"scatter\"},{\"hovertemplate\":\"variable=kerosene<br>Date=%{x}<br>value=%{y}<extra></extra>\",\"legendgroup\":\"kerosene\",\"line\":{\"color\":\"#00cc96\",\"dash\":\"solid\"},\"marker\":{\"symbol\":\"circle\"},\"mode\":\"lines\",\"name\":\"kerosene\",\"orientation\":\"v\",\"showlegend\":true,\"x\":[\"2010-01-14T00:00:00\",\"2011-01-14T00:00:00\",\"2011-02-14T00:00:00\",\"2011-03-14T00:00:00\",\"2011-04-14T00:00:00\",\"2011-05-14T00:00:00\",\"2011-06-14T00:00:00\",\"2011-07-14T00:00:00\",\"2011-08-14T00:00:00\",\"2011-09-14T00:00:00\",\"2011-10-14T00:00:00\",\"2011-11-14T00:00:00\",\"2011-12-14T00:00:00\",\"2012-01-14T00:00:00\",\"2012-02-14T00:00:00\",\"2012-03-14T00:00:00\",\"2012-04-14T00:00:00\",\"2012-05-14T00:00:00\",\"2012-06-14T00:00:00\",\"2012-07-14T00:00:00\",\"2012-08-14T00:00:00\",\"2012-09-14T00:00:00\",\"2012-10-14T00:00:00\",\"2012-11-14T00:00:00\",\"2012-12-14T00:00:00\",\"2013-01-14T00:00:00\",\"2013-02-14T00:00:00\",\"2013-03-14T00:00:00\",\"2013-04-14T00:00:00\",\"2013-05-14T00:00:00\",\"2013-06-14T00:00:00\",\"2013-07-14T00:00:00\",\"2013-08-14T00:00:00\",\"2013-09-14T00:00:00\",\"2013-10-14T00:00:00\",\"2013-11-14T00:00:00\",\"2013-12-14T00:00:00\",\"2014-01-14T00:00:00\",\"2014-02-14T00:00:00\",\"2014-03-14T00:00:00\",\"2014-04-14T00:00:00\",\"2014-05-14T00:00:00\",\"2014-06-14T00:00:00\",\"2014-07-14T00:00:00\",\"2014-08-14T00:00:00\",\"2014-09-14T00:00:00\",\"2014-10-14T00:00:00\",\"2014-11-14T00:00:00\",\"2014-12-14T00:00:00\",\"2015-01-14T00:00:00\",\"2015-02-14T00:00:00\",\"2015-03-14T00:00:00\",\"2015-04-14T00:00:00\",\"2015-05-14T00:00:00\",\"2015-06-14T00:00:00\",\"2015-07-14T00:00:00\",\"2015-08-14T00:00:00\",\"2015-09-14T00:00:00\",\"2015-10-14T00:00:00\",\"2015-11-14T00:00:00\",\"2015-12-14T00:00:00\",\"2016-01-14T00:00:00\",\"2016-02-14T00:00:00\",\"2016-03-14T00:00:00\",\"2016-04-14T00:00:00\",\"2016-05-14T00:00:00\",\"2016-06-14T00:00:00\",\"2016-07-14T00:00:00\",\"2016-08-14T00:00:00\",\"2016-09-14T00:00:00\",\"2016-10-14T00:00:00\",\"2016-11-14T00:00:00\",\"2016-12-14T00:00:00\",\"2017-01-14T00:00:00\",\"2017-02-14T00:00:00\",\"2017-03-14T00:00:00\",\"2017-04-14T00:00:00\",\"2017-05-14T00:00:00\",\"2017-06-14T00:00:00\",\"2017-07-14T00:00:00\",\"2017-08-14T00:00:00\",\"2017-09-14T00:00:00\",\"2017-10-14T00:00:00\",\"2017-11-14T00:00:00\",\"2017-12-14T00:00:00\",\"2018-01-14T00:00:00\",\"2018-02-14T00:00:00\",\"2018-03-14T00:00:00\",\"2018-04-14T00:00:00\",\"2018-05-14T00:00:00\",\"2018-06-14T00:00:00\",\"2018-07-14T00:00:00\",\"2018-08-14T00:00:00\",\"2018-09-14T00:00:00\",\"2018-10-14T00:00:00\",\"2018-11-14T00:00:00\",\"2018-12-14T00:00:00\",\"2019-01-14T00:00:00\",\"2019-02-14T00:00:00\",\"2019-03-14T00:00:00\",\"2019-04-14T00:00:00\",\"2019-05-14T00:00:00\",\"2019-06-14T00:00:00\",\"2019-07-14T00:00:00\",\"2019-08-14T00:00:00\",\"2019-09-14T00:00:00\",\"2019-10-14T00:00:00\",\"2019-11-14T00:00:00\",\"2019-12-14T00:00:00\",\"2020-01-14T00:00:00\",\"2020-02-14T00:00:00\",\"2020-03-14T00:00:00\",\"2020-04-14T00:00:00\",\"2020-05-14T00:00:00\",\"2020-06-14T00:00:00\",\"2020-07-14T00:00:00\",\"2020-08-14T00:00:00\",\"2020-09-14T00:00:00\",\"2020-10-14T00:00:00\",\"2020-11-14T00:00:00\",\"2020-12-14T00:00:00\",\"2021-01-14T00:00:00\",\"2021-02-14T00:00:00\",\"2021-03-14T00:00:00\",\"2021-04-14T00:00:00\",\"2021-05-14T00:00:00\",\"2021-06-14T00:00:00\",\"2021-07-14T00:00:00\",\"2021-08-14T00:00:00\",\"2021-09-14T00:00:00\",\"2021-10-14T00:00:00\",\"2021-11-14T00:00:00\",\"2021-12-14T00:00:00\",\"2022-01-14T00:00:00\",\"2022-02-14T00:00:00\",\"2022-03-14T00:00:00\"],\"xaxis\":\"x\",\"y\":[75.83,77.51,79.52,83.97,90.91,92.61,85.71,86.16,88.96,88.29,89.95,94.87,90.74,87.11,83.74,84.13,86.28,87.0,83.2,74.4,73.97,79.65,86.01,84.57,86.44,83.86,85.93,88.54,83.83,79.46,81.52,79.49,83.93,85.56,85.01,82.79,83.07,85.07,83.07,83.91,83.16,82.81,83.13,84.12,83.05,81.63,80.88,76.31,71.37,65.59,52.4,55.75,57.21,59.24,61.78,62.74,57.98,52.58,56.04,54.8,53.2,46.13,39.62,42.15,43.96,46.98,50.8,61.45,62.48,59.1,58.71,62.16,63.56,63.44,67.19,61.96,64.38,65.28,65.35,62.56,63.42,64.36,66.18,71.23,71.42,74.78,76.75,77.45,76.72,78.22,78.22,85.73,84.95,97.7,108.84,111.83,105.22,101.7,96.5,99.46,102.22,104.62,104.28,101.97,103.95,100.64,101.08,104.06,102.31,103.95,102.69,95.46,77.28,79.77,62.46,65.45,83.65,83.15,83.73,81.63,83.56,87.12,92.44,97.85,97.85,97.85,97.85,97.85,97.85,110.82,103.54,103.54,103.54,103.54,103.54,103.54],\"yaxis\":\"y\",\"type\":\"scatter\"}],                        {\"template\":{\"data\":{\"histogram2dcontour\":[{\"type\":\"histogram2dcontour\",\"colorbar\":{\"outlinewidth\":0,\"ticks\":\"\"},\"colorscale\":[[0.0,\"#0d0887\"],[0.1111111111111111,\"#46039f\"],[0.2222222222222222,\"#7201a8\"],[0.3333333333333333,\"#9c179e\"],[0.4444444444444444,\"#bd3786\"],[0.5555555555555556,\"#d8576b\"],[0.6666666666666666,\"#ed7953\"],[0.7777777777777778,\"#fb9f3a\"],[0.8888888888888888,\"#fdca26\"],[1.0,\"#f0f921\"]]}],\"choropleth\":[{\"type\":\"choropleth\",\"colorbar\":{\"outlinewidth\":0,\"ticks\":\"\"}}],\"histogram2d\":[{\"type\":\"histogram2d\",\"colorbar\":{\"outlinewidth\":0,\"ticks\":\"\"},\"colorscale\":[[0.0,\"#0d0887\"],[0.1111111111111111,\"#46039f\"],[0.2222222222222222,\"#7201a8\"],[0.3333333333333333,\"#9c179e\"],[0.4444444444444444,\"#bd3786\"],[0.5555555555555556,\"#d8576b\"],[0.6666666666666666,\"#ed7953\"],[0.7777777777777778,\"#fb9f3a\"],[0.8888888888888888,\"#fdca26\"],[1.0,\"#f0f921\"]]}],\"heatmap\":[{\"type\":\"heatmap\",\"colorbar\":{\"outlinewidth\":0,\"ticks\":\"\"},\"colorscale\":[[0.0,\"#0d0887\"],[0.1111111111111111,\"#46039f\"],[0.2222222222222222,\"#7201a8\"],[0.3333333333333333,\"#9c179e\"],[0.4444444444444444,\"#bd3786\"],[0.5555555555555556,\"#d8576b\"],[0.6666666666666666,\"#ed7953\"],[0.7777777777777778,\"#fb9f3a\"],[0.8888888888888888,\"#fdca26\"],[1.0,\"#f0f921\"]]}],\"heatmapgl\":[{\"type\":\"heatmapgl\",\"colorbar\":{\"outlinewidth\":0,\"ticks\":\"\"},\"colorscale\":[[0.0,\"#0d0887\"],[0.1111111111111111,\"#46039f\"],[0.2222222222222222,\"#7201a8\"],[0.3333333333333333,\"#9c179e\"],[0.4444444444444444,\"#bd3786\"],[0.5555555555555556,\"#d8576b\"],[0.6666666666666666,\"#ed7953\"],[0.7777777777777778,\"#fb9f3a\"],[0.8888888888888888,\"#fdca26\"],[1.0,\"#f0f921\"]]}],\"contourcarpet\":[{\"type\":\"contourcarpet\",\"colorbar\":{\"outlinewidth\":0,\"ticks\":\"\"}}],\"contour\":[{\"type\":\"contour\",\"colorbar\":{\"outlinewidth\":0,\"ticks\":\"\"},\"colorscale\":[[0.0,\"#0d0887\"],[0.1111111111111111,\"#46039f\"],[0.2222222222222222,\"#7201a8\"],[0.3333333333333333,\"#9c179e\"],[0.4444444444444444,\"#bd3786\"],[0.5555555555555556,\"#d8576b\"],[0.6666666666666666,\"#ed7953\"],[0.7777777777777778,\"#fb9f3a\"],[0.8888888888888888,\"#fdca26\"],[1.0,\"#f0f921\"]]}],\"surface\":[{\"type\":\"surface\",\"colorbar\":{\"outlinewidth\":0,\"ticks\":\"\"},\"colorscale\":[[0.0,\"#0d0887\"],[0.1111111111111111,\"#46039f\"],[0.2222222222222222,\"#7201a8\"],[0.3333333333333333,\"#9c179e\"],[0.4444444444444444,\"#bd3786\"],[0.5555555555555556,\"#d8576b\"],[0.6666666666666666,\"#ed7953\"],[0.7777777777777778,\"#fb9f3a\"],[0.8888888888888888,\"#fdca26\"],[1.0,\"#f0f921\"]]}],\"mesh3d\":[{\"type\":\"mesh3d\",\"colorbar\":{\"outlinewidth\":0,\"ticks\":\"\"}}],\"scatter\":[{\"fillpattern\":{\"fillmode\":\"overlay\",\"size\":10,\"solidity\":0.2},\"type\":\"scatter\"}],\"parcoords\":[{\"type\":\"parcoords\",\"line\":{\"colorbar\":{\"outlinewidth\":0,\"ticks\":\"\"}}}],\"scatterpolargl\":[{\"type\":\"scatterpolargl\",\"marker\":{\"colorbar\":{\"outlinewidth\":0,\"ticks\":\"\"}}}],\"bar\":[{\"error_x\":{\"color\":\"#2a3f5f\"},\"error_y\":{\"color\":\"#2a3f5f\"},\"marker\":{\"line\":{\"color\":\"#E5ECF6\",\"width\":0.5},\"pattern\":{\"fillmode\":\"overlay\",\"size\":10,\"solidity\":0.2}},\"type\":\"bar\"}],\"scattergeo\":[{\"type\":\"scattergeo\",\"marker\":{\"colorbar\":{\"outlinewidth\":0,\"ticks\":\"\"}}}],\"scatterpolar\":[{\"type\":\"scatterpolar\",\"marker\":{\"colorbar\":{\"outlinewidth\":0,\"ticks\":\"\"}}}],\"histogram\":[{\"marker\":{\"pattern\":{\"fillmode\":\"overlay\",\"size\":10,\"solidity\":0.2}},\"type\":\"histogram\"}],\"scattergl\":[{\"type\":\"scattergl\",\"marker\":{\"colorbar\":{\"outlinewidth\":0,\"ticks\":\"\"}}}],\"scatter3d\":[{\"type\":\"scatter3d\",\"line\":{\"colorbar\":{\"outlinewidth\":0,\"ticks\":\"\"}},\"marker\":{\"colorbar\":{\"outlinewidth\":0,\"ticks\":\"\"}}}],\"scattermapbox\":[{\"type\":\"scattermapbox\",\"marker\":{\"colorbar\":{\"outlinewidth\":0,\"ticks\":\"\"}}}],\"scatterternary\":[{\"type\":\"scatterternary\",\"marker\":{\"colorbar\":{\"outlinewidth\":0,\"ticks\":\"\"}}}],\"scattercarpet\":[{\"type\":\"scattercarpet\",\"marker\":{\"colorbar\":{\"outlinewidth\":0,\"ticks\":\"\"}}}],\"carpet\":[{\"aaxis\":{\"endlinecolor\":\"#2a3f5f\",\"gridcolor\":\"white\",\"linecolor\":\"white\",\"minorgridcolor\":\"white\",\"startlinecolor\":\"#2a3f5f\"},\"baxis\":{\"endlinecolor\":\"#2a3f5f\",\"gridcolor\":\"white\",\"linecolor\":\"white\",\"minorgridcolor\":\"white\",\"startlinecolor\":\"#2a3f5f\"},\"type\":\"carpet\"}],\"table\":[{\"cells\":{\"fill\":{\"color\":\"#EBF0F8\"},\"line\":{\"color\":\"white\"}},\"header\":{\"fill\":{\"color\":\"#C8D4E3\"},\"line\":{\"color\":\"white\"}},\"type\":\"table\"}],\"barpolar\":[{\"marker\":{\"line\":{\"color\":\"#E5ECF6\",\"width\":0.5},\"pattern\":{\"fillmode\":\"overlay\",\"size\":10,\"solidity\":0.2}},\"type\":\"barpolar\"}],\"pie\":[{\"automargin\":true,\"type\":\"pie\"}]},\"layout\":{\"autotypenumbers\":\"strict\",\"colorway\":[\"#636efa\",\"#EF553B\",\"#00cc96\",\"#ab63fa\",\"#FFA15A\",\"#19d3f3\",\"#FF6692\",\"#B6E880\",\"#FF97FF\",\"#FECB52\"],\"font\":{\"color\":\"#2a3f5f\"},\"hovermode\":\"closest\",\"hoverlabel\":{\"align\":\"left\"},\"paper_bgcolor\":\"white\",\"plot_bgcolor\":\"#E5ECF6\",\"polar\":{\"bgcolor\":\"#E5ECF6\",\"angularaxis\":{\"gridcolor\":\"white\",\"linecolor\":\"white\",\"ticks\":\"\"},\"radialaxis\":{\"gridcolor\":\"white\",\"linecolor\":\"white\",\"ticks\":\"\"}},\"ternary\":{\"bgcolor\":\"#E5ECF6\",\"aaxis\":{\"gridcolor\":\"white\",\"linecolor\":\"white\",\"ticks\":\"\"},\"baxis\":{\"gridcolor\":\"white\",\"linecolor\":\"white\",\"ticks\":\"\"},\"caxis\":{\"gridcolor\":\"white\",\"linecolor\":\"white\",\"ticks\":\"\"}},\"coloraxis\":{\"colorbar\":{\"outlinewidth\":0,\"ticks\":\"\"}},\"colorscale\":{\"sequential\":[[0.0,\"#0d0887\"],[0.1111111111111111,\"#46039f\"],[0.2222222222222222,\"#7201a8\"],[0.3333333333333333,\"#9c179e\"],[0.4444444444444444,\"#bd3786\"],[0.5555555555555556,\"#d8576b\"],[0.6666666666666666,\"#ed7953\"],[0.7777777777777778,\"#fb9f3a\"],[0.8888888888888888,\"#fdca26\"],[1.0,\"#f0f921\"]],\"sequentialminus\":[[0.0,\"#0d0887\"],[0.1111111111111111,\"#46039f\"],[0.2222222222222222,\"#7201a8\"],[0.3333333333333333,\"#9c179e\"],[0.4444444444444444,\"#bd3786\"],[0.5555555555555556,\"#d8576b\"],[0.6666666666666666,\"#ed7953\"],[0.7777777777777778,\"#fb9f3a\"],[0.8888888888888888,\"#fdca26\"],[1.0,\"#f0f921\"]],\"diverging\":[[0,\"#8e0152\"],[0.1,\"#c51b7d\"],[0.2,\"#de77ae\"],[0.3,\"#f1b6da\"],[0.4,\"#fde0ef\"],[0.5,\"#f7f7f7\"],[0.6,\"#e6f5d0\"],[0.7,\"#b8e186\"],[0.8,\"#7fbc41\"],[0.9,\"#4d9221\"],[1,\"#276419\"]]},\"xaxis\":{\"gridcolor\":\"white\",\"linecolor\":\"white\",\"ticks\":\"\",\"title\":{\"standoff\":15},\"zerolinecolor\":\"white\",\"automargin\":true,\"zerolinewidth\":2},\"yaxis\":{\"gridcolor\":\"white\",\"linecolor\":\"white\",\"ticks\":\"\",\"title\":{\"standoff\":15},\"zerolinecolor\":\"white\",\"automargin\":true,\"zerolinewidth\":2},\"scene\":{\"xaxis\":{\"backgroundcolor\":\"#E5ECF6\",\"gridcolor\":\"white\",\"linecolor\":\"white\",\"showbackground\":true,\"ticks\":\"\",\"zerolinecolor\":\"white\",\"gridwidth\":2},\"yaxis\":{\"backgroundcolor\":\"#E5ECF6\",\"gridcolor\":\"white\",\"linecolor\":\"white\",\"showbackground\":true,\"ticks\":\"\",\"zerolinecolor\":\"white\",\"gridwidth\":2},\"zaxis\":{\"backgroundcolor\":\"#E5ECF6\",\"gridcolor\":\"white\",\"linecolor\":\"white\",\"showbackground\":true,\"ticks\":\"\",\"zerolinecolor\":\"white\",\"gridwidth\":2}},\"shapedefaults\":{\"line\":{\"color\":\"#2a3f5f\"}},\"annotationdefaults\":{\"arrowcolor\":\"#2a3f5f\",\"arrowhead\":0,\"arrowwidth\":1},\"geo\":{\"bgcolor\":\"white\",\"landcolor\":\"#E5ECF6\",\"subunitcolor\":\"white\",\"showland\":true,\"showlakes\":true,\"lakecolor\":\"white\"},\"title\":{\"x\":0.05},\"mapbox\":{\"style\":\"light\"}}},\"xaxis\":{\"anchor\":\"y\",\"domain\":[0.0,1.0],\"title\":{\"text\":\"Date\"}},\"yaxis\":{\"anchor\":\"x\",\"domain\":[0.0,1.0],\"title\":{\"text\":\"value\"}},\"legend\":{\"title\":{\"text\":\"variable\"},\"tracegroupgap\":0},\"title\":{\"text\":\"Exrate\"}},                        {\"responsive\": true}                    ).then(function(){\n",
       "                            \n",
       "var gd = document.getElementById('32984a1e-e1ed-467f-af9a-761200797e3a');\n",
       "var x = new MutationObserver(function (mutations, observer) {{\n",
       "        var display = window.getComputedStyle(gd).display;\n",
       "        if (!display || display === 'none') {{\n",
       "            console.log([gd, 'removed!']);\n",
       "            Plotly.purge(gd);\n",
       "            observer.disconnect();\n",
       "        }}\n",
       "}});\n",
       "\n",
       "// Listen for the removal of the full notebook cells\n",
       "var notebookContainer = gd.closest('#notebook-container');\n",
       "if (notebookContainer) {{\n",
       "    x.observe(notebookContainer, {childList: true});\n",
       "}}\n",
       "\n",
       "// Listen for the clearing of the current output cell\n",
       "var outputEl = gd.closest('.output');\n",
       "if (outputEl) {{\n",
       "    x.observe(outputEl, {childList: true});\n",
       "}}\n",
       "\n",
       "                        })                };                });            </script>        </div>"
      ]
     },
     "metadata": {},
     "output_type": "display_data"
    }
   ],
   "source": [
    "# plotly\n",
    "px.line(dt,x = \"Date\",y =[\"petrol\",\"diesel\",\"kerosene\"],title = \"Exrate\")"
   ]
  },
  {
   "cell_type": "code",
   "execution_count": null,
   "id": "d3342ba1",
   "metadata": {},
   "outputs": [],
   "source": []
  }
 ],
 "metadata": {
  "kernelspec": {
   "display_name": "Python 3 (ipykernel)",
   "language": "python",
   "name": "python3"
  },
  "language_info": {
   "codemirror_mode": {
    "name": "ipython",
    "version": 3
   },
   "file_extension": ".py",
   "mimetype": "text/x-python",
   "name": "python",
   "nbconvert_exporter": "python",
   "pygments_lexer": "ipython3",
   "version": "3.10.4"
  }
 },
 "nbformat": 4,
 "nbformat_minor": 5
}
