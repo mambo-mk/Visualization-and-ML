{
 "cells": [
  {
   "cell_type": "code",
   "execution_count": null,
   "id": "4700d115",
   "metadata": {},
   "outputs": [],
   "source": [
    "expenses = {\n",
    "    \"Transport\":[300, 300, 0, 0, 200, 400, 0, 0, 0, 100, 300, 0, 0, 300, 400, 0, 200, 0, 0, 300, 300, 0, 0, 300, 0, 200, 400, 300, 0, 200],\n",
    "    \"Airtime\":[20, 50, 50, 100, 120, 0, 50, 20, 30, 100, 50, 150, 20, 0, 20, 100, 50, 30, 0, 30, 100, 50, 150, 50, 20, 0, 30, 100, 30, 50],\n",
    "    \"dates\":[0, 0, 0, 0, 0, 2000, 0, 0, 0, 0, 0, 0, 0, 0, 0, 0, 0, 0, 0, 3000, 0, 0, 0, 0, 0, 0, 0, 0, 0, 0],\n",
    "    \"Food\":[0, 0, 100, 0, 300, 0, 250, 0, 0, 150, 200, 0, 150, 0, 350, 0, 200, 0, 0, 150, 0, 0, 0, 500, 0, 150, 0, 600, 0, 0],\n",
    "    \"Entertainment\":[0, 0, 0, 0, 1000, 1500, 400, 0, 0, 0, 0, 0, 2000, 200, 0, 0, 0, 500, 0, 0, 1000, 0, 0, 0, 0, 600, 3000, 0, 0, 0],\n",
    "    \"Traveling\":[0, 0, 0, 0, 500, 0, 1000, 0, 0, 0, 0, 0, 1000, 2000, 0, 0, 0, 0, 2500, 0, 0, 0, 0, 500, 0, 0, 0, 500, 0, 0],\n",
    "    \"Clothing\":[0, 0, 0, 0, 0, 0, 0, 0, 0, 800, 0, 0, 0, 0, 0, 0, 0, 0, 0, 2000, 0, 0, 0, 0, 0, 0, 0, 0, 500, 0] \n",
    "}"
   ]
  }
 ],
 "metadata": {
  "kernelspec": {
   "display_name": "Python 3 (ipykernel)",
   "language": "python",
   "name": "python3"
  },
  "language_info": {
   "codemirror_mode": {
    "name": "ipython",
    "version": 3
   },
   "file_extension": ".py",
   "mimetype": "text/x-python",
   "name": "python",
   "nbconvert_exporter": "python",
   "pygments_lexer": "ipython3",
   "version": "3.10.4"
  }
 },
 "nbformat": 4,
 "nbformat_minor": 5
}
